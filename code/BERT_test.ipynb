{
 "cells": [
  {
   "cell_type": "code",
   "execution_count": 21,
   "metadata": {},
   "outputs": [],
   "source": [
    "from IPython.display import HTML, display\n",
    "\n",
    "def set_css():\n",
    "  display(HTML('''\n",
    "  \n",
    "  '''))\n",
    "\n",
    "get_ipython().events.register('pre_run_cell', set_css)"
   ]
  },
  {
   "cell_type": "code",
   "execution_count": 2,
   "metadata": {},
   "outputs": [],
   "source": [
    "import pandas as pd\n",
    "import torch\n",
    "from datasets import load_from_disk\n",
    "from transformers import BertTokenizer, BertModel"
   ]
  },
  {
   "cell_type": "code",
   "execution_count": 7,
   "metadata": {},
   "outputs": [],
   "source": [
    "dataset_path = '../data/block0'\n",
    "\n",
    "block0 = load_from_disk(dataset_path)"
   ]
  },
  {
   "cell_type": "code",
   "execution_count": 13,
   "metadata": {},
   "outputs": [],
   "source": [
    "train_dataset = block0['train']\n",
    "num_examples_to_view = 5\n",
    "example_text = train_dataset.select(range(num_examples_to_view))['Title']\n"
   ]
  },
  {
   "cell_type": "code",
   "execution_count": 32,
   "metadata": {},
   "outputs": [
    {
     "data": {
      "text/html": [
       "\n",
       "  \n",
       "  "
      ],
      "text/plain": [
       "<IPython.core.display.HTML object>"
      ]
     },
     "metadata": {},
     "output_type": "display_data"
    },
    {
     "data": {
      "text/plain": [
       "['Wynn Las Vegas files lawsuit after Labor Day weekend violence at property S&P 500 News: Amazon Leads Big Tech Stock Sell-Off, Wiping Out Broad Gains in Other Sectors 5 Stock Market Warning Signals For Fall 2020 Oracle Analysts On The Sidelines After Q1 Beat: BofA Awaits Sustained Revenue Acceleration Kroger CEO sees prices stabilizing, cooking demand lasting: Our customers \\'actually enjoy it\\' Bitcoin on Ethereum Is Booming: Closing In on $1 Billion in Value Walmart Plus: What you need to know about the new service Senate Democrats urge Amazon to recall, stop sales of explosive products Kia, Hyundai announce another recall for an engine fire risk affecting nearly 189K vehicles Defected casino exec must return phone with high-roller info Shares of Tesla rival Nikola crater after ‘fraud’ accusation Utah reports its highest daily number of new COVID-19 cases since July This powerful Budweiser 9/11 tribute commercial aired only once Oracle Highlights Zoom Video as Top Cloud Computing Customer IT ONLY AIRED ONCE: Budweiser\\'s iconic Clydesdales pay tribute to 9/11 in Super Bowl ad Beleaguered Bakery Chain Maison Kayser Files for Bankruptcy Trump praises JPMorgan Chase for ordering workers back to office Facebook appealing order by Ireland’s privacy regulator that could halt EU-US data transfers Video shows plane passenger punch woman in alleged racial attack Largest container ship ever docked along east coast arrives in NJ Gilead is getting closer to a deal to buy Immunomedics for more than $20 billion Work from home: Amazon’s 33,000 openings averaging $150,000 in pay to begin as remote jobs U.S Mortgage Rates Slide to Another Record Low Ahead of This Week’s FOMC Pay up, NJ! Toll hikes take effect on state\\'s 3 major highways XRP Set to Outperform Ethereum When Bitcoin Reclaims This Key Level, Says Top Analyst United Airlines sued for staffing NFL charters with young, blond crews MTA imposes $50 fine for NYC transit riders with no mask Ohio Investigative Unit cites four businesses for violating COVID-19 health orders United Airlines uses young, blond female crew for sports teams: suit Work from home: Amazon’s 33,000 openings averaging $150,000 in pay to begin as remote jobs Gilead nears deal to buy Immunomedics for more than $20 billion, WSJ reports AstraZeneca Resumes Covid Vaccine Trials After Independent Committee Approves Of Safety West Sonoma County school district launches consolidation feasibility study YouTube stars\\' account demonetized after they are accused of throwing parties amid pandemic A Shocking Number of High Earners Have No Retirement Savings Pay Up! Tolls Are Going Up on New Jersey\\'s 3 Main Highways Sunday More Smashed Windows Found On 7 Line Subway Car In Queens Nikola’s History of Discrepancies Has Been in Plain Sight Teachers Union President Seethes Over First Week Of Educators\\' Return To School 920 new COVID-19 cases reported, 91 in our central region on Sept. 12 Shhh -- Here\\'s the Secret to How Millions Can Pay No Tax on Stock Profits China willing to let TikTok die over Trump forcing a U.S. acquisition Elon Musk: Tesla Is About to Unveil \"Many Exciting Things\" Coronavirus vaccine trial resumes in U.K. after week-long pause Pfizer and BioNTech announce plan to expand Covid-19 vaccine trial Allegheny Co. Health Dept. Reports 57 New Coronavirus Cases, Bringing County Total To 11,126 Singapore Airlines May Launch Flights To Nowhere Pfizer proposes expansion of late-stage coronavirus vaccine trial New Jeep Grand Wagoneer Trackhawk Rendered, Production Rumors Grow AstraZeneca resumes UK trials of COVID-19 vaccine halted by patient illness AstraZeneca says trials of COVID vaccine resuming Astrazeneca Says Trials of COVID Vaccine Resuming Power restored to Westbank after 12,000 customer outage Where Will Walmart Be in 5 Years? Ethereum Fees Rise 70% to Continue Record-breaking Streak 3 Moves to Make and 1 Huge Mistake to Avoid if the Market Crashes Why the run of record-low mortgage rates may be ending Top Ripple Executive Says He Owns Bitcoin, XRP, Ethereum, and This Small-Cap Cryptocurrency Astra launch terminated during first-stage burn U.S. Budget Deficit Hits Record, Days After China Says It May Dump American Debt Rite Aid worker fired after asking customer to wear mask or leave Nevada unemployment department cutting ties with controversial call center Miami-Dade “Cruise Restart” Zoom Conference Turns Into Cheerleading Session Elon Musk Hypes up \"Battery Day\" on 9/22: Could Tesla have been Secretly Manufacturing Batteries As Well? Wynn Las Vegas files lawsuit after Labor Day weekend violence at property S&P 500 News: Amazon Leads Big Tech Stock Sell-Off, Wiping Out Broad Gains in Other Sectors 5 Stock Market Warning Signals For Fall 2020 Oracle Analysts On The Sidelines After Q1 Beat: BofA Awaits Sustained Revenue Acceleration New York City needs more neighborhoods in revolt against City Hall ByteDance rejects Microsoft\\'s bid for TikTok TikTok Has a Buyer at the 11th Hour: Report New Guidelines Issued on Medical Cannabis for Chronic Pain Big Tech’s India Plans Can’t Seem to Bypass Asia’s Richest Man BART restores full service after shutdown from ‘systemwide computer problem’ Altercation leads to deadly shooting near gas station and I-95 in Pompano Beach Fan Steals Travis Scott Meal Poster From a McDonald’s Window United blocks older crews from sports teams\\' charter flights, lawsuit claims NYC could lose $3B in federal aid over incomplete census forms Pfizer CEO: Company refused taxpayer money for COVID-19 vaccine development to \\'liberate our scientists\\' Pfizer CEO: Company refused taxpayer money for COVID-19 vaccine development to \\'liberate our scientists\\' With 200 Meat Plant Workers Dead, the Feds Issue 2 Fines Multiple Portland Whole Foods employees test positive for COVID-19, spokesperson says Pfizer and BioNTech Plan to Increase Size of Their Coronavirus Vaccine Clinical Trial Demand unlikely to recover until vaccine widely available Providence releases results of school inspections amid ventilation concerns Pfizer vaccine could be given to Americans before end of year, CEO says Nikola (NKLA) in Turmoil - What Should the Shareholders Now Expect Amid Allegations of Another Theranos in the Making? Bitcoin May Soon Push Higher After Taking Out Key Liquidity Levels Maine Whole Foods employees test positive for coronavirus The 2021 Social Security COLA Will Be Disappointing -- but at Least There\\'ll Be One Coronavirus: Why was the AstraZeneca vaccine trial stopped? All BART stations back online after computer issue canceled Sunday morning service Pfizer CEO \\'preparing\\' for likelihood of vaccine approval before end of year Harshmallow: Coronavirus Prompts Pause for Peeps Holiday Treats Week Ahead - More Stimulus On The Way? These Mistakes Will Take a Huge Bite Out of Your Social Security Income NLE Choppa Tells People To \"Put Them Travis Scott Burgers Down\" Delta Flight Returns to Gate, Removes Passenger Refusing to Wear Mask How to avoid falling for fraud After 200 meat plant workers die of covid-19, OSHA issues two fines Does It Really Matter When You Claim Social Security Benefits? Why It\\'s Unlikely Warren Buffett Is Actually Investing In Snowflake The luxury sector is going to be hard hit for years: Former LVMH exec Bitcoin Analyst Says XRP Will Annihilate Almost Every Other Altcoin - Here\\'s Why Data Shows That Workers Are Waiting Much Too Long to Start Saving for Retirement Warren Buffett In September: 44 Equities Yield 7 Buy-And-Hold Dividend Picks Reaching This Milestone Means Lower Taxes on Apple or Tesla Gains Motorcyclist killed in crash on I-70 in east Columbus Social Security May Run Out of Money Sooner Than Expected Gilead Sciences Close To Inking $20B Immunomedics Deal- Report Once an American foe, now a friend: OPEC turns 60 Tesla\\'s Autopilot Needs to Be Fixed. Period Traders Flip Short on Chainlink as It Flashes Some Major Warning Signs With travel limited, plane cafes take off in Thailand One man dead, two injured in shooting at RiffHouse Pub in Chesapeake Racist Attack Targets Family At Top Golf Roseville, Police Say Tarrant County announces 11 COVID-19 deaths; Dallas County adds 165 coronavirus cases, six deaths Video shows plane passenger punch woman in alleged racial attack Game streaming now OK for iPhones, with big caveats Huawei might have revealed a key feature of Google’s Android replacement Spain Seeks to Tax Facebook, Google Services as Phone Carriers Xbox\\'s Phil Spencer revealed the Xbox Series S in July, but no one noticed Here\\'s How Gambit Is Changing In Destiny 2 Beyond Light Destiny 2 Details New Armor Coming to Playlists in Beyond Light Unreleased OnePlus phones Alexa Print arrives just before Google Cloud Print leaves Destiny 2 Crucible, Gambit, and Strikes changes coming to Beyond Light Big Anker accessory sale includes hybrid wall Motorola is still putting micro-USB ports on new phones in 2020 Developers Are \\'Exploited\\' by Apple and Google to \\'Further Their Monopoly\\' Borderlands 3\\'s Krieg DLC Underplays Its Biggest Selling Point Apple Gives Epic Games Users a Sign-In Reprieve PC and console EA games are coming to Android, thanks to Xbox Game Streaming Control’s PS4 owners get - then lose - Ultimate Edition granting next-gen upgrade ‘Tony Hawk’s Pro Skater’ Is Harder Than You Remember Immortals Fenyx Rising Preorder Guide: Price, Release Date, Discounts, And Special Editions PlayStation 5 Console-Exclusive Godfall Reveals $90 Ascended Edition, Borderlands Crossover DLC Borderlands 3 gets free next-gen upgrade for PS5 and Xbox Series X T-Mobile customers can now roam on Sprint\\'s former network Call Of Duty: Black Ops Cold War Beta Test - Dates, How To Access, And Platforms Ninja Returns To Twitch, Has Exclusive Multi-Year Deal Final Fantasy 7 Remake Part 2 Has to Overcome One Big Challenge with Cloud Prince Of Persia: Sands Of Time Remake Revealed During Ubisoft Forward Google \\'Pixel 5s\\' leak shows off speckled rear Here are the official PC requirements for Serious Sam 4 LineageOS now supports nearly every Pixel phone with Android 10 builds Twitch Legal Department Unpartners Destiny After \\'Encouragement of Violence\\' Google’s new Chromecast has a new name and a solidified low price 1967 Ford Mustang Shelby GT500 \"Carbon Edition\" Costs $300k Before Options Samsung\\'s Galaxy Buds+ true wireless earbuds are on sale under $100 today only Windows 10 Version 1903 support end is near (December 2020) Fortnite: Where is the Apple Vs. Epic Battle Heading? AMD\\'s Ryzen 4000 \\'Vermeer\" CPUs Featuring Next-Gen Zen 3 Cores Detailed In Leaked Documents Microsoft Surface Duo: Design and battery life are its best features The best Epic Games Store Games: Fortnite, Tony Hawk\\'s Pro Skater 1 + 2 and more Sony WH-1000XM4 review: Still the best, but not much better Control Deluxe Edition Players Get Ultimate Edition Upgrade, Then Have It Removed HarmonyOS 2.0 Beta Released, HarmonyOS Devices Coming in 2021 Huawei Preparing Automotive Offensive, New Company to Spearhead In-Car Push Fortnite bans Faze Jarvis live on Twitch for evading cheating ban PS5 and Xbox Series X: 3 reasons why I’m not buying (yet) Sabrina dongle could launch as \\'Chromecast with Google TV\\' 705-HP Ares S Project Is A C8 Corvette With Supercar Clothing Leafy Permanently Banned on Twitch Shortly After Being Banned on YouTube Game streaming now OK for iPhones, with big caveats Huawei might have revealed a key feature of Google’s Android replacement Spain Seeks to Tax Facebook, Google Services as Phone Carriers Xbox\\'s Phil Spencer revealed the Xbox Series S in July, but no one noticed Here\\'s How Gambit Is Changing In Destiny 2 Beyond Light Destiny 2 Details New Armor Coming to Playlists in Beyond Light Unreleased OnePlus phones Alexa Print arrives just before Google Cloud Print leaves Destiny 2 Crucible, Gambit, and Strikes changes coming to Beyond Light Big Anker accessory sale includes hybrid wall Motorola is still putting micro-USB ports on new phones in 2020 Developers Are \\'Exploited\\' by Apple and Google to \\'Further Their Monopoly\\' Borderlands 3\\'s Krieg DLC Underplays Its Biggest Selling Point Apple Gives Epic Games Users a Sign-In Reprieve PC and console EA games are coming to Android, thanks to Xbox Game Streaming Control’s PS4 owners get - then lose - Ultimate Edition granting next-gen upgrade ‘Tony Hawk’s Pro Skater’ Is Harder Than You Remember Immortals Fenyx Rising Preorder Guide: Price, Release Date, Discounts, And Special Editions Elon Musk\\'s Neuralink brain chip could do wonders for animal testing and neuroscience Nintendo Switch Pro Model May Not Fix the Console\\'s Biggest Issues Ghost Recon Breakpoint: Red Patriot Trailer Shows Off New Enemy and More Updates The Legend of Zelda: 5 Things We Hope to Learn in Age of Calamity Final Fantasy Reveal Coming At PS5 Showcase, Deleted Tweet Suggests Update: Dragon Ball FighterZ Show livestream to breakdown Master Roshi, reveal the next balance patch and National Championship info Take A Look at Hyrule Castle 100 Years Before Breath of the Wild Call of Duty Champion Crimsix Says Shotguns Do Not Belong in Video Games Borderlands 3 Is Getting Another Paid DLC, Cross-Play, Splitscreen and 4K@60FPS on Next-Gen Final Fantasy 16 Will Be Unveiled Soon as Timed PS5 Exclusive Charles Barkley Explains Why He isn\\'t in NBA 2K Apple One bundle, long rumored, would cheer Wall Street Forget the Galaxy Z Fold 2 - the foldable iPhone Flip just leaked What\\'s the best email app for iPhone? [Updated for 2020] 3 Rock-Solid Dividend Stocks That You Can Buy and Hold Forever Microsoft’s First Android Device Truly Upgrades the Android Auto Experience Call of Duty: Modern Warfare Player Shows Unique View of Tactical Nuke Hunters capture video of rocket’s explosion on Kodiak Island CDC study: Do teens still vape? PlayStation 5 Console-Exclusive Godfall Reveals $90 Ascended Edition, Borderlands Crossover DLC Borderlands 3 gets free next-gen upgrade for PS5 and Xbox Series X T-Mobile customers can now roam on Sprint\\'s former network Call Of Duty: Black Ops Cold War Beta Test - Dates, How To Access, And Platforms Ninja Returns To Twitch, Has Exclusive Multi-Year Deal Final Fantasy 7 Remake Part 2 Has to Overcome One Big Challenge with Cloud Prince Of Persia: Sands Of Time Remake Revealed During Ubisoft Forward Google \\'Pixel 5s\\' leak shows off speckled rear Here are the official PC requirements for Serious Sam 4 LineageOS now supports nearly every Pixel phone with Android 10 builds Twitch Legal Department Unpartners Destiny After \\'Encouragement of Violence\\' Google’s new Chromecast has a new name and a solidified low price 1967 Ford Mustang Shelby GT500 \"Carbon Edition\" Costs $300k Before Options Samsung\\'s Galaxy Buds+ true wireless earbuds are on sale under $100 today only Windows 10 Version 1903 support end is near (December 2020) Fortnite: Where is the Apple Vs. Epic Battle Heading? AMD\\'s Ryzen 4000 \\'Vermeer\" CPUs Featuring Next-Gen Zen 3 Cores Detailed In Leaked Documents Microsoft Surface Duo: Design and battery life are its best features The best Epic Games Store Games: Fortnite, Tony Hawk\\'s Pro Skater 1 + 2 and more Sony WH-1000XM4 review: Still the best, but not much better Control Deluxe Edition Players Get Ultimate Edition Upgrade, Then Have It Removed HarmonyOS 2.0 Beta Released, HarmonyOS Devices Coming in 2021 Huawei Preparing Automotive Offensive, New Company to Spearhead In-Car Push Fortnite bans Faze Jarvis live on Twitch for evading cheating ban PS5 and Xbox Series X: 3 reasons why I’m not buying (yet) Sabrina dongle could launch as \\'Chromecast with Google TV\\' 705-HP Ares S Project Is A C8 Corvette With Supercar Clothing Leafy Permanently Banned on Twitch Shortly After Being Banned on YouTube Game streaming now OK for iPhones, with big caveats Huawei might have revealed a key feature of Google’s Android replacement Spain Seeks to Tax Facebook, Google Services as Phone Carriers This payment app scam could wipe out your bank account within minutes Facebook allows users to watch videos together online Final Fantasy XVI Will Reportedly Be Revealed at Sony\\'s Showcase Ed Boon Compares Xbox Series S to Lower-Priced iPhones; Could Very Well Become Microsoft’s Best-Selling Next-gen Console The Xbox Series S plays Xbox One S versions of Xbox One games Awesome Games Done Quick Officially Moves Online For 2021 Crash Bandicoot 4: It’s About Time Japanese live-action trailer An Assassin\\'s Creed Odyssey Bug Helped Inspire Immortals Fenyx Rising',\n",
       " '75 Texas Tech football players have tested positive for COVID-19 since testing began in June Facebook buying REI\\'s brand-new HQ for $368M Why Fastly Stock Surged Today Jim Cramer reveals playbook for Snowflake IPO: \\'It\\'s a great concept\\' Here\\'s some of the places Boston Sports Club owes money to Amazon to Hire 5,500 New Employees in Chicago Area, Signing Bonuses Offered What\\'s Behind Amazon\\'s Hiring Spree Ford Ranger Tremor: Meet the Midsize Off-Road Adventure Truck Snowflake Boosts Expected IPO Pricing Range Texas changes how it reports coronavirus positivity rate VA data breach exposes personal information for 46,000 veterans CenturyLink to Get a New Name Home Depot co-founder Arthur Blank on corporate profits, social change Hobby Lobby raises full-time hourly minimum wage to $17 New York City\\'s 2nd tallest office building unveiled at ceremony in Manhattan Taco Bell introduces Jalapeno Noir to its menu Why TikTok\\'s Oracle deal is a green light for advertisers to keep spending 5% of the U.S. corn crop has been picked, USDA says MTA And NYPD Begin Crackdown On Maskless Subway Riders Lead by example, bring staff back to office RGB Continues Work to Bring Better Smart Contracts to Bitcoin Moderna or BioNTech: J.P. Morgan Lays Odds On the Race to a COVID-19 Vaccine Jim Cramer: Is This Market Undervalued? Taco Bell Is Selling A Jalapeño Noir Red Wine Ikon Pass resorts not planning to require reservations for winter 2020-2021 Walmart+ membership \\'the first of 10 steps\\' needed to ramp up heavyweight Amazon rivalry Regulators prepare to reprimand Citigroup for failing to improve risk systems- WSJ Facebook buys REI’s new HQ for $367M, expanding Seattle-area footprint beyond 3M square feet Millennials are killing the ethnic aisle Citigroup about to get regulatory reprimand; shares sink 5% VA hit by data breach impacting 46,000 veterans GoodRx offers founders $500M, nets $100M investment from Silver Lake, and makes quiet acquisition before IPO Yes, McDonald’s Spicy McNuggets are worth the hype Pfizer Says It Could Know If Its COVID-19 Vaccine Candidate Works in October Anti-inflammatory drug may shorten COVID-19 recovery time Sheetz breaks ground for two locations in Columbus Manhattan\\'s newest $3billion office skyscraper opens up in Midtown What Is Travis Scott\\'s McDonald\\'s Order? Gilead Sciences And Immunomedics: Buy Post-Market Reaction DraftKings surges after announcing ESPN deal Amazon hiring 1,300 workers in South Florida Macy\\'s Thanksgiving Day Parade will be radically pared down due to coronavirus Didn\\'t receive a stimulus check? The IRS wants to help you. Pfizer Poised for Drop After 31% Rally Amid Covid Vaccine Push Stocks making the biggest moves midday: Oracle, Nvidia, Immunomedics, Overstock & more DraftKings and ESPN Enter into Co-Exclusive Content Integration Agreement Kroger CEO: COVID-19 pandemic has changed how we shop for food 3 Social Security Must-Knows After Getting Divorced NLE Choppa Tells Fans Put Down Travis Scott Burgers, Eat Healthy Attack on VA computer systems exposed personal information of about 46,000 veterans Intel Confirms Tiger Lake 10nm CPUs With 8 Cores & 16 Threads Launching Next Year All Eyes on Apple’s Product Announcement Event Where to buy NVIDIA RTX 30-series graphics cards New Xbox Series X & S Specs Revealed: Wi-FI, Weight, and What\\'s Included in the Box AMD Radeon Begins It\\'s RX 6000 Journey Early With Cooler Reveal Google Fiber to test faster service option in Huntsville Electronic Arts doubles down on EA Play brand with EA Desktop app OnePlus 8T renders look predictable, but this new spec detail is not Cuphead Toys Are in Arby’s Kids Meals Tony Hawk\\'s Pro Skater 1 + 2 Is the Fastest Selling Game in Franchise History Google Fiber will start testing \\'2 Gigabit Internet\\' for $100 Fake Counter-Strike: Global Offensive cheats troll hackers China beats Elon Musk’s SpaceX with floating spaceport in Pacific Ocean Hasbro Re-Releases Three Board Games For D&D, Clue, & Monopoly US Customs doubles down on OnePlus Buds seizure, says they violate Apple trademark Instagram isn’t planning to charge a fee to put links in captions Giant robotic scorpion could be the ultimate gaming computer rig with motorized tail UPDATE: Tesla NOT Developing Smartwatch With Partners Listen to the Supercharged V-8 Cadillac CT5-V Blackwing Exhaust How To Preorder Nvidia RTX 3090, 3080, 3070 Aaron Grissom Obituary: \"Top Chef\" contestant, dies in a traffic accident at 34 Facebook Launches \\'Watch Together\\' Feature GameStop Will Offer Payment Plans For Xbox Series X And PS5 How an NFL player’s mom got her own Madden cover Facebook Gaming will now allow partnered streamers to play copyrighted music Razer accidentally leaked the personal information for over 100,000 gamers, report says Bladed Fury for PS4, Xbox One, and Switch launches January 22, 2021 Samsung Galaxy Tab S6 picks up some Tab S7 goodies with One UI 2.5 Another Call Of Duty Cheat Site Shut Down By Activision Blizzard Xbox Game Pass September free games: Destiny 2, Halo 3: ODST New iPad Air and Apple Watch 6 at Apple\\'s Tuesday event, analyst says Videogame sales accelerate again in August, up 37% Here\\'s your first detailed look at the OnePlus 8T and its key specifications YouTube announces TikTok competitor in India, where TikTok is banned YouTube starts rolling out its TikTok competitor, YouTube Shorts Billie Eilish Guests on \\'An Oral History of The Office\\' Podcast: Exclusive First Look Xbox Series X And S Preorder Listings, Price, Xbox All Access, And More The LG Wing’s twisting screen offers a new spin on the dual-screen smartphone Halo 3: ODST coming to Master Chief Collection Sept. 22 Microsoft\\'s underwater data centre resurfaces after two years Nvidia: Ampere Killing It, Stock Getting Killed canon introduces the portable powershot zoom telescope camera 4 Files App Features You Should Be Using, But Aren\\'t Pandemic-proof Apple to kick off lineup for critical holiday season Apple rolls out virtual fitness service, subscription bundle, catering to pandemic work-from-home Spelunky 2 beginner’s guide Cuphead Gets His Own Fast Food Toy Line At Arby\\'s Restaurants Intel Confirms Tiger Lake 10nm CPUs With 8 Cores & 16 Threads Launching Next Year All Eyes on Apple’s Product Announcement Event Where to buy NVIDIA RTX 30-series graphics cards New Xbox Series X & S Specs Revealed: Wi-FI, Weight, and What\\'s Included in the Box AMD Radeon Begins It\\'s RX 6000 Journey Early With Cooler Reveal Google Fiber to test faster service option in Huntsville Electronic Arts doubles down on EA Play brand with EA Desktop app OnePlus 8T renders look predictable, but this new spec detail is not Cuphead Toys Are in Arby’s Kids Meals Tony Hawk\\'s Pro Skater 1 + 2 Is the Fastest Selling Game in Franchise History Google Fiber will start testing \\'2 Gigabit Internet\\' for $100 Fake Counter-Strike: Global Offensive cheats troll hackers China beats Elon Musk’s SpaceX with floating spaceport in Pacific Ocean Hasbro Re-Releases Three Board Games For D&D, Clue, & Monopoly US Customs doubles down on OnePlus Buds seizure, says they violate Apple trademark Instagram isn’t planning to charge a fee to put links in captions Giant robotic scorpion could be the ultimate gaming computer rig with motorized tail UPDATE: Tesla NOT Developing Smartwatch With Partners Listen to the Supercharged V-8 Cadillac CT5-V Blackwing Exhaust How To Preorder Nvidia RTX 3090, 3080, 3070 Aaron Grissom Obituary: \"Top Chef\" contestant, dies in a traffic accident at 34 Facebook Launches \\'Watch Together\\' Feature GameStop Will Offer Payment Plans For Xbox Series X And PS5 How an NFL player’s mom got her own Madden cover',\n",
       " \"Shares rally, dollar falls ahead of Fed meeting Will Amazon's new luxury online store be fashion's savior - or archenemy? Pfizer says coronavirus vaccine study shows mostly mild-to-moderate side effects Red Lobster is adding a Mountain Dew margarita to the menu Weakest Banks/Financials In The S&P 500 S&P 500 Gains 18 Points: Carnival Takes a Bath, Kraft Heinz Says Hold the Cheese, Apple Goes Even Bigger on Services Stock market news live updates: Stock futures drift higher as markets await Fed decision Novavax Doubling Coronavirus Vaccine Production Capacity With Expanded India Deal JPMorgan Sends Employees Home After Positive Covid Case Why Carnival, Royal Caribbean, and Norwegian Cruise Line Stocks Sank Today Novavax aims for 2 billion COVID-19 vaccine doses with expanded India deal 100,000 restaurants closed 6 months into the pandemic: survey Nvidia jumps on $40 billion chip deal; analysts expect tough scrutiny S&P 500 ends higher on growing hopes Fed will stay accommodative New York Sports Club Members Hit With Unexpected Charges As Company Files Bankruptcy TikTok will spin off into a separate company, partly owned by Oracle Novavax aims for 2 billion COVID-19 vaccine doses with expanded India deal Exclusive: GM explores market for electric 'flying cars' - sources FedEx profit, revenue beat as pandemic drives e-commerce bounce Stocks rise as tech leads broad gains 35,000 former ITT Tech students could see $330 million in private loans erased in new settlement Former students of defunct ITT Tech to receive $330 million in private student-loan forgiveness Chase Sapphire Preferred Offers 80,000-Point Bonus for Limited Time Crude Oil Prices Are Surging: It's Not Worth Investing In US poverty rate fell to 10.5 percent in 2019, marking fifth straight annual decline Nvidia Stock Will Soar 35% to $700, According to This Analyst Kraft Heinz looks to balance 'renovation and innovation' in portfolio Yuengling, America’s oldest brewer, will soon sell beer nationwide Incomes Hit a Record High and Poverty Reached a Record Low in 2019 JPMorgan Sends Some Traders Home After Worker Gets Covid-19 During the pandemic, private student loan borrowers see little relief Bitcoin CEO: MicroStrategy's Michael Saylor Explains His $425M Bet on BTC 100,000 Restaurants May Have Closed, According to Survey The Fed could could still move markets Wednesday even with rates on hold for the foreseeable Why Kraft Heinz Is Selling Multiple Cheese Brands for $3.2 Billion Peloton thinks it can grow to 100 million subscribers. Here's how Pfizer says coronavirus vaccine study shows mostly mild-to-moderate side effects Pfizer says late-stage coronavirus vaccine study shows moderate side effects Mark Cuban-Backed Crypto Firm Pays SEC $6M Fine for $31M ICO Cash Back and No Annual Fee Shark Tank's Daymond John on small business partnership with Lowe's Three of Pittsburgh’s most popular shopping centers will be closed on Thanksgiving Germany Awards $743 Million to BioNTech and CureVac for Coronavirus Vaccine Development Merger Monday Confirms An Active Stock Market - Buy Under-Appreciated Biotech US STOCKS-Wall Street climbs ahead of Apple event GM explores market for electric 'flying cars,' sources say Walmart+ launches with free 15-day trial How Costco makes billions by charging people to shop there EXCLUSIVE-GM explores market for electric 'flying cars' -sources Kraft Heinz to sell part of cheese business to Lactalis in $3.2 billion deal Link Bracelets or Cruelty-Free Leather? Get the Best Apple Watch Series 6 Bands Apple surprised iPhone users with a next-day iOS 14 release. App developers are pissed. Did Apple Just Preview the First Apple Silicon Mac? Apple is still bundling a power adapter with new Apple Watch Edition and Hermès Finally! Your Kids Don't Need an iPhone to Use Apple Watch New American Girl doll Courtney is a gamer from the 1980s Testing a multi-monitor extended display setup on a Chromebook [VIDEO] Google Duo for Android regains screen sharing 'A legitimization of fitness content' Apple goes all in with subscriptions with new Fitness+ product and Apple One bundle Apple unveils iPad 8 for $329 and iPad Air 4 for $599 Apple will release iOS 14 and iPadOS 14 on September 16th Apple One bundles iCloud, Music, TV+, Arcade, News+ and Fitness+ for $30 a month Charlize Theron lists charming bungalow in the heart of West Hollywood for $1.8M Amnesia: Rebirth arrives just in time for Halloween GameStop Announces Trade-In Offers For The Xbox Series S & X Xbox Series X/S Doesn’t Offer WiFi 6 or a USB-C Port Like the PlayStation 5 Does Apple Ends Barclays Credit-Card Partnership Ahead of New Devices Nintendo Switch update bans words like coronavirus and ACAB Fortnite continues concert series with Anderson .Paak Prime Day just came early thanks to Amazon’s 16-inch MacBook Pro blowout sale How to watch Connect, Facebook and Oculus’ big AR/VR event Apple: 'Fortnite' interest fading, Epic Games using lawsuit for hype PlayStation 5: All The Confirmed PS5 Launch Games And Release Dates Fire Emblem: Mystery Of The Emblem Joins Japan's Switch Online Service This Month Spotify criticizes new Apple services bundle on antitrust grounds The best sideloaded apps for Android you can't find in Google Play Singapore to Pay Citizens for Keeping Healthy With Apple Watch Nintendo Expands Its Switch Online SNES And NES Service With Four More Titles Apple posts ASL translation of its ‘Time Flies’ event New software update will ‘transform the core experience of iPhone,’ Apple says How Micron's GDDR6X memory is the secret to unlocking 4K on Nvidia's RTX 30-series cards Razer takes iPhone gaming to new level with Kishi MFi controller Link Bracelets or Cruelty-Free Leather? Get the Best Apple Watch Series 6 Bands Apple surprised iPhone users with a next-day iOS 14 release. App developers are pissed. Did Apple Just Preview the First Apple Silicon Mac? Apple is still bundling a power adapter with new Apple Watch Edition and Hermès Finally! Your Kids Don't Need an iPhone to Use Apple Watch New American Girl doll Courtney is a gamer from the 1980s Testing a multi-monitor extended display setup on a Chromebook [VIDEO] Google Duo for Android regains screen sharing 'A legitimization of fitness content' Apple goes all in with subscriptions with new Fitness+ product and Apple One bundle Apple unveils iPad 8 for $329 and iPad Air 4 for $599 Apple will release iOS 14 and iPadOS 14 on September 16th Apple One bundles iCloud, Music, TV+, Arcade, News+ and Fitness+ for $30 a month Charlize Theron lists charming bungalow in the heart of West Hollywood for $1.8M Amnesia: Rebirth arrives just in time for Halloween GameStop Announces Trade-In Offers For The Xbox Series S & X Xbox Series X/S Doesn’t Offer WiFi 6 or a USB-C Port Like the PlayStation 5 Does Apple Ends Barclays Credit-Card Partnership Ahead of New Devices\",\n",
       " \"'Take your masks off': mask-less protesters march through Target Fed leaves rates unchanged - Three experts on what that means 'Maskless flash mob' held at Florida Target Lost Wages Assistance program benefits on the way, SCDEW says Kraken Will Be First US Crypto Bank. Here’s Why It Matters New at-home COVID-19 test can produce results in 15 minutes Duke-solar industry breakthrough settlement aims to end rooftop solar cost shift debates Why Carnival Corporation, Royal Caribbean, and Norwegian Cruise Line Holdings Stocks Bounced Back Wednesday Shapes of Recovery: When Will the Global Economy Bounce Back? NYC Restaurants Will Soon Be Able to Add Up to 10 Percent Surcharge to Diners’ Bills GE ‘s Upbeat Cash View Clashes With CEO Pay Deal Airlines, labor unions again push for another $25 billion in federal aid as more than 30,000 job cuts loom AT&T thinks you'll put up with ads in exchange for a cheaper phone bill The Vanguard Dividend Appreciation ETF: A Stable Performer GE Healthcare moving jobs to new $50M site in West Milwaukee These 3 Factors Signal Bitcoin is Gearing Up to Make a Massive Push Higher Nikola short-sellers feel the squeeze as stock bounces Tilson Says Nikola's Trevor Milton Will Land 'Behind Bars For Securities Fraud' Facebook is launching smart glasses in 2021, its ‘next step’ to an AR device Illumina in Talks to Buy Grail, Possibly for Over $8 Billion Amazon plans to open 1,500 warehouses in US suburbs Chase Freedom Credit Card Closed to New Applicants: Here's Why Amazon kicks off career fair Wednesday, set to fill 33K remote jobs averaging $150K Senator Rubio asks Trump to reject the Oracle, TikTok deal The New Nissan Z Isn't Coming to Europe Anti-maskers march through Target, tell shoppers to 'take off that mask' Florida's first Amazon 4-star opens in Palm Beach Gardens Florida utilities want to gut solar. Here's why The I-X Center closes after 35 years in business, citing effects of global pandemic ‘Lenders don’t have the capacity’ to meet mortgage demand: expert US retail sales slowdown points to effect of stimulus withdrawal Kraft Heinz CEO: Warren Buffett's top two lieutenants on our board liked our $3.2 billion deal McDonald's Travis Scott meal reportedly spurring burger shortages Tiger Woods’ Ex Elin Nordegren Buys Palm Beach Gardens Home Here’s who is paying for $659 billion in PPP loans Fading fiscal stimulus crimping U.S. consumer spending Eli Lilly reports promising first results for an antibody against COVID-19 Republican Senators raise concerns over Oracle-TikTok deal US outlines sweeping plan to provide free COVID-19 vaccines Fading fiscal stimulus restraining U.S. consumer spending Almost 60 percent of business closures are now permanent, new Yelp data shows Kraken Becomes First Crypto Exchange to Become a US Bank 3 Cheap Tech Stocks to Buy Now JPMorgan Trader Gets COVID At Highly Inconvenient And Embarrassing Time Trump health officials are preparing to distribute within 24 hours of FDA OK China state media outlet calls Nvidia's Arm purchase 'disturbing', urges regulatory caution Supplies of highly profitable GM pickups at historically low levels Homebuilder sentiment soars to record high, but lumber prices rise McDonald's Travis Scott Meal sparks burger shortages 'Forget 15-year mortgages. Do 30,' says self-made millionaire-here's why PlayStation CEO Jim Ryan on PlayStation 5 price, launch titles, strategy GameStop Now Taking Pre-Orders for Sony PlayStation®5 and Sony PlayStation®5 Digital Edition Five Nights at Freddy's Security Breach release date Devil May Cry 5 Special Edition coming to PS5, Xbox Series X Sony teases next God of War for PlayStation 5 Demon’s Souls: Watch new gameplay of the PS5 remake Facebook teaming up with Ray-Ban maker for first smart glasses in 2021 Classic Adventure Game Myst is Getting A Remake Demon's Souls PS5 Gameplay Trailer Looks Absolutely Stunning Final Fantasy 16 announced for PS5 and PC Oculus Quest vs. Oculus Quest 2: what’s the difference? Pricing, specs, release date, images, and everything else we know Rocket League goes free-to-play on Sept. 23 on the Epic Games Store US Retailer Target Announces Start Time For Xbox Series Pre-Orders Gateway is back, and it’s selling AMD-powered budget laptops at Walmart GoPro HERO9 Black: Evolutionary, Not Revolutionary Upgrades Microsoft reportedly launching Surface Pro X 2 in fall with new chip and color variant How To Get An Xbox Series X For $300 At GameStop Spotify stock falls after Amazon Music adds podcasts Surface Pro X with Microsoft SQ2 chip and Platinum color option is on the way 'Fortnite' Destroy Gatherer & Gatherer Remains Locations Week 4 Guide Is Apple One a bargain? It’s complicated Hacker turns little Lego man Mario into Super Mario Bros. controller OnePlus Nord set to come to US w/ sub-$400 price Nvidia GeForce RTX 3080 is available now - but there's some bad news Will the Xbox Series S hold back next-gen gaming? With the next console generation, buying digital looks better than ever 'Call of Duty: Black Ops Cold War' PS4 Alpha Preload, Start & Release Time Revealed Now Square Enix is saying Final Fantasy 16 is only coming to PS5 Samsung Galaxy S30 Ultra won't get a battery capacity buff 3DS series production ended in Japan Nintendo has discontinued the 3DS Left 4 Dead 2 is Getting an Update, And It's Tank Sized PlayStation CEO Jim Ryan on PlayStation 5 price, launch titles, strategy GameStop Now Taking Pre-Orders for Sony PlayStation®5 and Sony PlayStation®5 Digital Edition Five Nights at Freddy's Security Breach release date Devil May Cry 5 Special Edition coming to PS5, Xbox Series X Sony teases next God of War for PlayStation 5\",\n",
       " 'Michelob Ultra looking to pay \\'Chief Exploration Officer\\' $50K to visit national parks Jim Cramer says newly public Amwell stock is \\'too hot right now\\' covid-vaccine-trump-confusion - The Washington Post Bar owners devastated after Gov. Abbott announces other businesses can expand capacity Uniswap\\'s Distribution Is Built on Something That Can\\'t Be Forked: Actual Users Gov. Edwards amends last call for phase 3, extends alcohol sale by one hour \\'I think it\\'s time to start putting cash to work,\\' Jim Cramer says Gov. John Bel Edwards halts Jefferson Parish Council\\'s attempt at moving into phase 3 Moderna shares Covid-19 vaccine trial blueprints, Pfizer follows Wynn Resorts reports more than 500 employees have tested positive for COVID-19 National Cheeseburger Day 2020 Food Deals 30 Reasons Why Stocks May Fall Further Towing Race: 2021 Ford F-150 PowerBoost Pitted Against the Ram 1500 HEMI eTorque CVS Opening New Coronavirus Testing Site In Stamford Her Dad\\'s Food Truck Made Just $6 in a Day, So She Asked Twitter For Help Tencent slides to session low as it draws national security scrutiny Uniswap Recaptures DeFi Buzz With UNI Token\\'s Airdropped Debut Texas Instruments increases dividend by ~13% A DARPA-Funded Implantable Biochip to Detect COVID-19 Could Hit Markets by 2021 2 Lansing businesses fined for COVID-19 workplace safety violations Bristol-Myers Squibb Cuts Deal, Delaying Threat to Top-Selling Revlimid The market isn\\'t convinced the Federal Reserve can achieve its inflation objective Blue Bell ordered to pay record fine over listeria outbreak Wisconsin tallies record-shattering COVID-19 cases on Thursday Pfizer vaccine trial bets on early win against coronavirus, documents show COVID task force says Clark County bars can reopen Nevada COVID-19 Mitigation & Management Task Force votes to allow Clark County bars, taverns to reopen Ohio starts issuing additional $300 in unemployment benefits Drop shipper who made $1.7 million this year shares e-commerce tips Walmart raising hourly wages for some employees Taco Bell leaves customers dumbfounded after announcing ‘ridiculous’ new menu item: ‘Why though?’ German hospital hacked, patient taken to another city dies U.S. Public Now Divided Over Whether To Get COVID-19 Vaccine Saudi energy minister to short-sellers: ‘make my day’ Airline workers have lower rates of COVID-19 than general population Google-backed \\'plumber\\' Amwell spikes in debut, IPO a barometer of booming telehealth market Louisiana Workforce Commission says 7,600 residents received unemployment overpayments Software Maker Sumo Logic Rises in Debut After $326 Million IPO Wynn Resorts reports more than 500 employees have tested positive for COVID-19 Chicago’s Iconic Southport Lanes to Close Permanently After Nearly a Century Why SoftBank\\'s Arm Holdings Sale Is a Winning Move Fauci interview: How to stay healthy, gather safely until summer 2022 Papa John\\'s is moving its main headquarters out of Louisville Southport Lanes set to close after 98 years Kroger sued for allegedly firing workers who refused to wear rainbow symbol Texas man\\'s taco truck flooded with customers after daughter\\'s tweet Gold, silver down despite equities markets selling off 59 % Would \\'Distrust\\' Covid Vaccine Released Before Election Community comes together to support food truck owner Kroger sued for allegedly firing workers who refused to wear rainbow symbol Eerie photos show NYC\\'s Hudson Yards has been all but abandoned amid coronavirus crisis Why Final Fantasy 16 Should Excite Final Fantasy XIV and Tactics Fans Mozilla is killing two of its most useful products and it\\'s pretty upsetting Google fixes odd bug that made some Pixel Buds audio cut out at 1:50 intervals Eric Roza Takes on the First CrossFit Games Workout Monster Hunter Stories 2 Announced For Nintendo Switch Bloodborne Remastered potentially leaked for PS5 How To Buy An Xbox Series X For $300 At GameStop Astranis adds former NASA Administrator Dan Goldin to advisory board Demon\\'s Souls PS5 Preorder Info: Price And Where To Buy Google adds Premium gaming section on the Play Store for Chromebooks Gaming on Chromebooks grows by 3X and Google is shining a big spotlight on it Walmart Walks Back PS5 Preorder Plans \"To Keep Customers Safe\" Nvidia RTX 3080 cards are selling for thousands on eBay, and people are pissed Xbox Series X pre-orders open Sept. 22 at 11 a.m. EDT Mozilla shutters Firefox Send and Notes Amazon makes Alexa Routines shareable The latest OnePlus leaks have me worried Red Dead 2\\'s Most Terrifying Mystery Explained Amazon lets you share Alexa routines Intel offers Tiger Lake Core i7-1185G7 laptop performance preview mophie wireless charging stations debut with three new options Devil May Cry 5 Special Edition Ray Tracing Trailer Will Blow Your Mind \\'Phone\\' app renamed to \\'Phone by Google\\' on the Play Store 3 Artificial intelligence Stocks to Consider as the Trend Heats Up The Nintendo 3DS is discontinued Mozilla is investigating YouTube\\'s curious recommendation algorithms Nintendo Direct Mini. the biggest announcements and trailers The latest Google Pixel Buds update fixes a very annoying problem Apple envisioned its fitness service long before work-from-home, executives say PS5 Pre-Orders Were Such a Mess That Even Xbox Threw Some Shade Intel: Tiger Lake Adds To The Bull Case The Asus ROG Zephyrus G14 has progressed beyond the need for vowels Samsung Galaxy Tab S7 and S7 Plus review: hardware can’t carry it all LG Wing hands-on: it’s weird, but it works Tony Hawk’s Pro Skater remake reflects the changing culture of skateboarding Rayman Creator Michel Ancel Announces Retirement From The Games Industry Ys Origin Pre-Orders Go Live On Switch With A Tasty 20% Discount What Apple’s new rules actually say about streaming Xbox and Stadia games to iPhone Here\\'s the Demon\\'s Souls remake side-by-side with the original Here are the browsers iOS 14 now lets you set as default Oculus Quest 2 64GB vs. Oculus Quest 2 256GB: Which should you buy? Round Up: All The Games From The Nintendo Direct Mini: Partner Showcase - September 2020']"
      ]
     },
     "execution_count": 32,
     "metadata": {},
     "output_type": "execute_result"
    }
   ],
   "source": [
    "example_text"
   ]
  },
  {
   "cell_type": "code",
   "execution_count": 15,
   "metadata": {},
   "outputs": [],
   "source": [
    "tokenizer = BertTokenizer.from_pretrained('bert-base-uncased')\n",
    "model = BertModel.from_pretrained('bert-base-uncased')\n",
    "\n",
    "text = example_text[0]\n",
    "inputs = tokenizer(text, return_tensors='pt', padding=True, truncation=True, max_length=512)\n",
    "\n",
    "# Generate token embeddings\n",
    "with torch.no_grad():\n",
    "    outputs = model(**inputs)\n"
   ]
  },
  {
   "cell_type": "code",
   "execution_count": 33,
   "metadata": {},
   "outputs": [
    {
     "data": {
      "text/html": [
       "\n",
       "  \n",
       "  "
      ],
      "text/plain": [
       "<IPython.core.display.HTML object>"
      ]
     },
     "metadata": {},
     "output_type": "display_data"
    },
    {
     "data": {
      "text/plain": [
       "tensor([[[-0.4843, -0.2927,  0.3627,  ..., -0.2957,  0.2738, -0.0632],\n",
       "         [-0.1309,  0.2477,  0.3474,  ..., -0.2088,  0.1294, -0.2448],\n",
       "         [-0.5710, -0.0039,  1.2619,  ..., -0.0632, -0.6504, -0.2742],\n",
       "         ...,\n",
       "         [ 0.5651,  0.1234, -0.2354,  ...,  0.4797, -0.3500, -0.4519],\n",
       "         [-0.3651, -0.2252,  0.1992,  ..., -0.2913, -1.3470, -0.7258],\n",
       "         [ 0.5177,  0.4043,  0.0338,  ..., -0.0112, -0.4431, -0.2221]]])"
      ]
     },
     "execution_count": 33,
     "metadata": {},
     "output_type": "execute_result"
    }
   ],
   "source": [
    "#Compute the context vector (sentence embedding)\n",
    "# Get the embeddings of all tokens from the last hidden layer\n",
    "token_embeddings = outputs.last_hidden_state\n",
    "token_embeddings\n"
   ]
  },
  {
   "cell_type": "code",
   "execution_count": 35,
   "metadata": {},
   "outputs": [
    {
     "data": {
      "text/html": [
       "\n",
       "  \n",
       "  "
      ],
      "text/plain": [
       "<IPython.core.display.HTML object>"
      ]
     },
     "metadata": {},
     "output_type": "display_data"
    },
    {
     "data": {
      "text/plain": [
       "torch.Size([1, 512, 768])"
      ]
     },
     "execution_count": 35,
     "metadata": {},
     "output_type": "execute_result"
    }
   ],
   "source": [
    "# [batch_size, sequence_length, embedded_size]\n",
    "token_embeddings.shape"
   ]
  },
  {
   "cell_type": "code",
   "execution_count": 30,
   "metadata": {},
   "outputs": [
    {
     "data": {
      "text/html": [
       "\n",
       "  \n",
       "  "
      ],
      "text/plain": [
       "<IPython.core.display.HTML object>"
      ]
     },
     "metadata": {},
     "output_type": "display_data"
    },
    {
     "data": {
      "text/plain": [
       "tensor([[[1., 1., 1.,  ..., 1., 1., 1.],\n",
       "         [1., 1., 1.,  ..., 1., 1., 1.],\n",
       "         [1., 1., 1.,  ..., 1., 1., 1.],\n",
       "         ...,\n",
       "         [1., 1., 1.,  ..., 1., 1., 1.],\n",
       "         [1., 1., 1.,  ..., 1., 1., 1.],\n",
       "         [1., 1., 1.,  ..., 1., 1., 1.]]])"
      ]
     },
     "execution_count": 30,
     "metadata": {},
     "output_type": "execute_result"
    }
   ],
   "source": [
    "# Calculate the average across all tokens (ignoring padding tokens)\n",
    "# unsqueeze(-1) adds a new dimension at the end of the tensor's shape\n",
    "input_mask_expanded = inputs.attention_mask.unsqueeze(-1).expand(token_embeddings.size()).float()\n",
    "input_mask_expanded"
   ]
  },
  {
   "cell_type": "code",
   "execution_count": 38,
   "metadata": {},
   "outputs": [
    {
     "data": {
      "text/html": [
       "\n",
       "  \n",
       "  "
      ],
      "text/plain": [
       "<IPython.core.display.HTML object>"
      ]
     },
     "metadata": {},
     "output_type": "display_data"
    },
    {
     "data": {
      "text/plain": [
       "torch.Size([1, 512, 768])"
      ]
     },
     "execution_count": 38,
     "metadata": {},
     "output_type": "execute_result"
    }
   ],
   "source": [
    "input_mask_expanded.shape"
   ]
  },
  {
   "cell_type": "code",
   "execution_count": 36,
   "metadata": {},
   "outputs": [
    {
     "data": {
      "text/html": [
       "\n",
       "  \n",
       "  "
      ],
      "text/plain": [
       "<IPython.core.display.HTML object>"
      ]
     },
     "metadata": {},
     "output_type": "display_data"
    },
    {
     "data": {
      "text/plain": [
       "tensor([[-1.0818e+02, -5.9293e+01,  2.3933e+02,  1.4442e+00,  2.4621e+02,\n",
       "         -2.5807e+01,  1.8217e+01,  1.6991e+02,  4.7850e+01,  2.1589e+01,\n",
       "          4.2217e+01, -2.2120e+02, -8.5419e+01,  1.0467e+02, -8.1140e+01,\n",
       "          2.0444e+02,  5.3340e+01,  5.5553e+01, -8.9378e+01,  1.4397e+02,\n",
       "          2.2045e+02, -4.9439e+01,  1.7987e+02,  2.7302e+02,  1.8653e+02,\n",
       "         -3.6538e+01, -7.4321e+01, -1.3496e+02, -1.3454e+02,  1.7655e+01,\n",
       "          2.5665e+02,  3.7903e+01, -3.0103e+01, -1.2576e+02,  1.1899e+02,\n",
       "          2.8119e+01, -6.5225e+01, -1.1827e+02,  4.9310e+01,  1.6466e+02,\n",
       "         -3.0646e+02, -1.8274e+02, -8.6946e+01,  5.1672e+01, -1.3257e+02,\n",
       "         -6.8176e+01,  3.3928e+01, -3.3435e+00, -1.8446e+00, -3.1792e+01,\n",
       "         -2.0191e+02,  1.1228e+02, -3.0497e+01, -1.0522e+02, -1.9890e+01,\n",
       "          3.0791e+02, -4.7782e+01, -2.6257e+02, -1.6712e+02, -1.7255e+02,\n",
       "          1.0261e+02, -1.1033e+02,  5.9920e+01, -8.6325e+01, -1.8116e+01,\n",
       "          3.8220e+00, -2.6691e+01,  2.6143e+02, -2.7708e+02, -6.6328e+01,\n",
       "         -1.8034e+01, -4.9491e+01, -4.9617e+01, -8.8107e+01,  4.8899e+00,\n",
       "         -2.9198e+00, -9.2102e+01,  2.5243e+02,  1.0130e+02, -5.0921e+01,\n",
       "         -5.6911e+01,  8.8165e+01, -5.0729e+01,  2.0605e+02,  7.5374e+01,\n",
       "          5.2573e+01,  9.3937e+01,  1.0185e+02, -2.0458e+02,  3.5085e+02,\n",
       "          2.2204e+01, -1.1364e+02,  9.7714e+01,  3.2720e+01, -1.5394e+01,\n",
       "         -5.3025e+00, -1.0612e+02,  2.1926e+01, -7.0762e+01,  1.2712e+02,\n",
       "          9.2707e+01, -7.6426e+01,  9.3281e+01,  6.5150e+01, -3.3750e+01,\n",
       "         -7.0692e+01,  4.0139e+01,  1.6844e+02, -8.3663e+01,  9.2994e+01,\n",
       "          1.2317e+02, -8.7121e+01, -7.7038e+01, -1.8539e+02, -9.8301e+01,\n",
       "         -7.4987e+01,  8.2662e+01, -8.8888e-01,  3.8558e+01, -1.7268e+01,\n",
       "          6.0993e+01, -5.3881e+01,  2.2580e+01,  4.5934e+02,  5.7502e+01,\n",
       "          6.9332e+01, -1.9034e+01,  1.1692e+02,  2.1426e+01, -2.7278e+00,\n",
       "          2.0477e+01,  1.2789e+02, -9.8620e+01, -3.4103e+01, -3.4628e+01,\n",
       "          1.3190e+02, -4.5195e+01, -1.7200e+02, -1.1445e+01,  1.9622e+01,\n",
       "          1.3213e+01, -5.1109e+01,  1.7802e+02,  3.3736e+01,  7.3486e+01,\n",
       "         -4.6280e+01, -4.5213e+01, -5.9193e+01, -1.1281e+01,  1.4263e+02,\n",
       "          1.0813e+01, -5.6987e-01, -4.5813e+01, -2.4324e+01, -1.4448e+01,\n",
       "         -6.7110e+01, -5.4978e+01, -3.8102e+01,  4.2881e+01, -3.1644e+01,\n",
       "          1.9407e+02,  5.9030e+01, -2.8059e+01,  7.2746e+01,  5.3772e+01,\n",
       "         -1.2333e+01,  3.1250e+00,  9.5092e+01, -1.5920e+02, -2.3737e+01,\n",
       "         -1.9777e+01, -2.9700e+01,  4.2458e+02, -1.5396e+01,  1.4590e+02,\n",
       "          3.6877e+01,  5.1518e+01, -8.4731e+01,  2.1310e+01,  2.1745e+02,\n",
       "         -2.4315e+02,  1.0515e+02,  5.1226e+01,  1.0168e+02,  1.6512e+02,\n",
       "         -8.9020e+01,  1.4792e+02, -3.4841e+01,  2.1722e+02, -1.3470e+02,\n",
       "         -1.0772e+02, -1.2421e+02,  6.7119e+00,  1.0408e+02,  1.1244e+02,\n",
       "         -1.1088e+02,  3.8289e+01, -4.2669e+01, -9.8018e+01, -1.0383e+02,\n",
       "          4.4994e+01,  1.2775e+02,  1.0657e+02,  2.7333e+01, -4.3841e+01,\n",
       "         -8.2451e+01,  6.4964e+01, -1.1646e+02, -9.0211e+01,  3.8577e+01,\n",
       "         -8.0274e+01,  9.7314e+01, -2.0492e+01,  1.1843e+02, -3.1987e+01,\n",
       "          3.8833e+01, -6.2457e+01, -1.2830e+02,  5.6389e+01, -6.6000e+00,\n",
       "         -1.2011e+02,  1.2842e+02, -1.8631e+02,  1.6987e+02, -2.0446e+02,\n",
       "          4.0674e+02,  2.1775e+01, -4.5840e+02, -7.2717e+00,  2.2145e+02,\n",
       "         -1.8925e+01, -1.5945e+02,  8.2258e+01, -1.8840e+02,  1.0280e+02,\n",
       "         -7.0850e+01, -1.4939e+02, -3.2309e+01,  1.9946e+02, -1.8343e+02,\n",
       "         -1.3920e+02,  2.1036e+02,  2.0224e+02,  2.2444e+01, -5.6077e+01,\n",
       "         -1.7513e+02,  6.3360e+00, -9.5049e+01, -3.6170e+01, -1.9312e+02,\n",
       "         -2.9057e+02,  4.3434e+01, -7.5413e+01, -1.6277e+02,  1.8858e+01,\n",
       "         -2.1687e+02,  3.6146e+01, -1.2915e+02, -3.9903e+01, -1.2132e+01,\n",
       "          1.4563e+02,  7.9248e+01, -2.9990e+01,  2.7989e+01, -7.3716e+01,\n",
       "         -2.8124e+02, -3.0116e+01,  1.2380e+02,  1.8787e+02,  2.6653e+01,\n",
       "          5.8404e+01,  3.7638e+01,  3.9591e+01,  2.8180e+02, -1.1092e+02,\n",
       "          2.9801e+01,  8.8794e+01,  1.1195e+02,  1.4681e+02, -7.3015e+01,\n",
       "          1.9238e+01,  1.9141e+02, -1.4312e+01,  1.2799e+01, -1.1384e+02,\n",
       "         -2.7661e+01,  1.0146e+02,  1.0495e+02, -6.3943e+01, -1.2748e+02,\n",
       "         -2.7729e+01,  5.7129e+01, -1.2042e+02, -1.0854e+01,  8.1192e+01,\n",
       "          5.5776e+01,  3.0929e+01,  6.4963e+01,  9.4920e+01, -1.1905e+02,\n",
       "         -1.3626e+02, -1.9686e+01,  8.4647e+01,  8.1563e+01,  1.0224e+02,\n",
       "         -6.2881e+01,  5.7938e+01, -1.5025e+02, -1.7654e+03, -2.8262e+01,\n",
       "         -5.6891e+01, -1.5994e+02,  1.7207e+02, -1.8963e+02, -8.9678e+01,\n",
       "          6.0388e+01, -1.4173e+02,  1.0934e+02, -3.3028e+01, -8.5746e+01,\n",
       "          4.1234e+01,  7.7729e+01,  4.7378e+01, -1.4591e+01, -3.1560e+01,\n",
       "         -1.1341e+02, -7.8131e+01,  1.5361e+02, -1.6313e+02, -3.7061e+02,\n",
       "          8.5595e+01, -8.6451e+00,  1.2693e+02,  2.4827e+02, -1.0531e+02,\n",
       "         -7.1687e+01, -2.7695e+01, -9.3495e+01,  7.0141e+01, -3.1348e+01,\n",
       "          1.6961e+01,  2.1985e+02,  1.2594e+01,  8.1652e-01,  5.2439e+01,\n",
       "         -2.5880e+02, -1.6203e+02, -1.7341e+02, -1.0986e+01, -4.1503e+02,\n",
       "         -1.1453e+02,  1.4997e+01,  3.6832e+02, -5.5170e+01, -1.8607e+01,\n",
       "         -3.8690e+01,  6.1808e+01, -1.1177e+02,  1.0759e+02, -1.5300e+01,\n",
       "         -2.6486e+02,  1.1763e+01,  1.5119e+01,  6.6746e+01,  4.8430e+01,\n",
       "          2.1771e+02,  3.7587e+01, -1.0735e+02,  1.7921e+01, -1.8575e+01,\n",
       "         -1.9416e+02, -1.7251e+01, -5.8251e+01, -1.4778e+02, -2.5282e+02,\n",
       "         -8.4266e+01, -3.9031e+01,  7.6251e+00, -1.9297e+02,  2.9983e+02,\n",
       "         -1.5411e+02, -1.3126e+02, -8.1849e+01, -1.3288e+02,  8.7646e+01,\n",
       "         -2.6853e+01, -3.4176e+01, -1.4534e+01, -9.7784e+01, -1.3337e+02,\n",
       "          1.0984e+02, -1.2831e+02, -5.4687e+01, -2.9335e+02,  1.8477e+01,\n",
       "          5.8836e+00, -7.4165e+01, -1.6347e+02,  2.0235e+02,  1.2182e+02,\n",
       "          8.2243e+01, -8.7821e+01,  1.7228e+02, -1.6961e+01,  1.1354e+02,\n",
       "         -3.3854e+01,  6.8815e+01, -1.7543e+02,  4.8451e+01,  2.9676e+01,\n",
       "          3.2724e+02, -2.3630e+02,  7.5955e+01, -8.2416e+01, -6.9691e+01,\n",
       "          8.0107e+01,  4.4315e+00, -3.5725e+01,  1.3546e+01, -1.6287e+02,\n",
       "          1.2478e+02, -2.0945e+02, -8.1166e+01, -3.3184e+01,  1.1838e+02,\n",
       "          4.0518e+02, -1.4193e+01, -1.8806e+02, -4.4413e+01,  1.4360e+02,\n",
       "         -8.9073e+01, -2.7923e+02, -1.8156e+02,  2.0929e+01, -2.0324e+02,\n",
       "          1.3320e+02,  7.7482e+01, -8.2391e+00, -2.0650e+02, -6.3905e+01,\n",
       "         -3.5805e+01,  1.5392e+02,  1.7971e+02, -6.5060e+01,  1.8179e+01,\n",
       "         -1.7962e+02, -4.7775e+00,  1.3565e+02,  3.0803e+01,  4.2189e+01,\n",
       "          7.4351e+01, -6.2306e+01,  4.6662e+01,  1.8621e+02,  1.5373e+01,\n",
       "          4.1615e+01, -1.0851e+02,  5.2042e+01, -3.4988e+02, -2.4748e+02,\n",
       "         -1.7622e+01, -1.0696e+02,  6.9711e+01,  2.2848e+02,  1.5246e+02,\n",
       "         -8.0255e+01, -6.2079e+01, -3.8350e+02,  9.5226e+01,  3.7162e+01,\n",
       "          1.0608e+02,  2.9008e+01, -5.0065e+01,  2.2108e+02,  5.4573e+00,\n",
       "         -9.3523e+01, -5.1305e+01, -2.4650e+01, -1.8438e+02, -7.6047e+01,\n",
       "          3.6587e+00, -9.0973e+01, -2.5041e+01,  2.8002e+02,  8.6929e+01,\n",
       "         -2.0769e+02, -1.0568e+02,  2.0106e+02, -2.7511e+01,  1.5975e+01,\n",
       "         -1.2105e+02,  5.8803e+01,  2.3772e+02, -3.3511e+00,  1.7860e+02,\n",
       "         -1.3037e+02,  4.4955e+00,  2.9579e+01, -1.4777e+01,  1.5420e+02,\n",
       "          5.1479e+01,  1.1667e+02, -5.1158e+01, -3.3402e-01,  2.0915e+02,\n",
       "          2.0622e+00, -2.4956e+01,  2.3488e+01,  4.6165e+00,  4.0245e+00,\n",
       "         -1.9517e+02,  6.4213e+01,  1.1094e+02, -1.3885e+02, -5.1049e-01,\n",
       "          2.8148e+02,  5.5549e+01, -3.8000e+01, -1.8884e+02, -1.5843e+02,\n",
       "         -1.1638e+02,  7.3676e+01,  1.4707e+02, -2.7505e+02, -1.1341e+02,\n",
       "         -9.9294e+01, -2.1188e+02,  4.8731e+01, -1.0903e+01, -3.0549e+00,\n",
       "          1.7409e+01, -8.2846e+01, -8.4225e+01, -2.9220e+01, -2.6469e+01,\n",
       "         -9.9019e+00, -2.9857e+01, -1.1438e+02,  4.5858e+01, -4.5794e+02,\n",
       "         -6.8833e+01,  1.3368e+02,  1.6076e+01,  1.3886e+02, -8.9368e+01,\n",
       "         -4.1521e+02,  3.7242e+01, -1.0436e+02, -6.5221e+01, -6.2736e+01,\n",
       "         -1.0071e+02, -2.3193e+02,  1.1069e+02,  6.8008e+01, -6.4614e+00,\n",
       "          2.5684e+02, -7.2766e+01,  2.6803e+02,  4.6920e+01,  9.9339e+01,\n",
       "          6.3062e+01, -1.2106e+02,  2.9143e+01, -2.3921e+02, -1.6534e+02,\n",
       "         -1.8646e+01, -2.3775e+02, -5.4911e+01, -1.4005e+02, -1.7258e+01,\n",
       "         -4.8403e+01,  5.6786e+01,  1.9525e+02,  1.3305e+02, -1.1422e+00,\n",
       "          1.9145e+01,  6.9719e+01, -2.4500e+02,  1.0561e+02, -1.5937e+02,\n",
       "         -1.0534e+02, -7.1109e+01, -6.4691e+01,  4.7688e+01, -8.9468e+01,\n",
       "         -2.2937e+02,  1.2090e+02, -1.7308e+02, -1.9004e+02, -8.3716e+00,\n",
       "         -1.7109e+02, -3.4402e+01,  6.2470e+01, -1.5585e+02, -2.0066e+01,\n",
       "          1.7341e+02, -1.0421e+01, -7.0235e+01,  2.7976e+02,  5.4482e+01,\n",
       "         -1.7338e+01, -4.6564e-01, -2.9537e+02,  7.0330e+01,  3.3999e+02,\n",
       "          9.1959e-01, -4.4868e+00,  6.6374e+01, -9.2985e+01, -9.0876e+01,\n",
       "          1.5658e+02, -8.1870e+00, -1.9235e+02,  5.2565e+01, -3.4241e+01,\n",
       "         -2.4223e+02, -1.0612e+02, -8.9847e+00, -6.0652e+01, -2.7869e+02,\n",
       "          2.8292e+02,  1.9857e+02, -7.8781e+01, -2.0783e+01, -5.7153e+01,\n",
       "          3.4226e+01, -4.7101e+01, -1.9115e+01,  1.2993e+01,  1.6964e+02,\n",
       "          1.8501e+02, -8.2913e+01,  2.8268e+02,  1.1972e+02, -4.9713e+01,\n",
       "         -6.8060e+01, -3.1078e+01,  1.6028e+02,  4.5625e+01,  1.0324e+02,\n",
       "         -7.8260e+01,  1.9209e+02,  8.6049e+00, -1.6871e+01,  2.7383e+01,\n",
       "         -1.1358e+02, -5.0341e+01, -5.9320e+00,  8.4753e+01, -7.2523e+01,\n",
       "          1.2675e+02,  1.4835e+02,  1.1987e+02,  9.1875e+01,  1.7332e+02,\n",
       "         -1.1468e+01,  3.7190e+02,  3.1418e+02,  9.9257e+01,  1.1478e+02,\n",
       "         -3.8332e+01, -1.1486e+02,  1.1401e+02, -2.0874e+01,  4.5329e+01,\n",
       "          2.1734e+02,  6.3041e+01,  2.1456e+02,  9.2035e+01,  1.6011e+02,\n",
       "          2.5092e+02, -1.8863e+02, -9.1324e+01, -3.3484e+01,  6.8869e+01,\n",
       "         -4.1161e+01, -5.8520e+01,  3.1248e+01,  9.5807e+01, -5.6920e+01,\n",
       "         -1.1263e+02, -1.7256e+02,  4.0001e+01,  3.8236e+01, -7.4972e+01,\n",
       "         -4.4518e+01, -6.1795e+01,  2.6246e+02, -1.0365e+02, -8.5326e+01,\n",
       "         -1.4806e+02, -1.0505e+02, -1.3740e+02, -2.6357e+01, -9.3450e+01,\n",
       "          4.0836e+01, -1.0246e+02, -2.0172e+02,  2.0056e+01,  1.3960e+01,\n",
       "          1.1813e+02, -4.9065e+01, -8.8978e+01, -1.5429e+02,  1.3303e+02,\n",
       "          4.0388e+00,  2.0809e+02,  2.8039e+01,  1.3158e+02, -2.3140e+02,\n",
       "         -1.5364e+02, -1.5469e+01,  1.8033e+02, -2.5363e+01, -6.5108e+01,\n",
       "          1.5653e+02, -1.3324e+02, -3.7094e+01,  3.7959e+01,  1.1664e+02,\n",
       "         -2.1296e+02, -3.9367e+01, -5.2473e+01, -2.3005e+01,  6.5988e+01,\n",
       "          8.1092e+01, -1.4266e+02, -2.9899e+01, -1.9347e+02, -2.2143e+02,\n",
       "          1.9832e+01, -1.3922e+01, -7.8459e+01,  3.3888e+01,  1.6144e+02,\n",
       "          6.2417e+01,  1.2356e+01,  6.1380e+01, -9.6089e+01,  1.6260e+02,\n",
       "          1.3333e+01,  1.6689e+01,  2.2516e+01, -4.2269e+01, -1.2468e+02,\n",
       "          1.5014e+02, -1.3168e+02,  1.3870e+02,  1.2136e+02,  1.4235e+02,\n",
       "         -7.1646e+00, -1.2245e+02,  2.9875e+02, -9.4315e+01, -1.2152e+02,\n",
       "         -2.0354e+02, -8.9312e+01, -1.9771e+02, -1.2168e+02,  1.5706e+01,\n",
       "          8.7945e+01, -5.3254e+01,  1.2184e+02, -1.5032e+02, -8.2015e+01,\n",
       "         -2.2133e+01, -1.4518e+01, -7.8686e+01]])"
      ]
     },
     "execution_count": 36,
     "metadata": {},
     "output_type": "execute_result"
    }
   ],
   "source": [
    "# Multiplying by the input mask zeroes out all values that correspond to padding tokens\n",
    "# Right now I have 512 tokens each with 768 features. I am summing across 512 tokens to get \n",
    "# a single vector of 768 features. \n",
    "sum_embeddings = torch.sum(token_embeddings * input_mask_expanded, 1)\n",
    "sum_embeddings"
   ]
  },
  {
   "cell_type": "code",
   "execution_count": 37,
   "metadata": {},
   "outputs": [
    {
     "data": {
      "text/html": [
       "\n",
       "  \n",
       "  "
      ],
      "text/plain": [
       "<IPython.core.display.HTML object>"
      ]
     },
     "metadata": {},
     "output_type": "display_data"
    },
    {
     "data": {
      "text/plain": [
       "torch.Size([1, 768])"
      ]
     },
     "execution_count": 37,
     "metadata": {},
     "output_type": "execute_result"
    }
   ],
   "source": [
    "sum_embeddings.shape"
   ]
  },
  {
   "cell_type": "code",
   "execution_count": 24,
   "metadata": {},
   "outputs": [
    {
     "data": {
      "text/html": [
       "\n",
       "  \n",
       "  "
      ],
      "text/plain": [
       "<IPython.core.display.HTML object>"
      ]
     },
     "metadata": {},
     "output_type": "display_data"
    },
    {
     "data": {
      "text/plain": [
       "tensor([[512., 512., 512., 512., 512., 512., 512., 512., 512., 512., 512., 512.,\n",
       "         512., 512., 512., 512., 512., 512., 512., 512., 512., 512., 512., 512.,\n",
       "         512., 512., 512., 512., 512., 512., 512., 512., 512., 512., 512., 512.,\n",
       "         512., 512., 512., 512., 512., 512., 512., 512., 512., 512., 512., 512.,\n",
       "         512., 512., 512., 512., 512., 512., 512., 512., 512., 512., 512., 512.,\n",
       "         512., 512., 512., 512., 512., 512., 512., 512., 512., 512., 512., 512.,\n",
       "         512., 512., 512., 512., 512., 512., 512., 512., 512., 512., 512., 512.,\n",
       "         512., 512., 512., 512., 512., 512., 512., 512., 512., 512., 512., 512.,\n",
       "         512., 512., 512., 512., 512., 512., 512., 512., 512., 512., 512., 512.,\n",
       "         512., 512., 512., 512., 512., 512., 512., 512., 512., 512., 512., 512.,\n",
       "         512., 512., 512., 512., 512., 512., 512., 512., 512., 512., 512., 512.,\n",
       "         512., 512., 512., 512., 512., 512., 512., 512., 512., 512., 512., 512.,\n",
       "         512., 512., 512., 512., 512., 512., 512., 512., 512., 512., 512., 512.,\n",
       "         512., 512., 512., 512., 512., 512., 512., 512., 512., 512., 512., 512.,\n",
       "         512., 512., 512., 512., 512., 512., 512., 512., 512., 512., 512., 512.,\n",
       "         512., 512., 512., 512., 512., 512., 512., 512., 512., 512., 512., 512.,\n",
       "         512., 512., 512., 512., 512., 512., 512., 512., 512., 512., 512., 512.,\n",
       "         512., 512., 512., 512., 512., 512., 512., 512., 512., 512., 512., 512.,\n",
       "         512., 512., 512., 512., 512., 512., 512., 512., 512., 512., 512., 512.,\n",
       "         512., 512., 512., 512., 512., 512., 512., 512., 512., 512., 512., 512.,\n",
       "         512., 512., 512., 512., 512., 512., 512., 512., 512., 512., 512., 512.,\n",
       "         512., 512., 512., 512., 512., 512., 512., 512., 512., 512., 512., 512.,\n",
       "         512., 512., 512., 512., 512., 512., 512., 512., 512., 512., 512., 512.,\n",
       "         512., 512., 512., 512., 512., 512., 512., 512., 512., 512., 512., 512.,\n",
       "         512., 512., 512., 512., 512., 512., 512., 512., 512., 512., 512., 512.,\n",
       "         512., 512., 512., 512., 512., 512., 512., 512., 512., 512., 512., 512.,\n",
       "         512., 512., 512., 512., 512., 512., 512., 512., 512., 512., 512., 512.,\n",
       "         512., 512., 512., 512., 512., 512., 512., 512., 512., 512., 512., 512.,\n",
       "         512., 512., 512., 512., 512., 512., 512., 512., 512., 512., 512., 512.,\n",
       "         512., 512., 512., 512., 512., 512., 512., 512., 512., 512., 512., 512.,\n",
       "         512., 512., 512., 512., 512., 512., 512., 512., 512., 512., 512., 512.,\n",
       "         512., 512., 512., 512., 512., 512., 512., 512., 512., 512., 512., 512.,\n",
       "         512., 512., 512., 512., 512., 512., 512., 512., 512., 512., 512., 512.,\n",
       "         512., 512., 512., 512., 512., 512., 512., 512., 512., 512., 512., 512.,\n",
       "         512., 512., 512., 512., 512., 512., 512., 512., 512., 512., 512., 512.,\n",
       "         512., 512., 512., 512., 512., 512., 512., 512., 512., 512., 512., 512.,\n",
       "         512., 512., 512., 512., 512., 512., 512., 512., 512., 512., 512., 512.,\n",
       "         512., 512., 512., 512., 512., 512., 512., 512., 512., 512., 512., 512.,\n",
       "         512., 512., 512., 512., 512., 512., 512., 512., 512., 512., 512., 512.,\n",
       "         512., 512., 512., 512., 512., 512., 512., 512., 512., 512., 512., 512.,\n",
       "         512., 512., 512., 512., 512., 512., 512., 512., 512., 512., 512., 512.,\n",
       "         512., 512., 512., 512., 512., 512., 512., 512., 512., 512., 512., 512.,\n",
       "         512., 512., 512., 512., 512., 512., 512., 512., 512., 512., 512., 512.,\n",
       "         512., 512., 512., 512., 512., 512., 512., 512., 512., 512., 512., 512.,\n",
       "         512., 512., 512., 512., 512., 512., 512., 512., 512., 512., 512., 512.,\n",
       "         512., 512., 512., 512., 512., 512., 512., 512., 512., 512., 512., 512.,\n",
       "         512., 512., 512., 512., 512., 512., 512., 512., 512., 512., 512., 512.,\n",
       "         512., 512., 512., 512., 512., 512., 512., 512., 512., 512., 512., 512.,\n",
       "         512., 512., 512., 512., 512., 512., 512., 512., 512., 512., 512., 512.,\n",
       "         512., 512., 512., 512., 512., 512., 512., 512., 512., 512., 512., 512.,\n",
       "         512., 512., 512., 512., 512., 512., 512., 512., 512., 512., 512., 512.,\n",
       "         512., 512., 512., 512., 512., 512., 512., 512., 512., 512., 512., 512.,\n",
       "         512., 512., 512., 512., 512., 512., 512., 512., 512., 512., 512., 512.,\n",
       "         512., 512., 512., 512., 512., 512., 512., 512., 512., 512., 512., 512.,\n",
       "         512., 512., 512., 512., 512., 512., 512., 512., 512., 512., 512., 512.,\n",
       "         512., 512., 512., 512., 512., 512., 512., 512., 512., 512., 512., 512.,\n",
       "         512., 512., 512., 512., 512., 512., 512., 512., 512., 512., 512., 512.,\n",
       "         512., 512., 512., 512., 512., 512., 512., 512., 512., 512., 512., 512.,\n",
       "         512., 512., 512., 512., 512., 512., 512., 512., 512., 512., 512., 512.,\n",
       "         512., 512., 512., 512., 512., 512., 512., 512., 512., 512., 512., 512.,\n",
       "         512., 512., 512., 512., 512., 512., 512., 512., 512., 512., 512., 512.,\n",
       "         512., 512., 512., 512., 512., 512., 512., 512., 512., 512., 512., 512.,\n",
       "         512., 512., 512., 512., 512., 512., 512., 512., 512., 512., 512., 512.,\n",
       "         512., 512., 512., 512., 512., 512., 512., 512., 512., 512., 512., 512.]])"
      ]
     },
     "execution_count": 24,
     "metadata": {},
     "output_type": "execute_result"
    }
   ],
   "source": [
    "# Defining the denominator, which is the number of words that are not masked\n",
    "sum_mask = input_mask_expanded.sum(1) \n",
    "sum_mask"
   ]
  },
  {
   "cell_type": "code",
   "execution_count": 28,
   "metadata": {},
   "outputs": [
    {
     "data": {
      "text/html": [
       "\n",
       "  \n",
       "  "
      ],
      "text/plain": [
       "<IPython.core.display.HTML object>"
      ]
     },
     "metadata": {},
     "output_type": "display_data"
    },
    {
     "data": {
      "text/plain": [
       "tensor([[-2.1128e-01, -1.1581e-01,  4.6745e-01,  2.8208e-03,  4.8088e-01,\n",
       "         -5.0404e-02,  3.5580e-02,  3.3186e-01,  9.3456e-02,  4.2167e-02,\n",
       "          8.2456e-02, -4.3204e-01, -1.6683e-01,  2.0443e-01, -1.5848e-01,\n",
       "          3.9930e-01,  1.0418e-01,  1.0850e-01, -1.7457e-01,  2.8119e-01,\n",
       "          4.3057e-01, -9.6561e-02,  3.5131e-01,  5.3325e-01,  3.6432e-01,\n",
       "         -7.1363e-02, -1.4516e-01, -2.6359e-01, -2.6278e-01,  3.4483e-02,\n",
       "          5.0126e-01,  7.4030e-02, -5.8794e-02, -2.4563e-01,  2.3239e-01,\n",
       "          5.4919e-02, -1.2739e-01, -2.3099e-01,  9.6308e-02,  3.2160e-01,\n",
       "         -5.9856e-01, -3.5692e-01, -1.6982e-01,  1.0092e-01, -2.5893e-01,\n",
       "         -1.3316e-01,  6.6266e-02, -6.5303e-03, -3.6027e-03, -6.2095e-02,\n",
       "         -3.9436e-01,  2.1929e-01, -5.9565e-02, -2.0551e-01, -3.8847e-02,\n",
       "          6.0138e-01, -9.3325e-02, -5.1283e-01, -3.2641e-01, -3.3701e-01,\n",
       "          2.0041e-01, -2.1548e-01,  1.1703e-01, -1.6860e-01, -3.5383e-02,\n",
       "          7.4648e-03, -5.2131e-02,  5.1061e-01, -5.4118e-01, -1.2955e-01,\n",
       "         -3.5222e-02, -9.6661e-02, -9.6908e-02, -1.7208e-01,  9.5507e-03,\n",
       "         -5.7027e-03, -1.7989e-01,  4.9303e-01,  1.9784e-01, -9.9455e-02,\n",
       "         -1.1116e-01,  1.7220e-01, -9.9081e-02,  4.0244e-01,  1.4722e-01,\n",
       "          1.0268e-01,  1.8347e-01,  1.9893e-01, -3.9957e-01,  6.8526e-01,\n",
       "          4.3367e-02, -2.2196e-01,  1.9085e-01,  6.3906e-02, -3.0066e-02,\n",
       "         -1.0356e-02, -2.0726e-01,  4.2824e-02, -1.3821e-01,  2.4828e-01,\n",
       "          1.8107e-01, -1.4927e-01,  1.8219e-01,  1.2725e-01, -6.5918e-02,\n",
       "         -1.3807e-01,  7.8397e-02,  3.2899e-01, -1.6340e-01,  1.8163e-01,\n",
       "          2.4057e-01, -1.7016e-01, -1.5047e-01, -3.6209e-01, -1.9199e-01,\n",
       "         -1.4646e-01,  1.6145e-01, -1.7361e-03,  7.5308e-02, -3.3726e-02,\n",
       "          1.1913e-01, -1.0524e-01,  4.4101e-02,  8.9716e-01,  1.1231e-01,\n",
       "          1.3541e-01, -3.7176e-02,  2.2836e-01,  4.1847e-02, -5.3276e-03,\n",
       "          3.9994e-02,  2.4979e-01, -1.9262e-01, -6.6608e-02, -6.7634e-02,\n",
       "          2.5762e-01, -8.8272e-02, -3.3594e-01, -2.2353e-02,  3.8325e-02,\n",
       "          2.5806e-02, -9.9823e-02,  3.4770e-01,  6.5890e-02,  1.4353e-01,\n",
       "         -9.0390e-02, -8.8307e-02, -1.1561e-01, -2.2034e-02,  2.7857e-01,\n",
       "          2.1119e-02, -1.1130e-03, -8.9478e-02, -4.7507e-02, -2.8218e-02,\n",
       "         -1.3108e-01, -1.0738e-01, -7.4418e-02,  8.3752e-02, -6.1805e-02,\n",
       "          3.7904e-01,  1.1529e-01, -5.4803e-02,  1.4208e-01,  1.0502e-01,\n",
       "         -2.4087e-02,  6.1035e-03,  1.8573e-01, -3.1094e-01, -4.6361e-02,\n",
       "         -3.8626e-02, -5.8008e-02,  8.2926e-01, -3.0070e-02,  2.8496e-01,\n",
       "          7.2025e-02,  1.0062e-01, -1.6549e-01,  4.1621e-02,  4.2471e-01,\n",
       "         -4.7490e-01,  2.0537e-01,  1.0005e-01,  1.9859e-01,  3.2250e-01,\n",
       "         -1.7387e-01,  2.8890e-01, -6.8049e-02,  4.2425e-01, -2.6309e-01,\n",
       "         -2.1039e-01, -2.4260e-01,  1.3109e-02,  2.0327e-01,  2.1962e-01,\n",
       "         -2.1656e-01,  7.4783e-02, -8.3338e-02, -1.9144e-01, -2.0280e-01,\n",
       "          8.7878e-02,  2.4952e-01,  2.0815e-01,  5.3385e-02, -8.5627e-02,\n",
       "         -1.6104e-01,  1.2688e-01, -2.2745e-01, -1.7619e-01,  7.5345e-02,\n",
       "         -1.5678e-01,  1.9007e-01, -4.0023e-02,  2.3131e-01, -6.2475e-02,\n",
       "          7.5846e-02, -1.2199e-01, -2.5059e-01,  1.1014e-01, -1.2891e-02,\n",
       "         -2.3460e-01,  2.5081e-01, -3.6388e-01,  3.3177e-01, -3.9934e-01,\n",
       "          7.9442e-01,  4.2530e-02, -8.9531e-01, -1.4203e-02,  4.3252e-01,\n",
       "         -3.6963e-02, -3.1142e-01,  1.6066e-01, -3.6796e-01,  2.0079e-01,\n",
       "         -1.3838e-01, -2.9178e-01, -6.3103e-02,  3.8957e-01, -3.5826e-01,\n",
       "         -2.7187e-01,  4.1086e-01,  3.9500e-01,  4.3836e-02, -1.0952e-01,\n",
       "         -3.4205e-01,  1.2375e-02, -1.8564e-01, -7.0644e-02, -3.7719e-01,\n",
       "         -5.6752e-01,  8.4831e-02, -1.4729e-01, -3.1791e-01,  3.6831e-02,\n",
       "         -4.2358e-01,  7.0598e-02, -2.5224e-01, -7.7936e-02, -2.3695e-02,\n",
       "          2.8444e-01,  1.5478e-01, -5.8575e-02,  5.4666e-02, -1.4398e-01,\n",
       "         -5.4929e-01, -5.8820e-02,  2.4180e-01,  3.6694e-01,  5.2056e-02,\n",
       "          1.1407e-01,  7.3511e-02,  7.7327e-02,  5.5040e-01, -2.1663e-01,\n",
       "          5.8205e-02,  1.7343e-01,  2.1865e-01,  2.8675e-01, -1.4261e-01,\n",
       "          3.7573e-02,  3.7385e-01, -2.7953e-02,  2.4999e-02, -2.2234e-01,\n",
       "         -5.4026e-02,  1.9817e-01,  2.0497e-01, -1.2489e-01, -2.4899e-01,\n",
       "         -5.4159e-02,  1.1158e-01, -2.3519e-01, -2.1199e-02,  1.5858e-01,\n",
       "          1.0894e-01,  6.0409e-02,  1.2688e-01,  1.8539e-01, -2.3251e-01,\n",
       "         -2.6613e-01, -3.8448e-02,  1.6533e-01,  1.5930e-01,  1.9969e-01,\n",
       "         -1.2281e-01,  1.1316e-01, -2.9345e-01, -3.4481e+00, -5.5199e-02,\n",
       "         -1.1112e-01, -3.1239e-01,  3.3608e-01, -3.7037e-01, -1.7515e-01,\n",
       "          1.1795e-01, -2.7681e-01,  2.1356e-01, -6.4507e-02, -1.6747e-01,\n",
       "          8.0536e-02,  1.5181e-01,  9.2535e-02, -2.8498e-02, -6.1640e-02,\n",
       "         -2.2150e-01, -1.5260e-01,  3.0003e-01, -3.1861e-01, -7.2385e-01,\n",
       "          1.6718e-01, -1.6885e-02,  2.4791e-01,  4.8490e-01, -2.0569e-01,\n",
       "         -1.4001e-01, -5.4093e-02, -1.8261e-01,  1.3699e-01, -6.1227e-02,\n",
       "          3.3126e-02,  4.2939e-01,  2.4598e-02,  1.5948e-03,  1.0242e-01,\n",
       "         -5.0546e-01, -3.1646e-01, -3.3869e-01, -2.1458e-02, -8.1060e-01,\n",
       "         -2.2368e-01,  2.9292e-02,  7.1938e-01, -1.0775e-01, -3.6341e-02,\n",
       "         -7.5566e-02,  1.2072e-01, -2.1829e-01,  2.1013e-01, -2.9883e-02,\n",
       "         -5.1730e-01,  2.2975e-02,  2.9530e-02,  1.3036e-01,  9.4589e-02,\n",
       "          4.2522e-01,  7.3412e-02, -2.0967e-01,  3.5002e-02, -3.6280e-02,\n",
       "         -3.7922e-01, -3.3694e-02, -1.1377e-01, -2.8864e-01, -4.9378e-01,\n",
       "         -1.6458e-01, -7.6233e-02,  1.4893e-02, -3.7689e-01,  5.8561e-01,\n",
       "         -3.0099e-01, -2.5636e-01, -1.5986e-01, -2.5952e-01,  1.7118e-01,\n",
       "         -5.2447e-02, -6.6751e-02, -2.8387e-02, -1.9098e-01, -2.6048e-01,\n",
       "          2.1453e-01, -2.5061e-01, -1.0681e-01, -5.7295e-01,  3.6087e-02,\n",
       "          1.1491e-02, -1.4485e-01, -3.1927e-01,  3.9521e-01,  2.3792e-01,\n",
       "          1.6063e-01, -1.7153e-01,  3.3648e-01, -3.3128e-02,  2.2176e-01,\n",
       "         -6.6121e-02,  1.3440e-01, -3.4265e-01,  9.4631e-02,  5.7960e-02,\n",
       "          6.3914e-01, -4.6153e-01,  1.4835e-01, -1.6097e-01, -1.3611e-01,\n",
       "          1.5646e-01,  8.6553e-03, -6.9776e-02,  2.6457e-02, -3.1810e-01,\n",
       "          2.4371e-01, -4.0907e-01, -1.5853e-01, -6.4812e-02,  2.3121e-01,\n",
       "          7.9136e-01, -2.7721e-02, -3.6730e-01, -8.6744e-02,  2.8047e-01,\n",
       "         -1.7397e-01, -5.4537e-01, -3.5461e-01,  4.0877e-02, -3.9695e-01,\n",
       "          2.6015e-01,  1.5133e-01, -1.6092e-02, -4.0333e-01, -1.2481e-01,\n",
       "         -6.9933e-02,  3.0062e-01,  3.5100e-01, -1.2707e-01,  3.5505e-02,\n",
       "         -3.5082e-01, -9.3311e-03,  2.6494e-01,  6.0163e-02,  8.2400e-02,\n",
       "          1.4522e-01, -1.2169e-01,  9.1137e-02,  3.6370e-01,  3.0026e-02,\n",
       "          8.1279e-02, -2.1193e-01,  1.0164e-01, -6.8335e-01, -4.8335e-01,\n",
       "         -3.4417e-02, -2.0890e-01,  1.3615e-01,  4.4624e-01,  2.9777e-01,\n",
       "         -1.5675e-01, -1.2125e-01, -7.4903e-01,  1.8599e-01,  7.2582e-02,\n",
       "          2.0719e-01,  5.6656e-02, -9.7783e-02,  4.3180e-01,  1.0659e-02,\n",
       "         -1.8266e-01, -1.0020e-01, -4.8145e-02, -3.6011e-01, -1.4853e-01,\n",
       "          7.1459e-03, -1.7768e-01, -4.8907e-02,  5.4691e-01,  1.6978e-01,\n",
       "         -4.0564e-01, -2.0641e-01,  3.9269e-01, -5.3732e-02,  3.1200e-02,\n",
       "         -2.3642e-01,  1.1485e-01,  4.6429e-01, -6.5450e-03,  3.4882e-01,\n",
       "         -2.5464e-01,  8.7803e-03,  5.7771e-02, -2.8861e-02,  3.0116e-01,\n",
       "          1.0055e-01,  2.2787e-01, -9.9918e-02, -6.5237e-04,  4.0850e-01,\n",
       "          4.0276e-03, -4.8742e-02,  4.5875e-02,  9.0166e-03,  7.8603e-03,\n",
       "         -3.8120e-01,  1.2542e-01,  2.1668e-01, -2.7120e-01, -9.9704e-04,\n",
       "          5.4977e-01,  1.0849e-01, -7.4219e-02, -3.6882e-01, -3.0944e-01,\n",
       "         -2.2730e-01,  1.4390e-01,  2.8724e-01, -5.3721e-01, -2.2150e-01,\n",
       "         -1.9393e-01, -4.1382e-01,  9.5178e-02, -2.1295e-02, -5.9665e-03,\n",
       "          3.4003e-02, -1.6181e-01, -1.6450e-01, -5.7070e-02, -5.1698e-02,\n",
       "         -1.9340e-02, -5.8314e-02, -2.2340e-01,  8.9567e-02, -8.9440e-01,\n",
       "         -1.3444e-01,  2.6110e-01,  3.1398e-02,  2.7121e-01, -1.7455e-01,\n",
       "         -8.1097e-01,  7.2738e-02, -2.0383e-01, -1.2739e-01, -1.2253e-01,\n",
       "         -1.9670e-01, -4.5299e-01,  2.1619e-01,  1.3283e-01, -1.2620e-02,\n",
       "          5.0164e-01, -1.4212e-01,  5.2350e-01,  9.1640e-02,  1.9402e-01,\n",
       "          1.2317e-01, -2.3644e-01,  5.6919e-02, -4.6721e-01, -3.2293e-01,\n",
       "         -3.6417e-02, -4.6436e-01, -1.0725e-01, -2.7354e-01, -3.3707e-02,\n",
       "         -9.4537e-02,  1.1091e-01,  3.8134e-01,  2.5987e-01, -2.2308e-03,\n",
       "          3.7393e-02,  1.3617e-01, -4.7852e-01,  2.0626e-01, -3.1126e-01,\n",
       "         -2.0574e-01, -1.3889e-01, -1.2635e-01,  9.3140e-02, -1.7474e-01,\n",
       "         -4.4799e-01,  2.3613e-01, -3.3805e-01, -3.7118e-01, -1.6351e-02,\n",
       "         -3.3416e-01, -6.7192e-02,  1.2201e-01, -3.0439e-01, -3.9192e-02,\n",
       "          3.3868e-01, -2.0354e-02, -1.3718e-01,  5.4642e-01,  1.0641e-01,\n",
       "         -3.3864e-02, -9.0946e-04, -5.7689e-01,  1.3736e-01,  6.6404e-01,\n",
       "          1.7961e-03, -8.7632e-03,  1.2964e-01, -1.8161e-01, -1.7749e-01,\n",
       "          3.0582e-01, -1.5990e-02, -3.7567e-01,  1.0267e-01, -6.6878e-02,\n",
       "         -4.7310e-01, -2.0727e-01, -1.7548e-02, -1.1846e-01, -5.4431e-01,\n",
       "          5.5259e-01,  3.8784e-01, -1.5387e-01, -4.0592e-02, -1.1163e-01,\n",
       "          6.6847e-02, -9.1994e-02, -3.7333e-02,  2.5378e-02,  3.3133e-01,\n",
       "          3.6134e-01, -1.6194e-01,  5.5211e-01,  2.3382e-01, -9.7097e-02,\n",
       "         -1.3293e-01, -6.0699e-02,  3.1304e-01,  8.9111e-02,  2.0165e-01,\n",
       "         -1.5285e-01,  3.7517e-01,  1.6806e-02, -3.2951e-02,  5.3482e-02,\n",
       "         -2.2183e-01, -9.8322e-02, -1.1586e-02,  1.6553e-01, -1.4165e-01,\n",
       "          2.4755e-01,  2.8974e-01,  2.3413e-01,  1.7944e-01,  3.3852e-01,\n",
       "         -2.2399e-02,  7.2636e-01,  6.1363e-01,  1.9386e-01,  2.2417e-01,\n",
       "         -7.4867e-02, -2.2434e-01,  2.2268e-01, -4.0769e-02,  8.8533e-02,\n",
       "          4.2448e-01,  1.2313e-01,  4.1907e-01,  1.7976e-01,  3.1272e-01,\n",
       "          4.9008e-01, -3.6841e-01, -1.7837e-01, -6.5399e-02,  1.3451e-01,\n",
       "         -8.0393e-02, -1.1430e-01,  6.1031e-02,  1.8712e-01, -1.1117e-01,\n",
       "         -2.1997e-01, -3.3704e-01,  7.8126e-02,  7.4679e-02, -1.4643e-01,\n",
       "         -8.6948e-02, -1.2069e-01,  5.1261e-01, -2.0245e-01, -1.6665e-01,\n",
       "         -2.8919e-01, -2.0517e-01, -2.6835e-01, -5.1479e-02, -1.8252e-01,\n",
       "          7.9757e-02, -2.0013e-01, -3.9398e-01,  3.9173e-02,  2.7266e-02,\n",
       "          2.3073e-01, -9.5829e-02, -1.7379e-01, -3.0136e-01,  2.5983e-01,\n",
       "          7.8883e-03,  4.0642e-01,  5.4763e-02,  2.5699e-01, -4.5194e-01,\n",
       "         -3.0007e-01, -3.0214e-02,  3.5222e-01, -4.9538e-02, -1.2716e-01,\n",
       "          3.0572e-01, -2.6024e-01, -7.2450e-02,  7.4138e-02,  2.2782e-01,\n",
       "         -4.1593e-01, -7.6888e-02, -1.0249e-01, -4.4931e-02,  1.2888e-01,\n",
       "          1.5838e-01, -2.7864e-01, -5.8396e-02, -3.7787e-01, -4.3247e-01,\n",
       "          3.8734e-02, -2.7191e-02, -1.5324e-01,  6.6188e-02,  3.1531e-01,\n",
       "          1.2191e-01,  2.4132e-02,  1.1988e-01, -1.8767e-01,  3.1757e-01,\n",
       "          2.6042e-02,  3.2596e-02,  4.3976e-02, -8.2556e-02, -2.4352e-01,\n",
       "          2.9324e-01, -2.5719e-01,  2.7089e-01,  2.3704e-01,  2.7802e-01,\n",
       "         -1.3993e-02, -2.3916e-01,  5.8349e-01, -1.8421e-01, -2.3734e-01,\n",
       "         -3.9753e-01, -1.7444e-01, -3.8615e-01, -2.3765e-01,  3.0676e-02,\n",
       "          1.7177e-01, -1.0401e-01,  2.3796e-01, -2.9360e-01, -1.6019e-01,\n",
       "         -4.3229e-02, -2.8356e-02, -1.5368e-01]])"
      ]
     },
     "execution_count": 28,
     "metadata": {},
     "output_type": "execute_result"
    }
   ],
   "source": [
    "context_vector = sum_embeddings / sum_mask\n",
    "context_vector"
   ]
  },
  {
   "cell_type": "code",
   "execution_count": 29,
   "metadata": {},
   "outputs": [
    {
     "data": {
      "text/html": [
       "\n",
       "  \n",
       "  "
      ],
      "text/plain": [
       "<IPython.core.display.HTML object>"
      ]
     },
     "metadata": {},
     "output_type": "display_data"
    },
    {
     "data": {
      "text/plain": [
       "torch.Size([1, 768])"
      ]
     },
     "execution_count": 29,
     "metadata": {},
     "output_type": "execute_result"
    }
   ],
   "source": [
    "context_vector.shape"
   ]
  },
  {
   "cell_type": "code",
   "execution_count": null,
   "metadata": {},
   "outputs": [],
   "source": []
  }
 ],
 "metadata": {
  "kernelspec": {
   "display_name": "base",
   "language": "python",
   "name": "python3"
  },
  "language_info": {
   "codemirror_mode": {
    "name": "ipython",
    "version": 3
   },
   "file_extension": ".py",
   "mimetype": "text/x-python",
   "name": "python",
   "nbconvert_exporter": "python",
   "pygments_lexer": "ipython3",
   "version": "3.9.12"
  }
 },
 "nbformat": 4,
 "nbformat_minor": 2
}
