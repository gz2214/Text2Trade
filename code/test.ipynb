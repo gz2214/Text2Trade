{
 "cells": [
  {
   "cell_type": "code",
   "execution_count": 56,
   "metadata": {},
   "outputs": [],
   "source": [
    "import numpy as np\n",
    "import pandas as pd\n",
    "import pyarrow\n",
    "from datetime import datetime\n",
    "import matplotlib.pyplot as plt\n",
    "import torch\n",
    "from sklearn.preprocessing import MinMaxScaler"
   ]
  },
  {
   "cell_type": "code",
   "execution_count": 65,
   "metadata": {},
   "outputs": [],
   "source": [
    "def create_dataset(data, lookback, window_size=50, val_step=1, test_step=7, dates=None):\n",
    "    '''\n",
    "    This function creates a dataset for time series forecasting, with a rolling window of lookback. \n",
    "    Note that the first column need to be the daily price movement\n",
    "    \n",
    "    Parameters\n",
    "    data: a 2D numpy array with shape (# of days, # of features)\n",
    "    lookback: an integer of how many trading days to lookback to\n",
    "    window_size: number of days to include in each block, window_size = train_step + test_step\n",
    "    test_step: number of days to predict\n",
    "    dates: spcific dates provided for splitting train and val set\n",
    "\n",
    "    Returns\n",
    "    X_train, y_train, X_val, y_val: dict of n_blocks as keys and 3D tensor of shape (n_data, lookback, n_feat) as values\n",
    "    y_train, y_val: dict of n_blocks as keys and 2D tensor of shape (n_data, 1) as values\n",
    "    X_test: 2D tensor of shape (n_data, n_feat)\n",
    "    y_test: 2D tensor of shape (n_data, 1)\n",
    "    '''\n",
    "    assert type(data) == np.ndarray and len(data.shape) == 2, 'Input data needs to be a 2D numpy array'\n",
    "\n",
    "    n_data, n_feat = data.shape\n",
    "    loop = n_data - lookback - 1\n",
    "    \n",
    "    # X and y are 3D arrays\n",
    "    X = np.empty((loop, lookback, n_feat))\n",
    "    y = np.empty((loop, 1))\n",
    "    for i in range(loop):\n",
    "        X[i] = data[i:i+lookback] # all features of the past lookback days\n",
    "        y[i] = data[i+lookback+1, 0] # price movement of the next day\n",
    "    \n",
    "    X = torch.from_numpy(X).float()\n",
    "    y = torch.from_numpy(y)\n",
    "    #split data into train and val, also keep 7 days at the end as holdout test set\n",
    "    X_train, X_val, X_test = time_series_split(X, window_size=window_size, val_step=val_step, test_step=test_step)\n",
    "    y_train, y_val, y_test = time_series_split(y, window_size=window_size, val_step=val_step, test_step=test_step)\n",
    "    print('done')\n",
    "    \n",
    "    return X_train, X_val, X_test, y_train, y_val, y_test\n",
    "    \n",
    "def time_series_split(data, window_size=50, val_step=1, test_step=7):\n",
    "    \"\"\"\n",
    "    Split data using rolling-window (block) split\n",
    "    data: a 3D array([number of data, number of lookbacks, number of features]) X or a 2D array([number of data, 1]) y\n",
    "    window_size: number of days to include in each block, window_size = train_step + val_step\n",
    "    test_step: number of days to predict\n",
    "    \n",
    "    return: dict of 3D tensor(train/val, # of lookbacks, # of features) and a 3D tensor(test, # of lookbacks, # of features)\n",
    "    \"\"\"\n",
    "    assert len(data) >= window_size, 'Data length needs to be longer than window size'\n",
    "\n",
    "    n_data = data.shape[0]\n",
    "    n_block = n_data // window_size\n",
    "    test = data[-test_step:] # holdout test set\n",
    "    data = data[:-test_step] # remove holdout part then split\n",
    "    train, val= dict(), dict()\n",
    "\n",
    "    if val_step != 0:\n",
    "        for i in range(n_block-1):\n",
    "            init = i * window_size\n",
    "            block = data[init:init+window_size]\n",
    "            train[f'block_{i}'] = block[:-val_step]\n",
    "            val[f'block_{i}'] = block[-val_step:]\n",
    "        train[f'block_{n_block}'] = data[n_block*window_size:-val_step]\n",
    "        val[f'block_{n_block}'] = data[-val_step:]\n",
    "\n",
    "        return train, val, test\n",
    "    \n",
    "    else: # after tuning, we will train the final model on the complete data excluding the holdout test set without splitting into blocks\n",
    "        return data, torch.tensor([]), test"
   ]
  },
  {
   "cell_type": "code",
   "execution_count": 66,
   "metadata": {},
   "outputs": [],
   "source": [
    "stock_path = '../data/daily_price_movement.csv'\n",
    "daily = pd.read_csv(stock_path, header=0)"
   ]
  },
  {
   "cell_type": "code",
   "execution_count": 67,
   "metadata": {},
   "outputs": [
    {
     "name": "stdout",
     "output_type": "stream",
     "text": [
      "done\n"
     ]
    }
   ],
   "source": [
    "daily_movement = daily.to_numpy()[:, 1].reshape(-1, 1)\n",
    "X_train, X_val, X_test, y_train, y_val, y_test = create_dataset(daily_movement, lookback=5, window_size=50, val_step=0, test_step=7)"
   ]
  },
  {
   "cell_type": "code",
   "execution_count": 79,
   "metadata": {},
   "outputs": [
    {
     "data": {
      "text/plain": [
       "torch.Size([7, 1])"
      ]
     },
     "execution_count": 79,
     "metadata": {},
     "output_type": "execute_result"
    }
   ],
   "source": [
    "y_test.shape"
   ]
  },
  {
   "cell_type": "code",
   "execution_count": 73,
   "metadata": {},
   "outputs": [
    {
     "data": {
      "text/plain": [
       "torch.Size([0])"
      ]
     },
     "execution_count": 73,
     "metadata": {},
     "output_type": "execute_result"
    }
   ],
   "source": [
    "X_val.shape"
   ]
  },
  {
   "cell_type": "code",
   "execution_count": 47,
   "metadata": {},
   "outputs": [
    {
     "data": {
      "text/plain": [
       "tensor([])"
      ]
     },
     "execution_count": 47,
     "metadata": {},
     "output_type": "execute_result"
    }
   ],
   "source": [
    "torch.tensor([])"
   ]
  },
  {
   "cell_type": "code",
   "execution_count": null,
   "metadata": {},
   "outputs": [],
   "source": []
  }
 ],
 "metadata": {
  "kernelspec": {
   "display_name": "base",
   "language": "python",
   "name": "python3"
  },
  "language_info": {
   "codemirror_mode": {
    "name": "ipython",
    "version": 3
   },
   "file_extension": ".py",
   "mimetype": "text/x-python",
   "name": "python",
   "nbconvert_exporter": "python",
   "pygments_lexer": "ipython3",
   "version": "3.9.12"
  }
 },
 "nbformat": 4,
 "nbformat_minor": 2
}
