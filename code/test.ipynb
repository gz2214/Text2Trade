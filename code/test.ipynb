{
 "cells": [
  {
   "cell_type": "code",
   "execution_count": 15,
   "metadata": {},
   "outputs": [],
   "source": [
    "import numpy as np\n",
    "import pandas as pd\n",
    "import pyarrow\n",
    "from datetime import datetime\n",
    "import matplotlib.pyplot as plt\n",
    "import torch\n",
    "from sklearn.preprocessing import MinMaxScaler\n",
    "import os\n",
    "import re"
   ]
  },
  {
   "cell_type": "code",
   "execution_count": 2,
   "metadata": {},
   "outputs": [],
   "source": [
    "def create_dataset(data, lookback, window_size=50, val_step=1, test_step=7, dates=None):\n",
    "    '''\n",
    "    This function creates a dataset for time series forecasting, with a rolling window of lookback. \n",
    "    Note that the first column need to be the daily price movement\n",
    "    \n",
    "    Parameters\n",
    "    data: a 2D numpy array with shape (# of days, # of features)\n",
    "    lookback: an integer of how many trading days to lookback to\n",
    "    window_size: number of days to include in each block, window_size = train_step + test_step\n",
    "    test_step: number of days to predict\n",
    "    dates: spcific dates provided for splitting train and val set\n",
    "\n",
    "    Returns\n",
    "    X_train, y_train, X_val, y_val: dict of n_blocks as keys and 3D tensor of shape (n_data, lookback, n_feat) as values\n",
    "    y_train, y_val: dict of n_blocks as keys and 2D tensor of shape (n_data, 1) as values\n",
    "    X_test: 2D tensor of shape (n_data, n_feat)\n",
    "    y_test: 2D tensor of shape (n_data, 1)\n",
    "    '''\n",
    "    assert type(data) == np.ndarray and len(data.shape) == 2, 'Input data needs to be a 2D numpy array'\n",
    "\n",
    "    n_data, n_feat = data.shape\n",
    "    loop = n_data - lookback - 1\n",
    "    \n",
    "    # X and y are 3D arrays\n",
    "    X = np.empty((loop, lookback, n_feat))\n",
    "    y = np.empty((loop, 1))\n",
    "    for i in range(loop):\n",
    "        X[i] = data[i:i+lookback] # all features of the past lookback days\n",
    "        y[i] = data[i+lookback+1, 0] # price movement of the next day\n",
    "    \n",
    "    X = torch.from_numpy(X).float()\n",
    "    y = torch.from_numpy(y)\n",
    "    #split data into train and val, also keep 7 days at the end as holdout test set\n",
    "    X_train, X_val, X_test = time_series_split(X, window_size=window_size, val_step=val_step, test_step=test_step)\n",
    "    y_train, y_val, y_test = time_series_split(y, window_size=window_size, val_step=val_step, test_step=test_step)\n",
    "    \n",
    "    return X_train, X_val, X_test, y_train, y_val, y_test\n",
    "    \n",
    "def time_series_split(data, window_size=50, val_step=1, test_step=7):\n",
    "    \"\"\"\n",
    "    Split data using rolling-window (block) split\n",
    "    data: a 3D array([number of data, number of lookbacks, number of features]) X or a 2D array([number of data, 1]) y\n",
    "    window_size: number of days to include in each block, window_size = train_step + val_step\n",
    "    test_step: number of days to predict\n",
    "    \n",
    "    return: dict of 3D tensor(train/val, # of lookbacks, # of features) and a 3D tensor(test, # of lookbacks, # of features)\n",
    "    \"\"\"\n",
    "    assert len(data) >= window_size, 'Data length needs to be longer than window size'\n",
    "\n",
    "    n_data = data.shape[0]\n",
    "    n_block = n_data // window_size\n",
    "    test = data[-test_step:] # holdout test set\n",
    "    data = data[:-test_step] # remove holdout part then split\n",
    "    train, val= dict(), dict()\n",
    "\n",
    "    if val_step != 0:\n",
    "        for i in range(n_block):\n",
    "            init = i * window_size\n",
    "            if init + window_size <= n_data:\n",
    "                block = data[init:init + window_size]\n",
    "                train[f'block_{i}'] = block[:-val_step]\n",
    "                val[f'block_{i}'] = block[-val_step:]\n",
    "            else:\n",
    "                # Handle the last block which might be smaller\n",
    "                block = data[init:]\n",
    "                train[f'block_{i}'] = block[:-val_step] if len(block) > val_step else block\n",
    "                val[f'block_{i}'] = block[-val_step:] if len(block) > val_step else torch.tensor([])\n",
    "\n",
    "        return train, val, test\n",
    "    \n",
    "    else: # after tuning, we will train the final model on the complete data excluding the holdout test set without splitting into blocks\n",
    "        return data, torch.tensor([]), test"
   ]
  },
  {
   "cell_type": "code",
   "execution_count": 24,
   "metadata": {},
   "outputs": [
    {
     "data": {
      "text/html": [
       "<div>\n",
       "<style scoped>\n",
       "    .dataframe tbody tr th:only-of-type {\n",
       "        vertical-align: middle;\n",
       "    }\n",
       "\n",
       "    .dataframe tbody tr th {\n",
       "        vertical-align: top;\n",
       "    }\n",
       "\n",
       "    .dataframe thead th {\n",
       "        text-align: right;\n",
       "    }\n",
       "</style>\n",
       "<table border=\"1\" class=\"dataframe\">\n",
       "  <thead>\n",
       "    <tr style=\"text-align: right;\">\n",
       "      <th></th>\n",
       "      <th>Title_Embedding</th>\n",
       "      <th>date</th>\n",
       "    </tr>\n",
       "  </thead>\n",
       "  <tbody>\n",
       "    <tr>\n",
       "      <th>0</th>\n",
       "      <td>[[1.017, 1.0, 1.5383, 2.0, 6.7358, 2.0, 9.7041...</td>\n",
       "      <td>2021-03-18</td>\n",
       "    </tr>\n",
       "    <tr>\n",
       "      <th>1</th>\n",
       "      <td>[[8.6033, 2.0, 5.9632, 3.0, 4.0968, 2.0, 2.373...</td>\n",
       "      <td>2021-03-19</td>\n",
       "    </tr>\n",
       "    <tr>\n",
       "      <th>2</th>\n",
       "      <td>[[9.4112, 2.0, 5.5919, 3.0, 6.2575, 2.0, 1.750...</td>\n",
       "      <td>2021-03-22</td>\n",
       "    </tr>\n",
       "    <tr>\n",
       "      <th>3</th>\n",
       "      <td>[[8.6203, 2.0, 1.1078, 2.0, 5.542, 2.0, 2.0828...</td>\n",
       "      <td>2021-03-23</td>\n",
       "    </tr>\n",
       "    <tr>\n",
       "      <th>4</th>\n",
       "      <td>[[1.0256, 1.0, 2.2014, 2.0, 6.7714, 2.0, 1.309...</td>\n",
       "      <td>2021-03-24</td>\n",
       "    </tr>\n",
       "    <tr>\n",
       "      <th>...</th>\n",
       "      <td>...</td>\n",
       "      <td>...</td>\n",
       "    </tr>\n",
       "    <tr>\n",
       "      <th>792</th>\n",
       "      <td>[[8.8404, 2.0, 8.7555, 3.0, 5.8778, 2.0, 2.063...</td>\n",
       "      <td>2023-09-21</td>\n",
       "    </tr>\n",
       "    <tr>\n",
       "      <th>793</th>\n",
       "      <td>[[1.0754, 1.0, 9.7573, 3.0, 6.5648, 2.0, 1.328...</td>\n",
       "      <td>2023-09-22</td>\n",
       "    </tr>\n",
       "    <tr>\n",
       "      <th>794</th>\n",
       "      <td>[[1.0516, 1.0, 1.5294, 2.0, 7.2295, 2.0, 1.113...</td>\n",
       "      <td>2023-09-25</td>\n",
       "    </tr>\n",
       "    <tr>\n",
       "      <th>795</th>\n",
       "      <td>[[8.588, 2.0, 4.9078, 4.0, 4.0654, 2.0, 1.3243...</td>\n",
       "      <td>2023-09-26</td>\n",
       "    </tr>\n",
       "    <tr>\n",
       "      <th>796</th>\n",
       "      <td>[[9.1056, 2.0, 8.8716, 3.0, 5.8284, 2.0, 2.028...</td>\n",
       "      <td>2023-09-27</td>\n",
       "    </tr>\n",
       "  </tbody>\n",
       "</table>\n",
       "<p>797 rows × 2 columns</p>\n",
       "</div>"
      ],
      "text/plain": [
       "                                       Title_Embedding       date\n",
       "0    [[1.017, 1.0, 1.5383, 2.0, 6.7358, 2.0, 9.7041... 2021-03-18\n",
       "1    [[8.6033, 2.0, 5.9632, 3.0, 4.0968, 2.0, 2.373... 2021-03-19\n",
       "2    [[9.4112, 2.0, 5.5919, 3.0, 6.2575, 2.0, 1.750... 2021-03-22\n",
       "3    [[8.6203, 2.0, 1.1078, 2.0, 5.542, 2.0, 2.0828... 2021-03-23\n",
       "4    [[1.0256, 1.0, 2.2014, 2.0, 6.7714, 2.0, 1.309... 2021-03-24\n",
       "..                                                 ...        ...\n",
       "792  [[8.8404, 2.0, 8.7555, 3.0, 5.8778, 2.0, 2.063... 2023-09-21\n",
       "793  [[1.0754, 1.0, 9.7573, 3.0, 6.5648, 2.0, 1.328... 2023-09-22\n",
       "794  [[1.0516, 1.0, 1.5294, 2.0, 7.2295, 2.0, 1.113... 2023-09-25\n",
       "795  [[8.588, 2.0, 4.9078, 4.0, 4.0654, 2.0, 1.3243... 2023-09-26\n",
       "796  [[9.1056, 2.0, 8.8716, 3.0, 5.8284, 2.0, 2.028... 2023-09-27\n",
       "\n",
       "[797 rows x 2 columns]"
      ]
     },
     "execution_count": 24,
     "metadata": {},
     "output_type": "execute_result"
    }
   ],
   "source": [
    "embed"
   ]
  },
  {
   "cell_type": "code",
   "execution_count": 18,
   "metadata": {},
   "outputs": [],
   "source": [
    "def tensor_string_to_numpy(tensor_str):\n",
    "    if pd.isna(tensor_str):\n",
    "        return np.array([])\n",
    "    nums = re.findall(r'[\\d.\\d]+', tensor_str)\n",
    "    nums = [float(num) for num in nums]\n",
    "    return np.array([nums])"
   ]
  },
  {
   "cell_type": "code",
   "execution_count": 41,
   "metadata": {},
   "outputs": [],
   "source": [
    "stock_path = '../data/daily_price_movement.csv'\n",
    "daily = pd.read_csv(stock_path, header=0)\n",
    "\n",
    "embed_path = '../data/BERT_embedding'\n",
    "files = os.listdir(embed_path)\n",
    "embed = pd.DataFrame(columns=['Date', 'Title_Embedding'])\n",
    "for f in files:\n",
    "    embed = pd.concat([embed,pd.read_csv(embed_path+'/'+f, header=0)], ignore_index=True)\n",
    "\n",
    "embed['date'] = embed['Date'].apply(lambda x: x.split(' ')[0])\n",
    "embed['Title_Embedding'] = embed['Title_Embedding'].apply(tensor_string_to_numpy)\n",
    "temp = pd.merge(daily, embed, on='date', how='left')\n",
    "data = np.append(temp['price_movement'].to_numpy().reshape(-1, 1), np.vstack(temp['Title_Embedding']), axis=1)"
   ]
  },
  {
   "cell_type": "code",
   "execution_count": 44,
   "metadata": {},
   "outputs": [
    {
     "data": {
      "text/plain": [
       "array([[1.    , 9.4837, 2.    , ..., 1.    , 3.067 , 3.    ],\n",
       "       [1.    , 9.0773, 2.    , ..., 1.    , 2.8119, 2.    ],\n",
       "       [1.    , 1.0125, 1.    , ..., 1.    , 2.666 , 3.    ],\n",
       "       ...,\n",
       "       [1.    , 1.1286, 1.    , ..., 1.    , 3.8511, 2.    ],\n",
       "       [0.    , 1.0391, 1.    , ..., 1.    , 3.8911, 3.    ],\n",
       "       [1.    , 1.136 , 1.    , ..., 1.    , 1.2183, 2.    ]])"
      ]
     },
     "execution_count": 44,
     "metadata": {},
     "output_type": "execute_result"
    }
   ],
   "source": [
    "data[:10]"
   ]
  },
  {
   "cell_type": "code",
   "execution_count": 28,
   "metadata": {},
   "outputs": [],
   "source": [
    "daily_movement = daily.to_numpy()[:, 1].reshape(-1, 1)\n",
    "X_train, X_val, X_test, y_train, y_val, y_test = create_dataset(daily_movement, lookback=5, window_size=50, val_step=1, test_step=7)"
   ]
  },
  {
   "cell_type": "code",
   "execution_count": 29,
   "metadata": {},
   "outputs": [
    {
     "data": {
      "text/plain": [
       "['block_0',\n",
       " 'block_1',\n",
       " 'block_2',\n",
       " 'block_3',\n",
       " 'block_4',\n",
       " 'block_5',\n",
       " 'block_6',\n",
       " 'block_7',\n",
       " 'block_8',\n",
       " 'block_9',\n",
       " 'block_10',\n",
       " 'block_11',\n",
       " 'block_12',\n",
       " 'block_13',\n",
       " 'block_14']"
      ]
     },
     "execution_count": 29,
     "metadata": {},
     "output_type": "execute_result"
    }
   ],
   "source": [
    "list(X_val.keys())"
   ]
  },
  {
   "cell_type": "code",
   "execution_count": 31,
   "metadata": {},
   "outputs": [
    {
     "data": {
      "text/plain": [
       "[49, 49, 49, 49, 49, 49, 49, 49, 49, 49, 49, 49, 49, 49, 49]"
      ]
     },
     "execution_count": 31,
     "metadata": {},
     "output_type": "execute_result"
    }
   ],
   "source": [
    "[len(v) for v in X_train.values()]"
   ]
  },
  {
   "cell_type": "code",
   "execution_count": 47,
   "metadata": {},
   "outputs": [
    {
     "data": {
      "text/plain": [
       "tensor([])"
      ]
     },
     "execution_count": 47,
     "metadata": {},
     "output_type": "execute_result"
    }
   ],
   "source": [
    "torch.tensor([])"
   ]
  },
  {
   "cell_type": "code",
   "execution_count": null,
   "metadata": {},
   "outputs": [],
   "source": []
  }
 ],
 "metadata": {
  "kernelspec": {
   "display_name": "base",
   "language": "python",
   "name": "python3"
  },
  "language_info": {
   "codemirror_mode": {
    "name": "ipython",
    "version": 3
   },
   "file_extension": ".py",
   "mimetype": "text/x-python",
   "name": "python",
   "nbconvert_exporter": "python",
   "pygments_lexer": "ipython3",
   "version": "3.9.12"
  }
 },
 "nbformat": 4,
 "nbformat_minor": 2
}
