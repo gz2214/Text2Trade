{
  "nbformat": 4,
  "nbformat_minor": 0,
  "metadata": {
    "colab": {
      "provenance": [],
      "machine_shape": "hm",
      "gpuType": "T4",
      "authorship_tag": "ABX9TyNrPGtj9L3qEOPuQD811dyU",
      "include_colab_link": true
    },
    "kernelspec": {
      "name": "python3",
      "display_name": "Python 3"
    },
    "language_info": {
      "name": "python"
    },
    "accelerator": "GPU"
  },
  "cells": [
    {
      "cell_type": "markdown",
      "metadata": {
        "id": "view-in-github",
        "colab_type": "text"
      },
      "source": [
        "<a href=\"https://colab.research.google.com/github/gz2214/Text2Trade/blob/main/code/Bert_Classifier.ipynb\" target=\"_parent\"><img src=\"https://colab.research.google.com/assets/colab-badge.svg\" alt=\"Open In Colab\"/></a>"
      ]
    },
    {
      "cell_type": "code",
      "source": [
        "!pip install datasets"
      ],
      "metadata": {
        "colab": {
          "base_uri": "https://localhost:8080/"
        },
        "id": "PsDRkTJgUPQA",
        "outputId": "73cc79c3-a198-4246-aea6-638d9966c63c"
      },
      "execution_count": 1,
      "outputs": [
        {
          "output_type": "stream",
          "name": "stdout",
          "text": [
            "Requirement already satisfied: datasets in /usr/local/lib/python3.10/dist-packages (2.15.0)\n",
            "Requirement already satisfied: numpy>=1.17 in /usr/local/lib/python3.10/dist-packages (from datasets) (1.23.5)\n",
            "Requirement already satisfied: pyarrow>=8.0.0 in /usr/local/lib/python3.10/dist-packages (from datasets) (9.0.0)\n",
            "Requirement already satisfied: pyarrow-hotfix in /usr/local/lib/python3.10/dist-packages (from datasets) (0.6)\n",
            "Requirement already satisfied: dill<0.3.8,>=0.3.0 in /usr/local/lib/python3.10/dist-packages (from datasets) (0.3.7)\n",
            "Requirement already satisfied: pandas in /usr/local/lib/python3.10/dist-packages (from datasets) (1.5.3)\n",
            "Requirement already satisfied: requests>=2.19.0 in /usr/local/lib/python3.10/dist-packages (from datasets) (2.31.0)\n",
            "Requirement already satisfied: tqdm>=4.62.1 in /usr/local/lib/python3.10/dist-packages (from datasets) (4.66.1)\n",
            "Requirement already satisfied: xxhash in /usr/local/lib/python3.10/dist-packages (from datasets) (3.4.1)\n",
            "Requirement already satisfied: multiprocess in /usr/local/lib/python3.10/dist-packages (from datasets) (0.70.15)\n",
            "Requirement already satisfied: fsspec[http]<=2023.10.0,>=2023.1.0 in /usr/local/lib/python3.10/dist-packages (from datasets) (2023.6.0)\n",
            "Requirement already satisfied: aiohttp in /usr/local/lib/python3.10/dist-packages (from datasets) (3.9.1)\n",
            "Requirement already satisfied: huggingface-hub>=0.18.0 in /usr/local/lib/python3.10/dist-packages (from datasets) (0.19.4)\n",
            "Requirement already satisfied: packaging in /usr/local/lib/python3.10/dist-packages (from datasets) (23.2)\n",
            "Requirement already satisfied: pyyaml>=5.1 in /usr/local/lib/python3.10/dist-packages (from datasets) (6.0.1)\n",
            "Requirement already satisfied: attrs>=17.3.0 in /usr/local/lib/python3.10/dist-packages (from aiohttp->datasets) (23.1.0)\n",
            "Requirement already satisfied: multidict<7.0,>=4.5 in /usr/local/lib/python3.10/dist-packages (from aiohttp->datasets) (6.0.4)\n",
            "Requirement already satisfied: yarl<2.0,>=1.0 in /usr/local/lib/python3.10/dist-packages (from aiohttp->datasets) (1.9.3)\n",
            "Requirement already satisfied: frozenlist>=1.1.1 in /usr/local/lib/python3.10/dist-packages (from aiohttp->datasets) (1.4.0)\n",
            "Requirement already satisfied: aiosignal>=1.1.2 in /usr/local/lib/python3.10/dist-packages (from aiohttp->datasets) (1.3.1)\n",
            "Requirement already satisfied: async-timeout<5.0,>=4.0 in /usr/local/lib/python3.10/dist-packages (from aiohttp->datasets) (4.0.3)\n",
            "Requirement already satisfied: filelock in /usr/local/lib/python3.10/dist-packages (from huggingface-hub>=0.18.0->datasets) (3.13.1)\n",
            "Requirement already satisfied: typing-extensions>=3.7.4.3 in /usr/local/lib/python3.10/dist-packages (from huggingface-hub>=0.18.0->datasets) (4.5.0)\n",
            "Requirement already satisfied: charset-normalizer<4,>=2 in /usr/local/lib/python3.10/dist-packages (from requests>=2.19.0->datasets) (3.3.2)\n",
            "Requirement already satisfied: idna<4,>=2.5 in /usr/local/lib/python3.10/dist-packages (from requests>=2.19.0->datasets) (3.6)\n",
            "Requirement already satisfied: urllib3<3,>=1.21.1 in /usr/local/lib/python3.10/dist-packages (from requests>=2.19.0->datasets) (2.0.7)\n",
            "Requirement already satisfied: certifi>=2017.4.17 in /usr/local/lib/python3.10/dist-packages (from requests>=2.19.0->datasets) (2023.11.17)\n",
            "Requirement already satisfied: python-dateutil>=2.8.1 in /usr/local/lib/python3.10/dist-packages (from pandas->datasets) (2.8.2)\n",
            "Requirement already satisfied: pytz>=2020.1 in /usr/local/lib/python3.10/dist-packages (from pandas->datasets) (2023.3.post1)\n",
            "Requirement already satisfied: six>=1.5 in /usr/local/lib/python3.10/dist-packages (from python-dateutil>=2.8.1->pandas->datasets) (1.16.0)\n"
          ]
        }
      ]
    },
    {
      "cell_type": "code",
      "execution_count": 2,
      "metadata": {
        "id": "hxtJP0iuR_i4"
      },
      "outputs": [],
      "source": [
        "import pandas as pd\n",
        "import torch\n",
        "from tqdm import tqdm\n",
        "from datasets import load_from_disk\n",
        "from torch.utils.data import DataLoader, TensorDataset\n",
        "from transformers import BertTokenizer, BertForSequenceClassification, get_linear_schedule_with_warmup\n",
        "from torch.optim import AdamW\n",
        "import ast\n",
        "import re\n",
        "import os\n",
        "import numpy as np\n",
        "from sklearn.metrics import accuracy_score\n",
        "import torch.optim as optim\n",
        "import torch.nn as nn"
      ]
    },
    {
      "cell_type": "code",
      "source": [
        "from google.colab import drive\n",
        "drive.mount('/content/drive')"
      ],
      "metadata": {
        "colab": {
          "base_uri": "https://localhost:8080/"
        },
        "id": "OP4ReU6JTXwz",
        "outputId": "42204093-2aee-4fbb-a569-f69e720ee581"
      },
      "execution_count": 3,
      "outputs": [
        {
          "output_type": "stream",
          "name": "stdout",
          "text": [
            "Drive already mounted at /content/drive; to attempt to forcibly remount, call drive.mount(\"/content/drive\", force_remount=True).\n"
          ]
        }
      ]
    },
    {
      "cell_type": "code",
      "source": [
        "dataset_path_block0 = '/content/drive/MyDrive/Text2Trade/data/block0'\n",
        "dataset_path_block1 = '/content/drive/MyDrive/Text2Trade/data/block1'\n",
        "dataset_path_block2 = '/content/drive/MyDrive/Text2Trade/data/block2'\n",
        "dataset_path_block3 = '/content/drive/MyDrive/Text2Trade/data/block3'\n",
        "dataset_path_block4 = '/content/drive/MyDrive/Text2Trade/data/block4'\n",
        "\n",
        "block0 = load_from_disk(dataset_path_block0)\n",
        "block1 = load_from_disk(dataset_path_block1)\n",
        "block2 = load_from_disk(dataset_path_block2)\n",
        "block3 = load_from_disk(dataset_path_block3)\n",
        "block4 = load_from_disk(dataset_path_block4)\n",
        "\n",
        "blocks = [block0, block1, block2, block3, block4]\n",
        "block_names = ['block0', 'block1', 'block2', 'block3', 'block4']"
      ],
      "metadata": {
        "id": "SrC41F-nSBzV"
      },
      "execution_count": 4,
      "outputs": []
    },
    {
      "cell_type": "code",
      "source": [
        "tokenizer = BertTokenizer.from_pretrained('bert-base-uncased')\n",
        "model = BertForSequenceClassification.from_pretrained(\"bert-base-uncased\",\n",
        "                                                      num_labels=2 # Binary classification (up/down)\n",
        ")"
      ],
      "metadata": {
        "colab": {
          "base_uri": "https://localhost:8080/"
        },
        "id": "9EK4tpIUSGkZ",
        "outputId": "79414c10-9580-461d-bea2-c105898d9bef"
      },
      "execution_count": 5,
      "outputs": [
        {
          "output_type": "stream",
          "name": "stderr",
          "text": [
            "Some weights of BertForSequenceClassification were not initialized from the model checkpoint at bert-base-uncased and are newly initialized: ['classifier.bias', 'classifier.weight']\n",
            "You should probably TRAIN this model on a down-stream task to be able to use it for predictions and inference.\n"
          ]
        }
      ]
    },
    {
      "cell_type": "code",
      "source": [
        "#function to split the text into chunks of tokens - ensure each chunk is less than 512 tokens\n",
        "def chunk_tokens(text, max_tokens=512):\n",
        "    tokens = tokenizer.tokenize(text) #tokenize text\n",
        "    chunks = []\n",
        "    current_chunk = []\n",
        "    current_length = 0\n",
        "\n",
        "    for token in tokens:\n",
        "        current_chunk.append(token) #append token to current chunk\n",
        "        current_length += 1\n",
        "\n",
        "        #once the limit is reached, the current chunk is saved, and a new chunk begins\n",
        "        if current_length >= max_tokens:\n",
        "            chunks.append(current_chunk)\n",
        "            current_chunk = []\n",
        "            current_length = 0\n",
        "\n",
        "    if current_chunk:\n",
        "        chunks.append(current_chunk)\n",
        "\n",
        "    return chunks"
      ],
      "metadata": {
        "id": "euRYSa1KT6Y2"
      },
      "execution_count": 6,
      "outputs": []
    },
    {
      "cell_type": "code",
      "source": [
        "#process a block of data and create df_train and df_test\n",
        "def process_blocks(block, block_name):\n",
        "    train_dataset = block['train']\n",
        "    test_dataset = block['test']\n",
        "\n",
        "    train_dates, train_titles, train_labels = [], [], []\n",
        "    test_dates, test_titles, test_labels = [], [], []\n",
        "\n",
        "    for item in tqdm(train_dataset, desc=f'Processing Train Data ({block_name})'):\n",
        "        date = item['Date']\n",
        "        title = item['Title']\n",
        "        label = item['Label']\n",
        "        #tokenizes the titles into chunks\n",
        "        chunks = chunk_tokens(title)\n",
        "\n",
        "        for chunk in chunks:\n",
        "            train_dates.append(date)\n",
        "            train_titles.append(' '.join(chunk))\n",
        "            train_labels.append(label)\n",
        "\n",
        "    for item in tqdm(test_dataset, desc=f'Processing Test Data ({block_name})'):\n",
        "        date = item['Date']\n",
        "        title = item['Title']\n",
        "        label = item['Label']\n",
        "        chunks = chunk_tokens(title)\n",
        "\n",
        "        for chunk in chunks:\n",
        "            test_dates.append(date)\n",
        "            test_titles.append(' '.join(chunk))\n",
        "            test_labels.append(label)\n",
        "\n",
        "    df_train = pd.DataFrame({'Date': train_dates, 'Title': train_titles, 'Label': train_labels})\n",
        "    df_test = pd.DataFrame({'Date': test_dates, 'Title': test_titles, 'Label': test_labels})\n",
        "\n",
        "    return df_train, df_test\n",
        "\n",
        "# Process each block\n",
        "for block, block_name in zip(blocks, block_names):\n",
        "    df_train, df_test = process_blocks(block, block_name)\n",
        "    df_train.to_csv(f'/content/drive/MyDrive/Text2Trade/data/{block_name}_train.csv', index=False)\n",
        "    df_test.to_csv(f'/content/drive/MyDrive/Text2Trade/data/{block_name}_test.csv', index=False)"
      ],
      "metadata": {
        "colab": {
          "base_uri": "https://localhost:8080/"
        },
        "id": "RaOeaixUT_CY",
        "outputId": "4c0e3778-0ef9-4a68-d322-21f99327b344"
      },
      "execution_count": 7,
      "outputs": [
        {
          "output_type": "stream",
          "name": "stderr",
          "text": [
            "Processing Train Data (block0): 100%|██████████| 128/128 [00:05<00:00, 23.31it/s]\n",
            "Processing Test Data (block0): 100%|██████████| 32/32 [00:01<00:00, 27.72it/s]\n",
            "Processing Train Data (block1): 100%|██████████| 128/128 [00:04<00:00, 27.28it/s]\n",
            "Processing Test Data (block1): 100%|██████████| 32/32 [00:01<00:00, 29.37it/s]\n",
            "Processing Train Data (block2): 100%|██████████| 127/127 [00:04<00:00, 30.33it/s]\n",
            "Processing Test Data (block2): 100%|██████████| 32/32 [00:01<00:00, 30.82it/s]\n",
            "Processing Train Data (block3): 100%|██████████| 127/127 [00:04<00:00, 30.76it/s]\n",
            "Processing Test Data (block3): 100%|██████████| 32/32 [00:01<00:00, 30.81it/s]\n",
            "Processing Train Data (block4): 100%|██████████| 127/127 [00:04<00:00, 30.39it/s]\n",
            "Processing Test Data (block4): 100%|██████████| 32/32 [00:00<00:00, 32.10it/s]\n"
          ]
        }
      ]
    },
    {
      "cell_type": "code",
      "source": [
        "train_dataset = block0['train']\n",
        "num_examples_to_view = 10\n",
        "example_text = train_dataset.select(range(num_examples_to_view))['Title']"
      ],
      "metadata": {
        "id": "DdpdtbyeUH4i"
      },
      "execution_count": 8,
      "outputs": []
    },
    {
      "cell_type": "code",
      "source": [
        "example_text"
      ],
      "metadata": {
        "colab": {
          "base_uri": "https://localhost:8080/"
        },
        "id": "v-GBXeYZULdv",
        "outputId": "89e75912-db5e-409b-9a29-c081b72e21f0"
      },
      "execution_count": 9,
      "outputs": [
        {
          "output_type": "execute_result",
          "data": {
            "text/plain": [
              "['Wynn Las Vegas files lawsuit after Labor Day weekend violence at property S&P 500 News: Amazon Leads Big Tech Stock Sell-Off, Wiping Out Broad Gains in Other Sectors 5 Stock Market Warning Signals For Fall 2020 Oracle Analysts On The Sidelines After Q1 Beat: BofA Awaits Sustained Revenue Acceleration Kroger CEO sees prices stabilizing, cooking demand lasting: Our customers \\'actually enjoy it\\' Bitcoin on Ethereum Is Booming: Closing In on $1 Billion in Value Walmart Plus: What you need to know about the new service Senate Democrats urge Amazon to recall, stop sales of explosive products Kia, Hyundai announce another recall for an engine fire risk affecting nearly 189K vehicles Defected casino exec must return phone with high-roller info Shares of Tesla rival Nikola crater after ‘fraud’ accusation Utah reports its highest daily number of new COVID-19 cases since July This powerful Budweiser 9/11 tribute commercial aired only once Oracle Highlights Zoom Video as Top Cloud Computing Customer IT ONLY AIRED ONCE: Budweiser\\'s iconic Clydesdales pay tribute to 9/11 in Super Bowl ad Beleaguered Bakery Chain Maison Kayser Files for Bankruptcy Trump praises JPMorgan Chase for ordering workers back to office Facebook appealing order by Ireland’s privacy regulator that could halt EU-US data transfers Video shows plane passenger punch woman in alleged racial attack Largest container ship ever docked along east coast arrives in NJ Gilead is getting closer to a deal to buy Immunomedics for more than $20 billion Work from home: Amazon’s 33,000 openings averaging $150,000 in pay to begin as remote jobs U.S Mortgage Rates Slide to Another Record Low Ahead of This Week’s FOMC Pay up, NJ! Toll hikes take effect on state\\'s 3 major highways XRP Set to Outperform Ethereum When Bitcoin Reclaims This Key Level, Says Top Analyst United Airlines sued for staffing NFL charters with young, blond crews MTA imposes $50 fine for NYC transit riders with no mask Ohio Investigative Unit cites four businesses for violating COVID-19 health orders United Airlines uses young, blond female crew for sports teams: suit Work from home: Amazon’s 33,000 openings averaging $150,000 in pay to begin as remote jobs Gilead nears deal to buy Immunomedics for more than $20 billion, WSJ reports AstraZeneca Resumes Covid Vaccine Trials After Independent Committee Approves Of Safety West Sonoma County school district launches consolidation feasibility study YouTube stars\\' account demonetized after they are accused of throwing parties amid pandemic A Shocking Number of High Earners Have No Retirement Savings Pay Up! Tolls Are Going Up on New Jersey\\'s 3 Main Highways Sunday More Smashed Windows Found On 7 Line Subway Car In Queens Nikola’s History of Discrepancies Has Been in Plain Sight Teachers Union President Seethes Over First Week Of Educators\\' Return To School 920 new COVID-19 cases reported, 91 in our central region on Sept. 12 Shhh -- Here\\'s the Secret to How Millions Can Pay No Tax on Stock Profits China willing to let TikTok die over Trump forcing a U.S. acquisition Elon Musk: Tesla Is About to Unveil \"Many Exciting Things\" Coronavirus vaccine trial resumes in U.K. after week-long pause Pfizer and BioNTech announce plan to expand Covid-19 vaccine trial Allegheny Co. Health Dept. Reports 57 New Coronavirus Cases, Bringing County Total To 11,126 Singapore Airlines May Launch Flights To Nowhere Pfizer proposes expansion of late-stage coronavirus vaccine trial New Jeep Grand Wagoneer Trackhawk Rendered, Production Rumors Grow AstraZeneca resumes UK trials of COVID-19 vaccine halted by patient illness AstraZeneca says trials of COVID vaccine resuming Astrazeneca Says Trials of COVID Vaccine Resuming Power restored to Westbank after 12,000 customer outage Where Will Walmart Be in 5 Years? Ethereum Fees Rise 70% to Continue Record-breaking Streak 3 Moves to Make and 1 Huge Mistake to Avoid if the Market Crashes Why the run of record-low mortgage rates may be ending Top Ripple Executive Says He Owns Bitcoin, XRP, Ethereum, and This Small-Cap Cryptocurrency Astra launch terminated during first-stage burn U.S. Budget Deficit Hits Record, Days After China Says It May Dump American Debt Rite Aid worker fired after asking customer to wear mask or leave Nevada unemployment department cutting ties with controversial call center Miami-Dade “Cruise Restart” Zoom Conference Turns Into Cheerleading Session Elon Musk Hypes up \"Battery Day\" on 9/22: Could Tesla have been Secretly Manufacturing Batteries As Well? Wynn Las Vegas files lawsuit after Labor Day weekend violence at property S&P 500 News: Amazon Leads Big Tech Stock Sell-Off, Wiping Out Broad Gains in Other Sectors 5 Stock Market Warning Signals For Fall 2020 Oracle Analysts On The Sidelines After Q1 Beat: BofA Awaits Sustained Revenue Acceleration New York City needs more neighborhoods in revolt against City Hall ByteDance rejects Microsoft\\'s bid for TikTok TikTok Has a Buyer at the 11th Hour: Report New Guidelines Issued on Medical Cannabis for Chronic Pain Big Tech’s India Plans Can’t Seem to Bypass Asia’s Richest Man BART restores full service after shutdown from ‘systemwide computer problem’ Altercation leads to deadly shooting near gas station and I-95 in Pompano Beach Fan Steals Travis Scott Meal Poster From a McDonald’s Window United blocks older crews from sports teams\\' charter flights, lawsuit claims NYC could lose $3B in federal aid over incomplete census forms Pfizer CEO: Company refused taxpayer money for COVID-19 vaccine development to \\'liberate our scientists\\' Pfizer CEO: Company refused taxpayer money for COVID-19 vaccine development to \\'liberate our scientists\\' With 200 Meat Plant Workers Dead, the Feds Issue 2 Fines Multiple Portland Whole Foods employees test positive for COVID-19, spokesperson says Pfizer and BioNTech Plan to Increase Size of Their Coronavirus Vaccine Clinical Trial Demand unlikely to recover until vaccine widely available Providence releases results of school inspections amid ventilation concerns Pfizer vaccine could be given to Americans before end of year, CEO says Nikola (NKLA) in Turmoil - What Should the Shareholders Now Expect Amid Allegations of Another Theranos in the Making? Bitcoin May Soon Push Higher After Taking Out Key Liquidity Levels Maine Whole Foods employees test positive for coronavirus The 2021 Social Security COLA Will Be Disappointing -- but at Least There\\'ll Be One Coronavirus: Why was the AstraZeneca vaccine trial stopped? All BART stations back online after computer issue canceled Sunday morning service Pfizer CEO \\'preparing\\' for likelihood of vaccine approval before end of year Harshmallow: Coronavirus Prompts Pause for Peeps Holiday Treats Week Ahead - More Stimulus On The Way? These Mistakes Will Take a Huge Bite Out of Your Social Security Income NLE Choppa Tells People To \"Put Them Travis Scott Burgers Down\" Delta Flight Returns to Gate, Removes Passenger Refusing to Wear Mask How to avoid falling for fraud After 200 meat plant workers die of covid-19, OSHA issues two fines Does It Really Matter When You Claim Social Security Benefits? Why It\\'s Unlikely Warren Buffett Is Actually Investing In Snowflake The luxury sector is going to be hard hit for years: Former LVMH exec Bitcoin Analyst Says XRP Will Annihilate Almost Every Other Altcoin - Here\\'s Why Data Shows That Workers Are Waiting Much Too Long to Start Saving for Retirement Warren Buffett In September: 44 Equities Yield 7 Buy-And-Hold Dividend Picks Reaching This Milestone Means Lower Taxes on Apple or Tesla Gains Motorcyclist killed in crash on I-70 in east Columbus Social Security May Run Out of Money Sooner Than Expected Gilead Sciences Close To Inking $20B Immunomedics Deal- Report Once an American foe, now a friend: OPEC turns 60 Tesla\\'s Autopilot Needs to Be Fixed. Period Traders Flip Short on Chainlink as It Flashes Some Major Warning Signs With travel limited, plane cafes take off in Thailand One man dead, two injured in shooting at RiffHouse Pub in Chesapeake Racist Attack Targets Family At Top Golf Roseville, Police Say Tarrant County announces 11 COVID-19 deaths; Dallas County adds 165 coronavirus cases, six deaths Video shows plane passenger punch woman in alleged racial attack Game streaming now OK for iPhones, with big caveats Huawei might have revealed a key feature of Google’s Android replacement Spain Seeks to Tax Facebook, Google Services as Phone Carriers Xbox\\'s Phil Spencer revealed the Xbox Series S in July, but no one noticed Here\\'s How Gambit Is Changing In Destiny 2 Beyond Light Destiny 2 Details New Armor Coming to Playlists in Beyond Light Unreleased OnePlus phones Alexa Print arrives just before Google Cloud Print leaves Destiny 2 Crucible, Gambit, and Strikes changes coming to Beyond Light Big Anker accessory sale includes hybrid wall Motorola is still putting micro-USB ports on new phones in 2020 Developers Are \\'Exploited\\' by Apple and Google to \\'Further Their Monopoly\\' Borderlands 3\\'s Krieg DLC Underplays Its Biggest Selling Point Apple Gives Epic Games Users a Sign-In Reprieve PC and console EA games are coming to Android, thanks to Xbox Game Streaming Control’s PS4 owners get - then lose - Ultimate Edition granting next-gen upgrade ‘Tony Hawk’s Pro Skater’ Is Harder Than You Remember Immortals Fenyx Rising Preorder Guide: Price, Release Date, Discounts, And Special Editions PlayStation 5 Console-Exclusive Godfall Reveals $90 Ascended Edition, Borderlands Crossover DLC Borderlands 3 gets free next-gen upgrade for PS5 and Xbox Series X T-Mobile customers can now roam on Sprint\\'s former network Call Of Duty: Black Ops Cold War Beta Test - Dates, How To Access, And Platforms Ninja Returns To Twitch, Has Exclusive Multi-Year Deal Final Fantasy 7 Remake Part 2 Has to Overcome One Big Challenge with Cloud Prince Of Persia: Sands Of Time Remake Revealed During Ubisoft Forward Google \\'Pixel 5s\\' leak shows off speckled rear Here are the official PC requirements for Serious Sam 4 LineageOS now supports nearly every Pixel phone with Android 10 builds Twitch Legal Department Unpartners Destiny After \\'Encouragement of Violence\\' Google’s new Chromecast has a new name and a solidified low price 1967 Ford Mustang Shelby GT500 \"Carbon Edition\" Costs $300k Before Options Samsung\\'s Galaxy Buds+ true wireless earbuds are on sale under $100 today only Windows 10 Version 1903 support end is near (December 2020) Fortnite: Where is the Apple Vs. Epic Battle Heading? AMD\\'s Ryzen 4000 \\'Vermeer\" CPUs Featuring Next-Gen Zen 3 Cores Detailed In Leaked Documents Microsoft Surface Duo: Design and battery life are its best features The best Epic Games Store Games: Fortnite, Tony Hawk\\'s Pro Skater 1 + 2 and more Sony WH-1000XM4 review: Still the best, but not much better Control Deluxe Edition Players Get Ultimate Edition Upgrade, Then Have It Removed HarmonyOS 2.0 Beta Released, HarmonyOS Devices Coming in 2021 Huawei Preparing Automotive Offensive, New Company to Spearhead In-Car Push Fortnite bans Faze Jarvis live on Twitch for evading cheating ban PS5 and Xbox Series X: 3 reasons why I’m not buying (yet) Sabrina dongle could launch as \\'Chromecast with Google TV\\' 705-HP Ares S Project Is A C8 Corvette With Supercar Clothing Leafy Permanently Banned on Twitch Shortly After Being Banned on YouTube Game streaming now OK for iPhones, with big caveats Huawei might have revealed a key feature of Google’s Android replacement Spain Seeks to Tax Facebook, Google Services as Phone Carriers Xbox\\'s Phil Spencer revealed the Xbox Series S in July, but no one noticed Here\\'s How Gambit Is Changing In Destiny 2 Beyond Light Destiny 2 Details New Armor Coming to Playlists in Beyond Light Unreleased OnePlus phones Alexa Print arrives just before Google Cloud Print leaves Destiny 2 Crucible, Gambit, and Strikes changes coming to Beyond Light Big Anker accessory sale includes hybrid wall Motorola is still putting micro-USB ports on new phones in 2020 Developers Are \\'Exploited\\' by Apple and Google to \\'Further Their Monopoly\\' Borderlands 3\\'s Krieg DLC Underplays Its Biggest Selling Point Apple Gives Epic Games Users a Sign-In Reprieve PC and console EA games are coming to Android, thanks to Xbox Game Streaming Control’s PS4 owners get - then lose - Ultimate Edition granting next-gen upgrade ‘Tony Hawk’s Pro Skater’ Is Harder Than You Remember Immortals Fenyx Rising Preorder Guide: Price, Release Date, Discounts, And Special Editions Elon Musk\\'s Neuralink brain chip could do wonders for animal testing and neuroscience Nintendo Switch Pro Model May Not Fix the Console\\'s Biggest Issues Ghost Recon Breakpoint: Red Patriot Trailer Shows Off New Enemy and More Updates The Legend of Zelda: 5 Things We Hope to Learn in Age of Calamity Final Fantasy Reveal Coming At PS5 Showcase, Deleted Tweet Suggests Update: Dragon Ball FighterZ Show livestream to breakdown Master Roshi, reveal the next balance patch and National Championship info Take A Look at Hyrule Castle 100 Years Before Breath of the Wild Call of Duty Champion Crimsix Says Shotguns Do Not Belong in Video Games Borderlands 3 Is Getting Another Paid DLC, Cross-Play, Splitscreen and 4K@60FPS on Next-Gen Final Fantasy 16 Will Be Unveiled Soon as Timed PS5 Exclusive Charles Barkley Explains Why He isn\\'t in NBA 2K Apple One bundle, long rumored, would cheer Wall Street Forget the Galaxy Z Fold 2 - the foldable iPhone Flip just leaked What\\'s the best email app for iPhone? [Updated for 2020] 3 Rock-Solid Dividend Stocks That You Can Buy and Hold Forever Microsoft’s First Android Device Truly Upgrades the Android Auto Experience Call of Duty: Modern Warfare Player Shows Unique View of Tactical Nuke Hunters capture video of rocket’s explosion on Kodiak Island CDC study: Do teens still vape? PlayStation 5 Console-Exclusive Godfall Reveals $90 Ascended Edition, Borderlands Crossover DLC Borderlands 3 gets free next-gen upgrade for PS5 and Xbox Series X T-Mobile customers can now roam on Sprint\\'s former network Call Of Duty: Black Ops Cold War Beta Test - Dates, How To Access, And Platforms Ninja Returns To Twitch, Has Exclusive Multi-Year Deal Final Fantasy 7 Remake Part 2 Has to Overcome One Big Challenge with Cloud Prince Of Persia: Sands Of Time Remake Revealed During Ubisoft Forward Google \\'Pixel 5s\\' leak shows off speckled rear Here are the official PC requirements for Serious Sam 4 LineageOS now supports nearly every Pixel phone with Android 10 builds Twitch Legal Department Unpartners Destiny After \\'Encouragement of Violence\\' Google’s new Chromecast has a new name and a solidified low price 1967 Ford Mustang Shelby GT500 \"Carbon Edition\" Costs $300k Before Options Samsung\\'s Galaxy Buds+ true wireless earbuds are on sale under $100 today only Windows 10 Version 1903 support end is near (December 2020) Fortnite: Where is the Apple Vs. Epic Battle Heading? AMD\\'s Ryzen 4000 \\'Vermeer\" CPUs Featuring Next-Gen Zen 3 Cores Detailed In Leaked Documents Microsoft Surface Duo: Design and battery life are its best features The best Epic Games Store Games: Fortnite, Tony Hawk\\'s Pro Skater 1 + 2 and more Sony WH-1000XM4 review: Still the best, but not much better Control Deluxe Edition Players Get Ultimate Edition Upgrade, Then Have It Removed HarmonyOS 2.0 Beta Released, HarmonyOS Devices Coming in 2021 Huawei Preparing Automotive Offensive, New Company to Spearhead In-Car Push Fortnite bans Faze Jarvis live on Twitch for evading cheating ban PS5 and Xbox Series X: 3 reasons why I’m not buying (yet) Sabrina dongle could launch as \\'Chromecast with Google TV\\' 705-HP Ares S Project Is A C8 Corvette With Supercar Clothing Leafy Permanently Banned on Twitch Shortly After Being Banned on YouTube Game streaming now OK for iPhones, with big caveats Huawei might have revealed a key feature of Google’s Android replacement Spain Seeks to Tax Facebook, Google Services as Phone Carriers This payment app scam could wipe out your bank account within minutes Facebook allows users to watch videos together online Final Fantasy XVI Will Reportedly Be Revealed at Sony\\'s Showcase Ed Boon Compares Xbox Series S to Lower-Priced iPhones; Could Very Well Become Microsoft’s Best-Selling Next-gen Console The Xbox Series S plays Xbox One S versions of Xbox One games Awesome Games Done Quick Officially Moves Online For 2021 Crash Bandicoot 4: It’s About Time Japanese live-action trailer An Assassin\\'s Creed Odyssey Bug Helped Inspire Immortals Fenyx Rising',\n",
              " '75 Texas Tech football players have tested positive for COVID-19 since testing began in June Facebook buying REI\\'s brand-new HQ for $368M Why Fastly Stock Surged Today Jim Cramer reveals playbook for Snowflake IPO: \\'It\\'s a great concept\\' Here\\'s some of the places Boston Sports Club owes money to Amazon to Hire 5,500 New Employees in Chicago Area, Signing Bonuses Offered What\\'s Behind Amazon\\'s Hiring Spree Ford Ranger Tremor: Meet the Midsize Off-Road Adventure Truck Snowflake Boosts Expected IPO Pricing Range Texas changes how it reports coronavirus positivity rate VA data breach exposes personal information for 46,000 veterans CenturyLink to Get a New Name Home Depot co-founder Arthur Blank on corporate profits, social change Hobby Lobby raises full-time hourly minimum wage to $17 New York City\\'s 2nd tallest office building unveiled at ceremony in Manhattan Taco Bell introduces Jalapeno Noir to its menu Why TikTok\\'s Oracle deal is a green light for advertisers to keep spending 5% of the U.S. corn crop has been picked, USDA says MTA And NYPD Begin Crackdown On Maskless Subway Riders Lead by example, bring staff back to office RGB Continues Work to Bring Better Smart Contracts to Bitcoin Moderna or BioNTech: J.P. Morgan Lays Odds On the Race to a COVID-19 Vaccine Jim Cramer: Is This Market Undervalued? Taco Bell Is Selling A Jalapeño Noir Red Wine Ikon Pass resorts not planning to require reservations for winter 2020-2021 Walmart+ membership \\'the first of 10 steps\\' needed to ramp up heavyweight Amazon rivalry Regulators prepare to reprimand Citigroup for failing to improve risk systems- WSJ Facebook buys REI’s new HQ for $367M, expanding Seattle-area footprint beyond 3M square feet Millennials are killing the ethnic aisle Citigroup about to get regulatory reprimand; shares sink 5% VA hit by data breach impacting 46,000 veterans GoodRx offers founders $500M, nets $100M investment from Silver Lake, and makes quiet acquisition before IPO Yes, McDonald’s Spicy McNuggets are worth the hype Pfizer Says It Could Know If Its COVID-19 Vaccine Candidate Works in October Anti-inflammatory drug may shorten COVID-19 recovery time Sheetz breaks ground for two locations in Columbus Manhattan\\'s newest $3billion office skyscraper opens up in Midtown What Is Travis Scott\\'s McDonald\\'s Order? Gilead Sciences And Immunomedics: Buy Post-Market Reaction DraftKings surges after announcing ESPN deal Amazon hiring 1,300 workers in South Florida Macy\\'s Thanksgiving Day Parade will be radically pared down due to coronavirus Didn\\'t receive a stimulus check? The IRS wants to help you. Pfizer Poised for Drop After 31% Rally Amid Covid Vaccine Push Stocks making the biggest moves midday: Oracle, Nvidia, Immunomedics, Overstock & more DraftKings and ESPN Enter into Co-Exclusive Content Integration Agreement Kroger CEO: COVID-19 pandemic has changed how we shop for food 3 Social Security Must-Knows After Getting Divorced NLE Choppa Tells Fans Put Down Travis Scott Burgers, Eat Healthy Attack on VA computer systems exposed personal information of about 46,000 veterans Intel Confirms Tiger Lake 10nm CPUs With 8 Cores & 16 Threads Launching Next Year All Eyes on Apple’s Product Announcement Event Where to buy NVIDIA RTX 30-series graphics cards New Xbox Series X & S Specs Revealed: Wi-FI, Weight, and What\\'s Included in the Box AMD Radeon Begins It\\'s RX 6000 Journey Early With Cooler Reveal Google Fiber to test faster service option in Huntsville Electronic Arts doubles down on EA Play brand with EA Desktop app OnePlus 8T renders look predictable, but this new spec detail is not Cuphead Toys Are in Arby’s Kids Meals Tony Hawk\\'s Pro Skater 1 + 2 Is the Fastest Selling Game in Franchise History Google Fiber will start testing \\'2 Gigabit Internet\\' for $100 Fake Counter-Strike: Global Offensive cheats troll hackers China beats Elon Musk’s SpaceX with floating spaceport in Pacific Ocean Hasbro Re-Releases Three Board Games For D&D, Clue, & Monopoly US Customs doubles down on OnePlus Buds seizure, says they violate Apple trademark Instagram isn’t planning to charge a fee to put links in captions Giant robotic scorpion could be the ultimate gaming computer rig with motorized tail UPDATE: Tesla NOT Developing Smartwatch With Partners Listen to the Supercharged V-8 Cadillac CT5-V Blackwing Exhaust How To Preorder Nvidia RTX 3090, 3080, 3070 Aaron Grissom Obituary: \"Top Chef\" contestant, dies in a traffic accident at 34 Facebook Launches \\'Watch Together\\' Feature GameStop Will Offer Payment Plans For Xbox Series X And PS5 How an NFL player’s mom got her own Madden cover Facebook Gaming will now allow partnered streamers to play copyrighted music Razer accidentally leaked the personal information for over 100,000 gamers, report says Bladed Fury for PS4, Xbox One, and Switch launches January 22, 2021 Samsung Galaxy Tab S6 picks up some Tab S7 goodies with One UI 2.5 Another Call Of Duty Cheat Site Shut Down By Activision Blizzard Xbox Game Pass September free games: Destiny 2, Halo 3: ODST New iPad Air and Apple Watch 6 at Apple\\'s Tuesday event, analyst says Videogame sales accelerate again in August, up 37% Here\\'s your first detailed look at the OnePlus 8T and its key specifications YouTube announces TikTok competitor in India, where TikTok is banned YouTube starts rolling out its TikTok competitor, YouTube Shorts Billie Eilish Guests on \\'An Oral History of The Office\\' Podcast: Exclusive First Look Xbox Series X And S Preorder Listings, Price, Xbox All Access, And More The LG Wing’s twisting screen offers a new spin on the dual-screen smartphone Halo 3: ODST coming to Master Chief Collection Sept. 22 Microsoft\\'s underwater data centre resurfaces after two years Nvidia: Ampere Killing It, Stock Getting Killed canon introduces the portable powershot zoom telescope camera 4 Files App Features You Should Be Using, But Aren\\'t Pandemic-proof Apple to kick off lineup for critical holiday season Apple rolls out virtual fitness service, subscription bundle, catering to pandemic work-from-home Spelunky 2 beginner’s guide Cuphead Gets His Own Fast Food Toy Line At Arby\\'s Restaurants Intel Confirms Tiger Lake 10nm CPUs With 8 Cores & 16 Threads Launching Next Year All Eyes on Apple’s Product Announcement Event Where to buy NVIDIA RTX 30-series graphics cards New Xbox Series X & S Specs Revealed: Wi-FI, Weight, and What\\'s Included in the Box AMD Radeon Begins It\\'s RX 6000 Journey Early With Cooler Reveal Google Fiber to test faster service option in Huntsville Electronic Arts doubles down on EA Play brand with EA Desktop app OnePlus 8T renders look predictable, but this new spec detail is not Cuphead Toys Are in Arby’s Kids Meals Tony Hawk\\'s Pro Skater 1 + 2 Is the Fastest Selling Game in Franchise History Google Fiber will start testing \\'2 Gigabit Internet\\' for $100 Fake Counter-Strike: Global Offensive cheats troll hackers China beats Elon Musk’s SpaceX with floating spaceport in Pacific Ocean Hasbro Re-Releases Three Board Games For D&D, Clue, & Monopoly US Customs doubles down on OnePlus Buds seizure, says they violate Apple trademark Instagram isn’t planning to charge a fee to put links in captions Giant robotic scorpion could be the ultimate gaming computer rig with motorized tail UPDATE: Tesla NOT Developing Smartwatch With Partners Listen to the Supercharged V-8 Cadillac CT5-V Blackwing Exhaust How To Preorder Nvidia RTX 3090, 3080, 3070 Aaron Grissom Obituary: \"Top Chef\" contestant, dies in a traffic accident at 34 Facebook Launches \\'Watch Together\\' Feature GameStop Will Offer Payment Plans For Xbox Series X And PS5 How an NFL player’s mom got her own Madden cover',\n",
              " \"Shares rally, dollar falls ahead of Fed meeting Will Amazon's new luxury online store be fashion's savior - or archenemy? Pfizer says coronavirus vaccine study shows mostly mild-to-moderate side effects Red Lobster is adding a Mountain Dew margarita to the menu Weakest Banks/Financials In The S&P 500 S&P 500 Gains 18 Points: Carnival Takes a Bath, Kraft Heinz Says Hold the Cheese, Apple Goes Even Bigger on Services Stock market news live updates: Stock futures drift higher as markets await Fed decision Novavax Doubling Coronavirus Vaccine Production Capacity With Expanded India Deal JPMorgan Sends Employees Home After Positive Covid Case Why Carnival, Royal Caribbean, and Norwegian Cruise Line Stocks Sank Today Novavax aims for 2 billion COVID-19 vaccine doses with expanded India deal 100,000 restaurants closed 6 months into the pandemic: survey Nvidia jumps on $40 billion chip deal; analysts expect tough scrutiny S&P 500 ends higher on growing hopes Fed will stay accommodative New York Sports Club Members Hit With Unexpected Charges As Company Files Bankruptcy TikTok will spin off into a separate company, partly owned by Oracle Novavax aims for 2 billion COVID-19 vaccine doses with expanded India deal Exclusive: GM explores market for electric 'flying cars' - sources FedEx profit, revenue beat as pandemic drives e-commerce bounce Stocks rise as tech leads broad gains 35,000 former ITT Tech students could see $330 million in private loans erased in new settlement Former students of defunct ITT Tech to receive $330 million in private student-loan forgiveness Chase Sapphire Preferred Offers 80,000-Point Bonus for Limited Time Crude Oil Prices Are Surging: It's Not Worth Investing In US poverty rate fell to 10.5 percent in 2019, marking fifth straight annual decline Nvidia Stock Will Soar 35% to $700, According to This Analyst Kraft Heinz looks to balance 'renovation and innovation' in portfolio Yuengling, America’s oldest brewer, will soon sell beer nationwide Incomes Hit a Record High and Poverty Reached a Record Low in 2019 JPMorgan Sends Some Traders Home After Worker Gets Covid-19 During the pandemic, private student loan borrowers see little relief Bitcoin CEO: MicroStrategy's Michael Saylor Explains His $425M Bet on BTC 100,000 Restaurants May Have Closed, According to Survey The Fed could could still move markets Wednesday even with rates on hold for the foreseeable Why Kraft Heinz Is Selling Multiple Cheese Brands for $3.2 Billion Peloton thinks it can grow to 100 million subscribers. Here's how Pfizer says coronavirus vaccine study shows mostly mild-to-moderate side effects Pfizer says late-stage coronavirus vaccine study shows moderate side effects Mark Cuban-Backed Crypto Firm Pays SEC $6M Fine for $31M ICO Cash Back and No Annual Fee Shark Tank's Daymond John on small business partnership with Lowe's Three of Pittsburgh’s most popular shopping centers will be closed on Thanksgiving Germany Awards $743 Million to BioNTech and CureVac for Coronavirus Vaccine Development Merger Monday Confirms An Active Stock Market - Buy Under-Appreciated Biotech US STOCKS-Wall Street climbs ahead of Apple event GM explores market for electric 'flying cars,' sources say Walmart+ launches with free 15-day trial How Costco makes billions by charging people to shop there EXCLUSIVE-GM explores market for electric 'flying cars' -sources Kraft Heinz to sell part of cheese business to Lactalis in $3.2 billion deal Link Bracelets or Cruelty-Free Leather? Get the Best Apple Watch Series 6 Bands Apple surprised iPhone users with a next-day iOS 14 release. App developers are pissed. Did Apple Just Preview the First Apple Silicon Mac? Apple is still bundling a power adapter with new Apple Watch Edition and Hermès Finally! Your Kids Don't Need an iPhone to Use Apple Watch New American Girl doll Courtney is a gamer from the 1980s Testing a multi-monitor extended display setup on a Chromebook [VIDEO] Google Duo for Android regains screen sharing 'A legitimization of fitness content' Apple goes all in with subscriptions with new Fitness+ product and Apple One bundle Apple unveils iPad 8 for $329 and iPad Air 4 for $599 Apple will release iOS 14 and iPadOS 14 on September 16th Apple One bundles iCloud, Music, TV+, Arcade, News+ and Fitness+ for $30 a month Charlize Theron lists charming bungalow in the heart of West Hollywood for $1.8M Amnesia: Rebirth arrives just in time for Halloween GameStop Announces Trade-In Offers For The Xbox Series S & X Xbox Series X/S Doesn’t Offer WiFi 6 or a USB-C Port Like the PlayStation 5 Does Apple Ends Barclays Credit-Card Partnership Ahead of New Devices Nintendo Switch update bans words like coronavirus and ACAB Fortnite continues concert series with Anderson .Paak Prime Day just came early thanks to Amazon’s 16-inch MacBook Pro blowout sale How to watch Connect, Facebook and Oculus’ big AR/VR event Apple: 'Fortnite' interest fading, Epic Games using lawsuit for hype PlayStation 5: All The Confirmed PS5 Launch Games And Release Dates Fire Emblem: Mystery Of The Emblem Joins Japan's Switch Online Service This Month Spotify criticizes new Apple services bundle on antitrust grounds The best sideloaded apps for Android you can't find in Google Play Singapore to Pay Citizens for Keeping Healthy With Apple Watch Nintendo Expands Its Switch Online SNES And NES Service With Four More Titles Apple posts ASL translation of its ‘Time Flies’ event New software update will ‘transform the core experience of iPhone,’ Apple says How Micron's GDDR6X memory is the secret to unlocking 4K on Nvidia's RTX 30-series cards Razer takes iPhone gaming to new level with Kishi MFi controller Link Bracelets or Cruelty-Free Leather? Get the Best Apple Watch Series 6 Bands Apple surprised iPhone users with a next-day iOS 14 release. App developers are pissed. Did Apple Just Preview the First Apple Silicon Mac? Apple is still bundling a power adapter with new Apple Watch Edition and Hermès Finally! Your Kids Don't Need an iPhone to Use Apple Watch New American Girl doll Courtney is a gamer from the 1980s Testing a multi-monitor extended display setup on a Chromebook [VIDEO] Google Duo for Android regains screen sharing 'A legitimization of fitness content' Apple goes all in with subscriptions with new Fitness+ product and Apple One bundle Apple unveils iPad 8 for $329 and iPad Air 4 for $599 Apple will release iOS 14 and iPadOS 14 on September 16th Apple One bundles iCloud, Music, TV+, Arcade, News+ and Fitness+ for $30 a month Charlize Theron lists charming bungalow in the heart of West Hollywood for $1.8M Amnesia: Rebirth arrives just in time for Halloween GameStop Announces Trade-In Offers For The Xbox Series S & X Xbox Series X/S Doesn’t Offer WiFi 6 or a USB-C Port Like the PlayStation 5 Does Apple Ends Barclays Credit-Card Partnership Ahead of New Devices\",\n",
              " \"'Take your masks off': mask-less protesters march through Target Fed leaves rates unchanged - Three experts on what that means 'Maskless flash mob' held at Florida Target Lost Wages Assistance program benefits on the way, SCDEW says Kraken Will Be First US Crypto Bank. Here’s Why It Matters New at-home COVID-19 test can produce results in 15 minutes Duke-solar industry breakthrough settlement aims to end rooftop solar cost shift debates Why Carnival Corporation, Royal Caribbean, and Norwegian Cruise Line Holdings Stocks Bounced Back Wednesday Shapes of Recovery: When Will the Global Economy Bounce Back? NYC Restaurants Will Soon Be Able to Add Up to 10 Percent Surcharge to Diners’ Bills GE ‘s Upbeat Cash View Clashes With CEO Pay Deal Airlines, labor unions again push for another $25 billion in federal aid as more than 30,000 job cuts loom AT&T thinks you'll put up with ads in exchange for a cheaper phone bill The Vanguard Dividend Appreciation ETF: A Stable Performer GE Healthcare moving jobs to new $50M site in West Milwaukee These 3 Factors Signal Bitcoin is Gearing Up to Make a Massive Push Higher Nikola short-sellers feel the squeeze as stock bounces Tilson Says Nikola's Trevor Milton Will Land 'Behind Bars For Securities Fraud' Facebook is launching smart glasses in 2021, its ‘next step’ to an AR device Illumina in Talks to Buy Grail, Possibly for Over $8 Billion Amazon plans to open 1,500 warehouses in US suburbs Chase Freedom Credit Card Closed to New Applicants: Here's Why Amazon kicks off career fair Wednesday, set to fill 33K remote jobs averaging $150K Senator Rubio asks Trump to reject the Oracle, TikTok deal The New Nissan Z Isn't Coming to Europe Anti-maskers march through Target, tell shoppers to 'take off that mask' Florida's first Amazon 4-star opens in Palm Beach Gardens Florida utilities want to gut solar. Here's why The I-X Center closes after 35 years in business, citing effects of global pandemic ‘Lenders don’t have the capacity’ to meet mortgage demand: expert US retail sales slowdown points to effect of stimulus withdrawal Kraft Heinz CEO: Warren Buffett's top two lieutenants on our board liked our $3.2 billion deal McDonald's Travis Scott meal reportedly spurring burger shortages Tiger Woods’ Ex Elin Nordegren Buys Palm Beach Gardens Home Here’s who is paying for $659 billion in PPP loans Fading fiscal stimulus crimping U.S. consumer spending Eli Lilly reports promising first results for an antibody against COVID-19 Republican Senators raise concerns over Oracle-TikTok deal US outlines sweeping plan to provide free COVID-19 vaccines Fading fiscal stimulus restraining U.S. consumer spending Almost 60 percent of business closures are now permanent, new Yelp data shows Kraken Becomes First Crypto Exchange to Become a US Bank 3 Cheap Tech Stocks to Buy Now JPMorgan Trader Gets COVID At Highly Inconvenient And Embarrassing Time Trump health officials are preparing to distribute within 24 hours of FDA OK China state media outlet calls Nvidia's Arm purchase 'disturbing', urges regulatory caution Supplies of highly profitable GM pickups at historically low levels Homebuilder sentiment soars to record high, but lumber prices rise McDonald's Travis Scott Meal sparks burger shortages 'Forget 15-year mortgages. Do 30,' says self-made millionaire-here's why PlayStation CEO Jim Ryan on PlayStation 5 price, launch titles, strategy GameStop Now Taking Pre-Orders for Sony PlayStation®5 and Sony PlayStation®5 Digital Edition Five Nights at Freddy's Security Breach release date Devil May Cry 5 Special Edition coming to PS5, Xbox Series X Sony teases next God of War for PlayStation 5 Demon’s Souls: Watch new gameplay of the PS5 remake Facebook teaming up with Ray-Ban maker for first smart glasses in 2021 Classic Adventure Game Myst is Getting A Remake Demon's Souls PS5 Gameplay Trailer Looks Absolutely Stunning Final Fantasy 16 announced for PS5 and PC Oculus Quest vs. Oculus Quest 2: what’s the difference? Pricing, specs, release date, images, and everything else we know Rocket League goes free-to-play on Sept. 23 on the Epic Games Store US Retailer Target Announces Start Time For Xbox Series Pre-Orders Gateway is back, and it’s selling AMD-powered budget laptops at Walmart GoPro HERO9 Black: Evolutionary, Not Revolutionary Upgrades Microsoft reportedly launching Surface Pro X 2 in fall with new chip and color variant How To Get An Xbox Series X For $300 At GameStop Spotify stock falls after Amazon Music adds podcasts Surface Pro X with Microsoft SQ2 chip and Platinum color option is on the way 'Fortnite' Destroy Gatherer & Gatherer Remains Locations Week 4 Guide Is Apple One a bargain? It’s complicated Hacker turns little Lego man Mario into Super Mario Bros. controller OnePlus Nord set to come to US w/ sub-$400 price Nvidia GeForce RTX 3080 is available now - but there's some bad news Will the Xbox Series S hold back next-gen gaming? With the next console generation, buying digital looks better than ever 'Call of Duty: Black Ops Cold War' PS4 Alpha Preload, Start & Release Time Revealed Now Square Enix is saying Final Fantasy 16 is only coming to PS5 Samsung Galaxy S30 Ultra won't get a battery capacity buff 3DS series production ended in Japan Nintendo has discontinued the 3DS Left 4 Dead 2 is Getting an Update, And It's Tank Sized PlayStation CEO Jim Ryan on PlayStation 5 price, launch titles, strategy GameStop Now Taking Pre-Orders for Sony PlayStation®5 and Sony PlayStation®5 Digital Edition Five Nights at Freddy's Security Breach release date Devil May Cry 5 Special Edition coming to PS5, Xbox Series X Sony teases next God of War for PlayStation 5\",\n",
              " 'Michelob Ultra looking to pay \\'Chief Exploration Officer\\' $50K to visit national parks Jim Cramer says newly public Amwell stock is \\'too hot right now\\' covid-vaccine-trump-confusion - The Washington Post Bar owners devastated after Gov. Abbott announces other businesses can expand capacity Uniswap\\'s Distribution Is Built on Something That Can\\'t Be Forked: Actual Users Gov. Edwards amends last call for phase 3, extends alcohol sale by one hour \\'I think it\\'s time to start putting cash to work,\\' Jim Cramer says Gov. John Bel Edwards halts Jefferson Parish Council\\'s attempt at moving into phase 3 Moderna shares Covid-19 vaccine trial blueprints, Pfizer follows Wynn Resorts reports more than 500 employees have tested positive for COVID-19 National Cheeseburger Day 2020 Food Deals 30 Reasons Why Stocks May Fall Further Towing Race: 2021 Ford F-150 PowerBoost Pitted Against the Ram 1500 HEMI eTorque CVS Opening New Coronavirus Testing Site In Stamford Her Dad\\'s Food Truck Made Just $6 in a Day, So She Asked Twitter For Help Tencent slides to session low as it draws national security scrutiny Uniswap Recaptures DeFi Buzz With UNI Token\\'s Airdropped Debut Texas Instruments increases dividend by ~13% A DARPA-Funded Implantable Biochip to Detect COVID-19 Could Hit Markets by 2021 2 Lansing businesses fined for COVID-19 workplace safety violations Bristol-Myers Squibb Cuts Deal, Delaying Threat to Top-Selling Revlimid The market isn\\'t convinced the Federal Reserve can achieve its inflation objective Blue Bell ordered to pay record fine over listeria outbreak Wisconsin tallies record-shattering COVID-19 cases on Thursday Pfizer vaccine trial bets on early win against coronavirus, documents show COVID task force says Clark County bars can reopen Nevada COVID-19 Mitigation & Management Task Force votes to allow Clark County bars, taverns to reopen Ohio starts issuing additional $300 in unemployment benefits Drop shipper who made $1.7 million this year shares e-commerce tips Walmart raising hourly wages for some employees Taco Bell leaves customers dumbfounded after announcing ‘ridiculous’ new menu item: ‘Why though?’ German hospital hacked, patient taken to another city dies U.S. Public Now Divided Over Whether To Get COVID-19 Vaccine Saudi energy minister to short-sellers: ‘make my day’ Airline workers have lower rates of COVID-19 than general population Google-backed \\'plumber\\' Amwell spikes in debut, IPO a barometer of booming telehealth market Louisiana Workforce Commission says 7,600 residents received unemployment overpayments Software Maker Sumo Logic Rises in Debut After $326 Million IPO Wynn Resorts reports more than 500 employees have tested positive for COVID-19 Chicago’s Iconic Southport Lanes to Close Permanently After Nearly a Century Why SoftBank\\'s Arm Holdings Sale Is a Winning Move Fauci interview: How to stay healthy, gather safely until summer 2022 Papa John\\'s is moving its main headquarters out of Louisville Southport Lanes set to close after 98 years Kroger sued for allegedly firing workers who refused to wear rainbow symbol Texas man\\'s taco truck flooded with customers after daughter\\'s tweet Gold, silver down despite equities markets selling off 59 % Would \\'Distrust\\' Covid Vaccine Released Before Election Community comes together to support food truck owner Kroger sued for allegedly firing workers who refused to wear rainbow symbol Eerie photos show NYC\\'s Hudson Yards has been all but abandoned amid coronavirus crisis Why Final Fantasy 16 Should Excite Final Fantasy XIV and Tactics Fans Mozilla is killing two of its most useful products and it\\'s pretty upsetting Google fixes odd bug that made some Pixel Buds audio cut out at 1:50 intervals Eric Roza Takes on the First CrossFit Games Workout Monster Hunter Stories 2 Announced For Nintendo Switch Bloodborne Remastered potentially leaked for PS5 How To Buy An Xbox Series X For $300 At GameStop Astranis adds former NASA Administrator Dan Goldin to advisory board Demon\\'s Souls PS5 Preorder Info: Price And Where To Buy Google adds Premium gaming section on the Play Store for Chromebooks Gaming on Chromebooks grows by 3X and Google is shining a big spotlight on it Walmart Walks Back PS5 Preorder Plans \"To Keep Customers Safe\" Nvidia RTX 3080 cards are selling for thousands on eBay, and people are pissed Xbox Series X pre-orders open Sept. 22 at 11 a.m. EDT Mozilla shutters Firefox Send and Notes Amazon makes Alexa Routines shareable The latest OnePlus leaks have me worried Red Dead 2\\'s Most Terrifying Mystery Explained Amazon lets you share Alexa routines Intel offers Tiger Lake Core i7-1185G7 laptop performance preview mophie wireless charging stations debut with three new options Devil May Cry 5 Special Edition Ray Tracing Trailer Will Blow Your Mind \\'Phone\\' app renamed to \\'Phone by Google\\' on the Play Store 3 Artificial intelligence Stocks to Consider as the Trend Heats Up The Nintendo 3DS is discontinued Mozilla is investigating YouTube\\'s curious recommendation algorithms Nintendo Direct Mini. the biggest announcements and trailers The latest Google Pixel Buds update fixes a very annoying problem Apple envisioned its fitness service long before work-from-home, executives say PS5 Pre-Orders Were Such a Mess That Even Xbox Threw Some Shade Intel: Tiger Lake Adds To The Bull Case The Asus ROG Zephyrus G14 has progressed beyond the need for vowels Samsung Galaxy Tab S7 and S7 Plus review: hardware can’t carry it all LG Wing hands-on: it’s weird, but it works Tony Hawk’s Pro Skater remake reflects the changing culture of skateboarding Rayman Creator Michel Ancel Announces Retirement From The Games Industry Ys Origin Pre-Orders Go Live On Switch With A Tasty 20% Discount What Apple’s new rules actually say about streaming Xbox and Stadia games to iPhone Here\\'s the Demon\\'s Souls remake side-by-side with the original Here are the browsers iOS 14 now lets you set as default Oculus Quest 2 64GB vs. Oculus Quest 2 256GB: Which should you buy? Round Up: All The Games From The Nintendo Direct Mini: Partner Showcase - September 2020',\n",
              " 'Biggest highway project in Arkansas history officially begins Peacock will finally be available on Roku devices and smart TVs soon Jim Cramer reacts to Unity stock market debut: \\'Patience is a virtue\\' The market will go lower until the big IPOs ease Uniswap Trading Volume Trails Only Bitcoin, Ethereum, Tether Texas\\' Blue Bell Creameries hit with $17.25 million fine for 2015 listeria contamination You might be surprised who\\'s moving into abandoned malls You might be surprised who\\'s moving into abandoned malls Snowflake May Melt Before Your Eyes Roku and NBCU Reach Deal for Peacock, Renew Agreement for NBC TV Apps California unemployment rate dips amid COVID-19 restrictions Gov. Wolf’s on-site alcohol sales order extended an hour to 11 p.m. Gov. Wolf’s on-site alcohol sales order extended an hour to 11 p.m. What Is DeFi? Big investors should demand that banks hold more capital, Kashkari says Glitch delays benefits for 2.2M out-of-work New Yorkers 3 Northeast Ohio bars among those cited overnight for violating coronavirus orders Strip casinos dominate COVID tracing list, Cosmopolitan on top Sky Galley at Lunken Airport to permanently close ‘I Didn’t Buy It to Sell It. Ever.’ MicroStrategy CEO on buying $425M of BTC UK Mulls Over Negative Interest Rates, US to Keep Near Zero Rates for Years Tesla wins case against Gigafactory whistleblower Ethereum Locked in Uniswap Soars to $1.6 Billion After UNI Launch NEW: COVID-19 cases in Nevada break 75K mark, new cases above 500 MSC Cruises Releases Photos of First Ship to Resume Operations 2021 Ford F-150 PowerBoost Hybrid Races Ram With Trailer In Tow: Video DOJ charges six people in scheme to bribe Amazon employees Snowflake Is Overvalued: Here Are 3 Massive Reasons To Avoid It Refinancing a mortgage will cost more thanks to an \\'adverse market\\' fee The Ultimate Guide to Outdoor Dining in San Francisco Why Carnival, Royal Caribbean, and Norwegian Cruise Line Stocks Dropped Again on Friday Fewer Americans say they would take a COVID-19 vaccine compared to four months ago Boise-based Cradlepoint sells for $1.1 billion National Cheeseburger Day: Find deals at McDonald’s, Burger King, and more Who\\'s Winning the EV Truck War? Best Old School Cheeseburger Joints in Denver Arrest made after suspicious package reported at Austin airport Unity Software soars in blockbuster NYSE debut Blockchain Bites: Airdrops, Record Volumes, $1B BTC on Ethereum Instagram boss slams TikTok ban, calling it bad for the internet Why Inovio Stock Is Bouncing Back Today Push is underway to test COVID-19 vaccines in diverse groups Sightseeing \"flights to nowhere\" criticized by environmental campaigners San Francisco Restaurant Dining Rooms Could Reopen by October 1 EPA approves Pine-Sol as effective disinfectant against coronavirus on surfaces Indoor dining might resume by month’s end in S.F. Will it be enough to save struggling restaurants? Why Dave & Buster\\'s Stock Is Rebounding Today After Crashing Yesterday Tesla battery day will be \\'potentially narrative changing,\\' says Morgan Stanley Amazon hiring 1,500 at new Akron facility Trump and Biden Virtually Tied in University of Michigan Consumer Sentiment Survey ETH 2.0 Won\\'t Fix Ethereum\\'s Scalability Problems, Analyst Argues Latin American nations plan to join COVAX vaccine facility after deadline VT grocery store worker fired after apprehending purse snatcher Private plane misses runway at Executive Airport Robert W. Gore, the inventor of Gore-Tex fabric, dead at 83 Boozy country breakfast: Cracker Barrel adding alcohol to the menu at 600 restaurants 569 new COVID-19 cases confirmed in Mass., 26 additional deaths Homeland Security issues rare emergency alert over \\'critical\\' Windows bug Spyhouse Coffee employees strike across Twin Cities Saturday P. Terry’s closes downtown Austin location due to COVID-19 losses Cracker Barrel is adding alcohol to the menu for the first time in its history These 21 Stocks Will Lead the Next Market Upsurge: Goldman Sachs Comcast Doesn\\'t Care if You Want to Cut the Cord COVID-19: Popular Westchester Eatery Known For Burgers, Shakes Closes New CDC study highlights threat of coronavirus spread on lengthy flights NBC\\'s Peacock finally arrives on Roku two months after launch U.S. Postal Service made $1.6 billion profit on Amazon deliveries last year Santa Clara County passes 20,000 cases Here\\'s What It Takes to Collect $3,790 Per Month in Social Security Benefits Massachusetts no longer has nation\\'s highest unemployment rate Hamilton bar cited for violating state health order Six Ohio bars cited after not complying with COVID-19 health guidelines Friday night Lawsuit Accuses Facebook of Spying on Instagram Users with Their Cameras Good News, Seniors: You\\'re Probably Getting a Social Security Raise in 2021 Coronavirus vaccine doesn\\'t depend on President Trump\\'s rhetoric, doctor explains These stocks aren\\'t pricing in a coronavirus vaccine and could rally if one comes to fruition 3 Tech Stocks to Buy in the Market Correction 3 Reasons You\\'ll Regret Retiring Early We Ask Successful Investors: Are You Afraid of the Stock Market Right Now? It’s Time to Rein in the Fed Etherum Fees Double In a Week As DeFi Heats Up The 4 Fastest-Growing Stocks Robinhood Investors Are Buying 2021 Ford F-150 Bed: First Look Trump\\'s Covid-19 vaccine timeline is missing key context about logistics of herd immunity Judge narrows Tesla lawsuit against former employee, dismisses defamation counterclaim Clark County, Southern Nevada Health District statement on COVID-19 updates What To Expect At Tesla’s Upcoming Battery Day Four Bed Bath & Beyond Stores in Conn. to Close KeyBank encounters “further, unexpected delay” with Key2Benefits payments Supply and Demand: Cramer\\'s \\'Mad Money\\' Recap (Friday 9/18/20) Biggest highway project in Arkansas history officially begins Peacock will finally be available on Roku devices and smart TVs soon Jim Cramer reacts to Unity stock market debut: \\'Patience is a virtue\\' The market will go lower until the big IPOs ease Uniswap Trading Volume Trails Only Bitcoin, Ethereum, Tether Texas\\' Blue Bell Creameries hit with $17.25 million fine for 2015 listeria contamination You might be surprised who\\'s moving into abandoned malls You might be surprised who\\'s moving into abandoned malls Snowflake May Melt Before Your Eyes Roku and NBCU Reach Deal for Peacock, Renew Agreement for NBC TV Apps Lawry’s, known for prime rib, to close after 46 years What to know in the week ahead Seymour VFD: 1 injured after truck drives through South Knoxville Burger King Investing in These Stocks Now Could Make You a Millionaire Retiree Knoxville Police: Man wanted for assaulting security guard after stealing from Kroger U.S. is best place to invest due to less \\'froth:\\' John Stoltzfus US sets record with 1M coronavirus tests conducted, well short of what experts say is needed 3000 HP Cummins Diesel Truck Exploses During Dyno Test Ten new cases of COVID-19 confirmed in Steuben County Spirit Airlines flight attendant and passenger clash over neck gaiter FinCen files: banks allowed millions in suspicious transactions despite warnings, according to leaked documents How COVID spreads on longhaul flights: Single passenger infects 15 others on 10-hour trip to Vietnam Experts worry after two cases of rare spinal illness found among participants in Oxford vaccine\\'s UK trial Funds flow out of money market, equity funds and into ETFs: Refinitiv Lipper A Social Security Test Only 1 in 300 Seniors Could Ace Vermont supermarket worker fired for stopping purse snatcher This ETF Could Help Grow Your Retirement Account What a Biden presidency could mean for Social Security benefits 4 Ways to Limit Taxes on Stock Gains and Dividends Tech gives, tech takes away National Black Farmers’ Association boycotts John Deere Moderna Reveals Efficacy Criteria For Key Covid-19 Vaccine Trials The Verge’s favorite gadgets for coffee and tea Amgen drug shrinks tumors in lung cancer patients with KRAS gene mutation - study Bitcoin\\'s Average Transaction Value Returns to 2017 Levels Man killed in alleged armed robbery attempt at Broward gas station 3 Companies Tesla Should Be Worried About in 2021 Musk’s Showy Events Gin Up Hype Tesla Doesn’t Always Live Up To 3 Moves That Will Slash Your Tax Bill This Year 165 Million Americans Will Witness a Social Security First in 2021 Gore-Tex: Inventor of waterproof fabric Robert Gore dies aged 83 Better Buy: Teladoc vs. CVS Health Bitcoin Price is Primed For a Rally And Only 1 Thing is Holding it Back Bar owners, employees protest over not being allowed to open in Phase 2 AstraZeneca says COVID-19 vaccine trial in U.S still on hold Candace Owens accuses Amazon of damaging new book Report reveals hotel-casinos top list of possible COVID-19 exposures in Clark County ETH 2.0 Won\\'t Fix Ethereum\\'s Scalability Problems, Analyst Argues Latin American nations plan to join COVAX vaccine facility after deadline VT grocery store worker fired after apprehending purse snatcher Private plane misses runway at Executive Airport Robert W. Gore, the inventor of Gore-Tex fabric, dead at 83 Boozy country breakfast: Cracker Barrel adding alcohol to the menu at 600 restaurants 569 new COVID-19 cases confirmed in Mass., 26 additional deaths Homeland Security issues rare emergency alert over \\'critical\\' Windows bug Spyhouse Coffee employees strike across Twin Cities Saturday P. Terry’s closes downtown Austin location due to COVID-19 losses Cracker Barrel is adding alcohol to the menu for the first time in its history These 21 Stocks Will Lead the Next Market Upsurge: Goldman Sachs Comcast Doesn\\'t Care if You Want to Cut the Cord Observer: System Redux is an Xbox Series X/S and PlayStation 5 Launch Title The Best 4K TVs For PS5 And Xbox Series X Gaming companies are reportedly the next targets in the US government\\'s potentially broader Tencent purge Super Nintendo World at Universal Studios Japan Now Delayed Until \"Early Next Year\" 3 VCs discuss the state of SaaS investing in 2020 OnePlus is bringing another of its apps to the Play Store for faster updates Here’s when the OnePlus 8T could launch Hands on: LG Wing 5G review New Among Us players keep accidentally outing themselves as aliens Best CPU for Microsoft Flight Simulator 2020 OnePlus will release an app to make its OnePlus Buds work better with other Android phones Bungie is overhauling how Ghosts work in Destiny 2 Nintendo Reveals New Switch Online Subscriber And Nintendo Account Milestones How to get Windows 10 October 2020 Update before anyone else The injustice of Tony Hawk’s Pro Skater giving no points for an ollie Google\\'s new Chromecast just fully leaked - here\\'s your best look yet Ninja comes back to Fortnite Super Mario 3D All-Stars is Nintendo at its worst Apple Watch Series 6 review (hands on) Here are the email apps iOS 14 now lets you set as default The big winner of Apple’s new One subscription bundle is Apple TV Plus PS5 Preorders Got Off To A Rocky Start More info about the upcoming standalone OnePlus Buds app surfaces Google Assistant PS5, Apple Watch 6, Oculus Quest 2, and other fall announcements Fortnite Save the World unplayable on Mac after next patch TikTok CEO asks Instagram, Facebook to help fight TikTok ban Pokemon Sword And Shield: Shiny Clefable Appearing Now In Raids, But Only Until Tomorrow Japanese Charts: Ring Fit Adventure Outsells Animal Crossing For Second Week In A Row Best wireless earbuds 2020 Pokemon Sword & Shield Offers Players The Chance To Catch A Shiny Clefable Demon’s Souls New 4K Comparison Video Highlights Various Improvements Ant-Backed Paytm Fires Back After Google Play Store Yanks App Final Fantasy 16: Every Confirmed And Leaked Detail We Know Google Chromecast remote leaks in new image of the dongle 3 Ways to Silence Any Peloton Bear Argument Not That Apple Cares, but iPad Air 4 Will Cannibalize iPad Pro Demons Souls Remake Comparison Video Showcases Many Changes Samsung Galaxy Tab S7 review: The best premium Android tablet for most people The Asus ROG Zephyrus G14 has progressed beyond the need for vowels Samsung Galaxy Tab S7 and S7 Plus review: hardware can’t carry it all LG Wing hands-on: it’s weird, but it works Tony Hawk’s Pro Skater remake reflects the changing culture of skateboarding Demon\\'s Souls Pre-Order Info Hints at Expanded Multiplayer The latest Marvel\\'s Avengers patch addresses \"over 1000 issues\" Ed Boon\\'s second \\'actual klue\\' for Mortal Kombat 11 has something to do with the 1984 Nightmare on Elm Street trailer but it isn\\'t Freddy Krueger Porygon Community Day Guide For Pokémon GO Trainers Final BMW M3 Teaser Has Us Green With Envy Here Is Your First Look at Markarth, ESO\\'s Conclusion to the Dark Heart of Skyrim Call of Duty Pros Take a Dig At Cold War SBMM ‘Dewgarita’: How to make the Mountain Dew margarita Red Lobster’s now serving Random: Some 3D All-Stars Players Aren\\'t Happy About The Visible Debug Cubes In Super Mario Sunshine Cyberpunk 2077 Campaign Is \\'Slightly Shorter\\' Than the Witcher III\\'s Top Stories: \\'Phone by Google\\' app, Google TV leak, more PS5 Game File Sizes Revealed, And They Are Huge SPIDER-MAN: MILES MORALES Screenshots Reveal A Spectacularly Detailed Take On The Web-Slinger Check Out A Side-By-Side Comparison Of Demon Souls on PS3 and PS5 Gigabyte accidentally reveals RTX 3070 16GB and RTX 3080 20GB GPUs \\'Pokémon Go\\' Community Day: Shiny Porygon, Start Time and What You Need to Know Ed Boon reveals first real klue for Mortal Kombat 11\\'s next DLC using Queen lyrics Final Fantasy 7 Remake Part 2 Should Lean into the FF10 Connection Classic Manga Berserk Is Coming Back For A New Beginning New Muv-Luv Unlimited The Day After Episode 04 Images Revealed; Alternative Anime Teaser Site Opens Gaming TV or gaming monitor: which screen solution is best? PS5 Game Sizes Revealed With iOS 14, Google thinks it can take over your iPhone Observer: System Redux is an Xbox Series X/S and PlayStation 5 Launch Title The Best 4K TVs For PS5 And Xbox Series X Gaming companies are reportedly the next targets in the US government\\'s potentially broader Tencent purge Super Nintendo World at Universal Studios Japan Now Delayed Until \"Early Next Year\" 3 VCs discuss the state of SaaS investing in 2020 OnePlus is bringing another of its apps to the Play Store for faster updates Here’s when the OnePlus 8T could launch Hands on: LG Wing 5G review New Among Us players keep accidentally outing themselves as aliens Best CPU for Microsoft Flight Simulator 2020 OnePlus will release an app to make its OnePlus Buds work better with other Android phones Bungie is overhauling how Ghosts work in Destiny 2 Nintendo Reveals New Switch Online Subscriber And Nintendo Account Milestones How to get Windows 10 October 2020 Update before anyone else The injustice of Tony Hawk’s Pro Skater giving no points for an ollie Google\\'s new Chromecast just fully leaked - here\\'s your best look yet Ninja comes back to Fortnite Super Mario 3D All-Stars is Nintendo at its worst Apple Watch Series 6 review (hands on) Here are the email apps iOS 14 now lets you set as default The big winner of Apple’s new One subscription bundle is Apple TV Plus PS5 Preorders Got Off To A Rocky Start More info about the upcoming standalone OnePlus Buds app surfaces Google Assistant PS5, Apple Watch 6, Oculus Quest 2, and other fall announcements Fortnite Save the World unplayable on Mac after next patch TikTok CEO asks Instagram, Facebook to help fight TikTok ban PS5 Has a Mystery Port On the Back & Nobody Knows What It\\'s For Brian Michael Bendis Comments On Marvel\\'s Spider-Man: Miles Morales Rumor: Fighters Pass 7 might be announced soon based on the scheduling of ads for Super Smash Bros. Ultimate\\'s Fighters Pass Vol. 2 Spider-Man: Miles Morales Infected By Venom Symbiote In Cool Fan Art Red Dead Redemption 2 Player Finds Secret Alternate Cutscene Assassin\\'s Creed Valhalla Confirms New In-Game Location No Man\\'s Sky Will Get A New Update Next Week Called Origins Mortal Kombat 11 Future DLC Fighters Hinted At By Creator Ed Boon Final Fantasy 16\\'s Combat Could Be the Perfect Marriage of FF7 Remake and FF15 Ubisoft Reveals PS5 Release Dates for Assassin\\'s Creed Valhalla and Watch Dogs Legion Monster Hunter Rise Amiibo Coming Next Year, Exclusive to Gamestop in US and My Nintendo Store in Europe Epic is closing down of Fortnite: Save the World on Mac because of its dispute with Apple Tiny Cadillac Eldorado Is a Mazda Miata Custom Abomination Among Us Is Really, Really Popular Right Now Mark Zuckerberg and Facebook have a plan to kill the iPhone \\'Most feared monster out there\\' Hades Has Sold 1 Million Copies, Nearly One-Third Sold In Last Few Days Final Fantasy XVI\\'s Battle System Cements Persona as the King of Turn-Based RPGs The Standard Nintendo Switch is Now Available in Brazil Capcom talks Monster Hunter Rise details such as framerate and post launch support Last Chance To Grab Nintendo Switch\\'s Free Jump Rope Game Massive Marvel\\'s Avengers Update Patches Literally A Thousand Issues Nintendo Shares New Switch Online Subscriber And Nintendo Account Milestones Cyberpunk 2077 Main Quest to Be Shorter Than The Witcher 3\\'s Due to Complaints of Excessive Length Level-5 to Prioritize Yo-kai Gakuen Y Over Latest Inazuma Eleven Game Demons Souls Preorder Bonus Weapon Revealed By Store Page MARVEL\\'S AVENGERS Star Sandra Saad Hopes To Explore Ms. Marvel\\'s Dynamic With Captain Marvel - EXCLUSIVE PS5 Size Is Even Bigger Than You Thought, Next-Gen Console Comparisons Show PS5 And Xbox Series X Are Big Consoles But New Renders Put Dimensions In Perspective Cyberpunk 2077 Will Have A Shorter Campaign Because Many People Didn\\'t Finish The Witcher 3 Outside apps are tracking WhatsApp users\\' online activity PS Plus Free Games for October 2020 Wish List ‘Dewgarita’: Red Lobster unveils Mountain Dew margarita Looking to improve in Super Smash Bros. Ultimate both mentally and physically? VoiD shares 5 tips to become a better player iOS 14 widgets make Android\\'s look like an absolute embarrassment Ram 1500 \"Black Box\" Is a Widebody Monster Lego Makes a Hundred Billion Bricks a Year. CEO Niels Christiansen on Why They’re Now More Important Than Ever Oculus Quest 2 getting Infinite Office with Logitech keyboard and adjustable passthrough Nvidia RTX 3080 GPU is overclocked to 2.34GHz with record-breaking results Sony XB-950B1 Wireless Headphones are on sale at Amazon iPhone 12 vs. iPhone X: The biggest changes to expect Full Decoding Porygon Research Tasks For Pokémon GO Community Day AMD\\'s next-gen Ryzen 9 5900X CPU: 12-core, 24-thread Intel destroyer?! \\'Fortnite,\\' \\'Roblox\\' draw pocket money spend away from sweets, books Demon\\'s Souls Pre-Order Info Hints at Expanded Multiplayer The latest Marvel\\'s Avengers patch addresses \"over 1000 issues\" Ed Boon\\'s second \\'actual klue\\' for Mortal Kombat 11 has something to do with the 1984 Nightmare on Elm Street trailer but it isn\\'t Freddy Krueger Porygon Community Day Guide For Pokémon GO Trainers Final BMW M3 Teaser Has Us Green With Envy Here Is Your First Look at Markarth, ESO\\'s Conclusion to the Dark Heart of Skyrim God of War director Cory Barlog sneakily teased Ragnarok over a year ago and no one noticed OnePlus will unveil its next phone on October 14 Ford, just admit it: You’re a truckmaker now Possible Sony Xperia Play 2 prototype surfaces eight years after it was canceled New 5.4-inch iPhone Will Be Called iPhone 12 mini PS5 Size Put Into Perspective with Series of Scale Illustrations ZOTAC GeForce RTX 3080 Receives Almost 20,000 Orders on Amazon PS5 HD Camera Details Hint at Create Button Functionality Flight attendant, passenger argue over use of neck gaiter as mask Observer: System Redux Is Another PS5 Launch Game Apple: One Reason To Own Nvidia Apologizes For RTX 3080\\'s Messy Launch US Government Asks About Tencent\\'s US Gaming Investments, Including Fortnite Studio Don\\'t buy a new MacBook or Windows 10 laptop yet - here\\'s why Epic Games Blames Apple For Fortnite: Save The World Ending On Mac Hades Surpasses 1 Million Copies Sold, With 700k Sold During its Early Access Period Microsoft CEO Satya Nadella Brings In Master Chief To Help Throw The First Pitch At Mariners Game Monster Hunter Rise: What We Know About the New Game Mario Creator Reveals How Mickey Mouse Inspired The Series\\' Evolution Tenet Is Not Making Much Money In The US PS5 Has a Mystery Port On the Back & Nobody Knows What It\\'s For',\n",
              " \"Trump says aides rejected his request to adjust value of dollar Justice Dept. to brief state officials on expected Google antitrust case The 'lockdown trade is back' as coronavirus concerns rise Windstream exits bankruptcy; Uniti settlement now effective Sizzler files for bankruptcy due to the pandemic PENNSYLVANIA RESTAURANTS can increase indoor seating capacity New product added to list of cleaners that can kill COVID-19, with important extra step How Mormon-raised Nikola founder Trevor Milton went from college-dropout to billionaire Carnival cruise lines is laying off some of its crew members Figures Show How Much DeJoy Slowed the Mail LA Steakhouse Chain Sizzler Declares Bankruptcy Because of Coronavirus U.S. corn, soybean harvest paces stay in single digits, USDA says EPA approves Pine-Sol cleaner to kill coronavirus SEC, OCC Issue First Regulatory Clarifications for Stablecoins Group of parents stop man accused of looking under bathroom stall at Duncan Cracker Barrel, chief says High-speed train between Dallas and Houston gets federal approval Detroit auto show plans move to fall in 2021 Stocks plunge on COVID-19 lockdown fears, political tensions North American International Auto Show moves reimagined show to Sept. 28 through Oct. 9, 2021 The Tides Have Turned As Stocks Continue To Sink Michelob offering $50,000 to live the van life hiking national parks Chicago releases outdoor dining guidelines for fall, winter Mother, 2-year-old removed from flight because child wouldn't wear mask General Electric to Stop Building New Coal Plant Equipment as Renewables Take Focus Illumina to Acquire Cancer Diagnostics Start-up Grail 'Hot Ones' Host Sean Evans Names His 'Mt. Rushmore' of Hot Sauces Get free Spectrum internet, wifi for 60 days thanks to Charter Communications Signs of an ‘October Vaccine Surprise’ Alarm Career Scientists Why Carnival Corporation, Norwegian Cruise Line, and Royal Caribbean Stocks Just Crashed Again Pennsylvania Lottery officials warn players about new phone scam US cruises vow 100% testing in plan for resuming sailing New Orleans staple looking for a new name Foot Locker to Turn Stores into Voter Registration Sites Pandemic fears, election uncertainty, U.S. dollar strength: a perfect storm is brewing against gold price - analysts Quibi Exploring Options, Including Potential Sale Almost 90 percent of NYC bars and restaurants couldn’t pay August rent Lawry’s The Prime Rib closing in downtown Chicago Illumina buys Jeff Bezos-backed cancer startup Grail for $8 billion Menchie's closing all Northeast Ohio frozen yogurt shops permanently Oil, energy stocks dive as lockdown fears rise Wild footage shows moment woman's breasts popped out and wig flew off during brawl at Waffle House PENNSYLVANIA CORONAVIRUS: 150,812 cases Why Carnival, Norwegian Cruise Line, and Royal Caribbean Shares Are Sinking in Early Trading Gold, silver soundly spanked despite sinking stock markets Recall alert: Thyroid medication recalled after four people reported problems Why Illumina Stock Is Sinking Today Government debt rose at a 59% pace in Q2 amid effort to halt virus Soaring wealth during pandemic highlights rising inequality After Monday's federal approval, construction on Dallas-Houston bullet train to begin next year U.S. judge orders Post Office to expedite November election mail Final Fantasy 16 Appears to be Missing One Big Series Staple Marvel's Spider-Man PS5 Remaster Will Not Get A Physical Release The Next Nintendo Console Will Release Before 2100 Apple AirPods Pro New iPhone 12 mini leaked in name and size BlizzConline will bring back Blizzard’s canceled convention as an online show in February Adobe Demonstrates Powerful New Sky Replacement Feature Coming to Photoshop Xbox Series X and S preorders may face supply constraints at GameStop iPhone may not be 'massive event' for 5G adoption Crysis Remastered: Broken on Xbox One X, OK on PC The Best PS5 Games Available To Preorder Now Nissan Maxima Turns 40, Gets the Birthday Treatment iOS 14 adoption rapidly outpacing iOS 13 as users react to widgets, PIP, and more You can now remotely play your Xbox One games on Android for free Call of Duty Games that Never Saw the Light of Day Teens hold Denver couple at gunpoint, steal 2-month-old Mini Dachshund Samsung 75-inch Q60 Series 4K Ultra HD Smart TV (QN75Q60RAFXZA) is on sale at Amazon Minecraft is now available for PlayStation VR as a free update MIT Engineers Created a 180° Fisheye Lens from a Single, Flat Piece of Glass  AT&T executive says engineers are already working on 6G wireless Video of New Jersey trash collectors dancing as they blast 'Cupid Shuffle' from speakers goes viral Sony apologizes to customers for PlayStation 5 pre-order fiasco Everything we know so far Best online sales right now Will your old iPad Air case fit the new iPad Air 4? Xbox Series X Share Button Is Customizable Cowboy electric bikes getting automatic crash detection for free How to buy a replacement Samsung Galaxy Tab S7 S Pen The New Gmail Logo Teased by Google Looks a Lot Cleaner and Modern Nintendo's Switch faces French claim of 'planned obsolescence' Gigabyte GeForce RTX 3090 Turbo, RTX 3080 Vision & RTX 3070 Custom Models Pictured Deathloop and Prey Developers Are Hiring for Two Unannounced Projects Bella Hadid wears a gingham blazer and a sweater as she rides a scooter home from dinner Amanda Kloots urges people to cease leaving negative comments on her social media page The Google Pixel 5 may cost €629 and come in Black and Green Olivia Culpo is 'not ready for summer to end' as she poses in a black string bikini and a sun hat Final Fantasy 16 Appears to be Missing One Big Series Staple Marvel's Spider-Man PS5 Remaster Will Not Get A Physical Release The Next Nintendo Console Will Release Before 2100 Apple AirPods Pro New iPhone 12 mini leaked in name and size BlizzConline will bring back Blizzard’s canceled convention as an online show in February Adobe Demonstrates Powerful New Sky Replacement Feature Coming to Photoshop Xbox Series X and S preorders may face supply constraints at GameStop iPhone may not be 'massive event' for 5G adoption Crysis Remastered: Broken on Xbox One X, OK on PC\",\n",
              " 'New Honolulu Plan Opens Beaches, Parks, Social Gatherings To Groups… Nikola founder Trevor Milton deletes Twitter account amid fraud claims A-train derailer latest case of NYC’s system failing to protect the public American Airlines Kicks Mother Off Flight After Her 2-Year-Old Wouldn’t Wear A Mask Gilbert makes Money\\'s list of Best Places to Live Shopify says customer data likely exposed as employees accessed records Centrist Democrats \\'strongly considering\\' discharge petition on GOP PPP bill Utah billionaire exits electric truck company under fire Bed Bath & Beyond Could Be Closing a Store Near You Palantir says it expects 42% revenue growth this year to $1.06 billion Stock Markets Rebound as Amazon Chases Peloton; High Hopes for Aurora Cannabis Aurora Cannabis down 10% on soft revenue outlook Shopify reveals employees stole customer data from merchants Lenders will not file Form 1099-C for forgiven PPP loans CDC advises Americans to not trick-or-treating or to costume parties in new coronavirus guidance Stitch Fix (SFIX) earnings Q4 2020 Stocks End Higher as Tech Leads Amid Economic Uncertainty Halloween 2020 In NJ: CDC Weighs In On Trick-Or-Treating FDA to announce tougher standards for a coronavirus vaccine that make it unlikely one will be cleared by Election Day Wells Fargo CEO: ‘Limited pool of black talent to recruit from’ Wells Fargo CEO ruffles feathers with comments about diverse talent Carnival Cuts More Than 100 Ship Officers Wisconsin among states added to Chicago’s emergency travel order Tokenized Bitcoin on Ethereum Now Tops $1.1 B: Here\\'s Why Trump administration supports stimulus package with direct payments: Mnuchin Peloton Slips After Echelon Reveals $499 \\'Prime Bike\\' With Amazon New PPP angst: Waiting for SBA to sign off on loan forgiveness Coronavirus cases surge across Canada as health officials warn infections could reach 5,000 per day Full List: Bed Bath & Beyond plans to close these stores by the end of 2020 Experts Think The Economy Would Be Stronger If COVID-19 Lockdowns Had Been More Aggressive CDC scandal gets worse: This is why Trump can\\'t be trusted with a coronavirus vaccine Amazon prevents some rivals from advertising competing devices Delta will delay decision to furlough pilots until November, union says CDC lists Halloween trick-or-treating as high risk for COVID-19 Gold, silver bulls work to stabilize prices but jury still out Canada at \\'crossroads\\' as COVID-19 cases surge Aetna Ranks 2 NJ Counties Among Nation\\'s Healthiest Communities S&P 500: The \\'Fall\\' Ahead Amazon Care employee virtual clinic expands across Washington state Will Taking a Cruise Ever Be Fun Again? New Amazon-sponsored stationary bike sends Peloton shares down US death toll from coronavirus hits 200,000 Costco pulls Palmetto Cheese from stores amid calls to boycott Costco pulls Palmetto Cheese from 120 stores after owner calls BLM \\'terror organization\\' 2 Minnesota cities in Money.com\\'s Top 50 Best Places to Live in the U.S. GE plans big shift away from coal-fired power sector NC unveils coronavirus exposure tracking app Jeff Bezos to open first location of nonprofit preschool Lennon\\'s killer says he sought glory, deserved death penalty Sizzler steakhouse chain files for bankruptcy amid COVID-19 Xbox Could Buy Even More Game Studios In The Future, Microsoft CEO Says iPhone 12 launch date and pre-orders just leaked - mark your calendars If Microsoft Flight Simulator has you craving air combat, try this flight sim next Amazon Prime Day 2020 - Date, deals, and everything you need to know Amazon signals Prime Day will start Oct. 13 Google Pixel 5 just fully leaked - here\\'s the final design and specs Microsoft exclusively licenses OpenAI’s groundbreaking GPT-3 text generation model Halo Infinite Preorders Are Live, Including A Discounted Bundle ‘The Masked Singer’ Season 4 Guesses & Reveals: Predictions, Theories Bright Memory is an Xbox Series X/S Launch Title, BM: Infinite Hits the Platform in 2021 There\\'s No Emoji That\\'s More 2020 Than This New One Massive data leak of Microsoft\\'s Bing mobile app left more than 100 MILLION records exposed online Despite a rough year for digital media, Blavity and The Shade Room are thriving How Intel is aiming for a PC processor comeback Stream Disney+ on Nest Hub and other Google smart displays now Samsung brings its free TV streaming service to select Galaxy phones RTX 3080 review: It’s time to get into PC gaming Nokia 2.4 and 3.4 go official w/ sub-$200 pricing Where To Preorder The Xbox Series X And Xbox Series S Xbox Series X Official Packaging Invites You To \\'Power Your Dreams\\' This Microsoft Flight Simulator video highlights 40 years of PC gaming changes Red Dead Online Leak Reveals \"Army of Fear\" Zombie Update Microsoft gets exclusive license for OpenAI\\'s GPT-3 language model HMD is bringing a 5G smartphone and wireless earbuds to the US Bose SoundSport Free True Wireless Sport Headphones are on sale at Amazon Fortnite and Rocket League are hosting a crossover event with themed rewards Premature OnePlus 8T Amazon listing points to cheaper starting price Microsoft’s Edge browser is arriving on Linux in beta next month Jabra unveils Elite 85t true wireless earbuds with active noise cancellation How to get iOS 14-style widgets on your Android phone right now Samsung TV Plus To Debut on Select Galaxy Smartphones HP unveils its first Chromebox in two years, starting at $254 No Man’s Sky: Origins update: Everything that’s new AMD: New Highs Imminent A $699 Pixel 5 could be the bargain of the year - if Google doesn\\'t mess things up Kurzgesagt and Wait but Why collaborate on beautiful Universe in a Nutshell app Apple Watch 6’s blood oxygen sensor is unreliable and misleading Android 11 review: The devil is in the details Blizzard cofounder Mike Morhaime launches new gaming endeavor Dreamhaven Apple launches first online store in India NVIDIA GeForce RTX 3080 20 GB & GeForce RTX 3060 Graphics Cards Confirmed By Galax Samsung 980 PRO PCIe 4.0 NVMe SSD with write speeds of up to 5,000MB/s Superhero Bits: \\'WandaVision\\' Release Date Rumors, New Details on \\'Spider-Man: Miles Morales\\' & More Destiny 2 Expansions Forsaken And Shadowkeep Are Both Available Now On Xbox Game Pass Xbox Could Buy Even More Game Studios In The Future, Microsoft CEO Says iPhone 12 launch date and pre-orders just leaked - mark your calendars If Microsoft Flight Simulator has you craving air combat, try this flight sim next Amazon Prime Day 2020 - Date, deals, and everything you need to know Amazon signals Prime Day will start Oct. 13 Google Pixel 5 just fully leaked - here\\'s the final design and specs Microsoft exclusively licenses OpenAI’s groundbreaking GPT-3 text generation model Halo Infinite Preorders Are Live, Including A Discounted Bundle ‘The Masked Singer’ Season 4 Guesses & Reveals: Predictions, Theories Bright Memory is an Xbox Series X/S Launch Title, BM: Infinite Hits the Platform in 2021 There\\'s No Emoji That\\'s More 2020 Than This New One Massive data leak of Microsoft\\'s Bing mobile app left more than 100 MILLION records exposed online Despite a rough year for digital media, Blavity and The Shade Room are thriving How Intel is aiming for a PC processor comeback Stream Disney+ on Nest Hub and other Google smart displays now',\n",
              " 'Jim Cramer recommends buying Big Tech, dividend stocks into weakness No more \\'Uncle Ben\\'s,\\' now the rice brand is \\'Ben\\'s Original\\' Cannabis may help or hinder virus damage - or both, early studies find U.S. faces dollar crash, high double-dip recession odds: Stephen Roach Start buying some stock if it pulls back Berkeley will ban candy, soda, chips from checkstands at grocery stores Pebble CEO Tom Collier resigns after release of secretly recorded videos Exclusive: Top adviser steps aside from FDA COVID-19 vaccine reviews over potential conflict Exclusive: Top adviser steps aside from FDA COVID-19 vaccine reviews over potential conflict Exclusive: Top adviser steps aside from FDA COVID-19 vaccine reviews over potential conflict JPMorgan set to pay $1 billion fine for metals market manipulation $1 Billion in Bitcoin Options Expire Friday. Here’s What It Means Wells Fargo CEO issues apology after saying there was a \\'limited pool of Black talent\\' All bars in Jefferson Parish will be allowed to open for on-premise consumption Health officials report two new COVID-19 related deaths in SLO County, 26 new cases Stocks slide, dollar gains as data signals sputtering recovery Wall Street closes lower on fears of a slowing economy Market Wrap: Bitcoin Drops to $10.2K; Scaling Solution xDai Doubles in Value Locked Nikola Stock Drops 26% After BP Backs Away From Hydrogen-Station Deal Natural Gas Market Deficit Over Winter May Exceed 5 Bcf/D This Coming Cold Season Lockdown lifted at Scott Air Force Base PPP loan forgiveness: What CPAs should be doing now Fed calls for more fiscal stimulus. Market analysts on what\\'s next Why Shares of Workhorse Group and DiamondPeak Holdings Dropped on Wednesday Trump\\'s coronavirus vaccine czar says he\\'s had \\'enough\\' of Democratic calls for his firing over pharma stock holdings Hero who nabbed NYC subway \\'saboteur\\' has year of free rides NYC Diners React to the Return of Indoor Dining on September 30 Bed Bath & Beyond to Close New York City Store Tesla promises cars that connect to the grid, even if Elon Musk doesn’t really want them to Is it safe to trick or treat in pandemic? CDC guidelines Tesla experienced an hour-long network outage early Wednesday Citi creates $1 billion initiative to close the racial wealth gap How \\'Shark Tank\\'s Star Mark Cuban Set a Guinness World Record JPMorgan to pay almost $1 billion fine to resolve US investigation into trading practices Jim Cramer: Tesla, Nike, and a Tale of Expectations Don\\'t Sweat the Prime Bike Snafu: These 2 Other Recent Amazon Announcements Are Much Bigger Deals GoodRx jumps on IPO, +50% after pricing above range Tesla -8% as network outage, Battery Day reveals and tariff lawsuit digested Tesla’s global network outage disables mobile app functionality shares surge in market debut Wayfair is offering up to 80 percent off during Way Day 2020 Tencent Trades At 40% Discount US STOCKS-Wall Street retreats as business activity slows Amazon just dropped the Big Fall Sale and TV prices are unbelievable Volkswagen introduces ID 4 electric SUV with 250 miles of range and a $40,000 price tag Nikola\\'s talks with energy firms stalled after short-seller report: WSJ Tesla: Where Battery Day Went Wrong Southwest Airlines CEO \\'hopeful\\' on more government aid but hesitant to cut capacity Jim Cramer says \\'General Mills is back\\' after company beats expectations and hikes dividend Peloton Rebounds as Amazon Debunks $499 \\'Prime Bike\\' Offering No Man\\'s Sky Origins Finally Keeps Original Trailer\\'s Promise 7 Years Later Amazon Prime Day Begins Oct. 13: Report So, What Happens Now With Elder Scrolls 6, Starfield, And Bethesda\\'s PS5 Exclusives? Here\\'s Every Angle of the 2021 BMW M3 and M4 Twitter to start testing voice DMs Surprise! Xbox Series X/S Preorders Were A Total Mess, Too Scientists develop a prosthetic hand that is able to restore over 90 per cent of functionality Samsung\\'s New 980 Pro Is the Fastest Consumer SSD Ever Built NVIDIA\\'s Quadro RTX (Ampere) 48 GB Graphics Card Pictured With Blower-Style Cooling Solution Tokyo Game Show 2020: Schedule and How to Watch Online Rumor: Metal Gear Solid is Getting a Full-On Remake for PS5 Verizon’s Samsung Galaxy S20 Fan Edition 5G Ultra Wideband is an absurd phone name Blue Origin job listing sheds more light on its space-based orbital habitat ambitions Detailed Pixel 4a 5G leak tells us everything about Google\\'s next midrange phone Mini \\'wind turbine\\' can scavenge energy from the breeze and power your phone Google expands its Flutter development kit to Windows apps Android\\'s yearly updates aren\\'t for you anymore The Game Awards return December 10th The Game Awards 2020 set for December 10 Call of Duty: Warzone’s season 6 trailer shows off subways Amazon’s long-delayed Prime Day is reportedly coming Oct. 13 Former Blizzard CEO Mike Morhaime announces new game company The Next Big Breakthrough in AI Will Be Around Language No Man’s Sky: Origins update: Everything that’s new AMD: New Highs Imminent Nvidia RTX 3090 graphics card: available now at these retailers Starfield Got \"Major Engine Rewrite,\" But Director Waiting \"As Long As Possible\" To Show It Xbox Series X, PS5 fiascos show the problem with preorders in the digital age When will Apple launch the iPhone 12? Here\\'s our best guess. Retail packaging for Chromecast with Google TV leaks on video No Man\\'s Sky Origins Finally Keeps Original Trailer\\'s Promise 7 Years Later Amazon Prime Day Begins Oct. 13: Report So, What Happens Now With Elder Scrolls 6, Starfield, And Bethesda\\'s PS5 Exclusives? Here\\'s Every Angle of the 2021 BMW M3 and M4 Twitter to start testing voice DMs Surprise! Xbox Series X/S Preorders Were A Total Mess, Too Scientists develop a prosthetic hand that is able to restore over 90 per cent of functionality Samsung\\'s New 980 Pro Is the Fastest Consumer SSD Ever Built NVIDIA\\'s Quadro RTX (Ampere) 48 GB Graphics Card Pictured With Blower-Style Cooling Solution Tokyo Game Show 2020: Schedule and How to Watch Online Rumor: Metal Gear Solid is Getting a Full-On Remake for PS5 Verizon’s Samsung Galaxy S20 Fan Edition 5G Ultra Wideband is an absurd phone name',\n",
              " 'Pumpkin Spice mac-and-cheese? Kraft is bringing it to the US Grand Central Terminal workers had secret \\'man cave\\' under New York City landmark Secret \\'man cave\\' with fridge, futon, TV discovered below Grand Central Terminal Electrified by Tesla, Chinese startups are on the charge Trick-or-treating can happen in NH, but state officials release COVID-19 safety tips More PPP loan questions after companies paid dividends, bought their own stock DOH reports 90 new cases, with 2 additional fatalities ‘Apple Store of DeFi’ Is Bringing Yield Farming to Bitcoin, XRP Justice Dept. expected to file antitrust action vs. Google Regal Cinemas Future Looks Grim With $1.6 Billion Losses Highgate Hotels Buys $2.8B Colony Capital Hotel Portfolio United to be first U.S. airline to offer covid-19 tests for passengers Mark Cuban calls for $1,000 stimulus checks every 2 weeks through November Citigroup says racism has cost US economy $16 trillion Novavax starts late-stage Covid-19 vaccine trial in UK Massachusetts Construction Worker Dies From Eating Too Much Black Licorice Breast cancer and sexual harassment survivor Sheryl Crow opens up about ‘darkest moments’ of her life Novavax initiates pivotal study of COVID-19 vaccine candidate; shares up 5% ‘Triple whammy’ of smoke, heat, smog to spoil Bay Area weekend air quality Berkshire Hathaway Makes a Big Bet on Old Media Verizon, T-Mobile reach $116 million California settlement Metro-North workers had a hidden \\'man cave’ under Grand Central where they napped, drank beer and watched TV, watchdog says Tesla Model S Plaid Laguna Seca Lap Record Onboard Video Hundreds of billions of dollars in unused aid could be reallocated, say Fed Chair Powell and Secretary Mnuchin Nikola shares fall to new low on Wedbush downgrade Google will help employees pay off student loans amid \\'debt crisis\\' Bet You Didn\\'t Expect Halloween Candy to Sell Like This Secret \"Man Cave\" Discovered Under Grand Central Terminal A trial is needed to determine which Covid-19 vaccines work best Tesla Stock Will Surge 27% to $500, According to This Analyst Ring announces new line of security cameras for cars Rite Aid\\'s Q2 Results Were Great, but Its Full-Year Guidance Wasn\\'t Why Carnival, Royal Caribbean, and Norwegian Cruise Line Holdings Stocks Are All Sinking Thursday A software provider to U.S. counties says it was hacked Berkeley Is First in the U.S. to Ban Candy, Chips, and Soda From Grocery Store Checkout Lanes How a Texas town is using poop to beat COVID-19 outbreaks Industry City Megadevelopment Deal Falls Apart in Brooklyn Latest news on the Covid-19 pandemic Why Plug Power Stock Dropped 10% This Morning Mnuchin, Powell say some $380 billion in unused aid could help U.S. economy Mnuchin, Powell say some $380 billion in unused aid could help U.S. economy 89-Year-Old Pizza Delivery Man Who Went Viral on TikTok Receives Crowdfunded, $12K Tip Pandemic slashes sales at Olive Garden\\'s Times Square location by 94% Racial inequality cost the economy $16 trillion over the last two decades, Citi finds Trump Data Guru Disqualified for ‘Shady’ Campaign Tactics Target to hire 130,000 holiday workers, jobs to focus on online orders Whole Foods employees say Amazon workers are causing chaos in stores New Home Sales Hit 14-Year High; 30-Year Mortgage Rates 2.9% 3 Stocks to Buy and Hold for the Next 50 Years Chinese company says coronavirus vaccine ready by early 2021 Durable goods orders August 2020 Giant rat wins animal hero award for sniffing out landmines FDA issues warning over TikTok \\'Benadryl Challenge\\' Destiny 2 is Adding Some Exciting Elements to Missions NASA narrows source of leak on the space station to 2 areas Drone home: Amazon’s new Ring indoor security camera gives flight to new privacy concerns Amazon\\'s new products include flying security camera for your home, virtual assistant for kids Apple Watch Series 6 review Japan’s initial Xbox Series X/S pre-orders have quickly sold out everywhere Amazon redesigns Fire TV, introduces new Fire TV Stick and low-cost Fire TV Stick Lite Pick up a Pixel 4 XL with 128GB of storage for just $650 from Amazon ($350 off) Google Maps\\' color-coded regions let you see COVID-19 spikes near you Clinic worker says pro-life women would justify their own abortions Microsoft Flight Simulator’s free Japan World Update revealed Amazon\\'s new Fire TV Stick and TV Stick Lite are faster and have remotes you won\\'t hate Annoying Android 11 bug basically breaks multitasking PS5 pre-orders will hit GameStop tomorrow - but there\\'s a catch Amazon Fire TV Stick and Fire TV Stick Lite announced, start at $30 Amazon’s Alexa becomes a better conversationalist and can now ask you questions, too The latest Eero mesh Wi-Fi routers support Wi-Fi 6 PS5 Preorders Will Be Available At GameStop Stores And Online Tomorrow Blue Origin scrubs New Shepard rocket launch due to power glitch LG Wing teardown reveals how that wild, rotating hinge works Leaked Google marketing image shows the Pixel 5 in green How does Hades run on Nintendo Switch? The Nier mobile game is coming to the West How Baldur’s Gate 3 deals with relationships and sex How Does the Dynamic Range of the Canon EOS R5 Compare to the Sony a7R III? TicWatch Pro 3 hands-on: Notable upgrades [Video] Kirby Fighters 2 is out now for Nintendo Switch Dell Latitude 7410 Chromebook Enterprise unboxing and hands-on [VIDEO] This leaked green Pixel 5 is the phone color of my dreams Google Maps adds COVID-19 tracker to show hot spots TicWatch Pro 3 brings Wear OS its first Snapdragon 4100 Canon Unveils EOS C70 RF Mount Cine Camera and EF-to-RF Speedbooster Nier Replicant release date, deluxe edition announced Nvidia RTX 3090 graphics card: available now at these retailers R-Type Final 2 third trailer iPhone 12 names shown on claimed silicone case stickers Microsoft issues warning about actively exploited Zerologon vulnerability in Windows Google\\'s Nest Audio smart speaker detailed in early unboxing shots Call of Duty: Warzone is introducing fast-travel with a subway system The Jeep Wrangler Stuck on a Mountain Ridge Has Been Rescued, But Not by Ford Left 4 Dead 2 Gets A Massive Update Called The Last Stand It\\'s not just you, a bunch of Google services were having issues Destiny 2 is Adding Some Exciting Elements to Missions NASA narrows source of leak on the space station to 2 areas Drone home: Amazon’s new Ring indoor security camera gives flight to new privacy concerns Amazon\\'s new products include flying security camera for your home, virtual assistant for kids Apple Watch Series 6 review Japan’s initial Xbox Series X/S pre-orders have quickly sold out everywhere Amazon redesigns Fire TV, introduces new Fire TV Stick and low-cost Fire TV Stick Lite Pick up a Pixel 4 XL with 128GB of storage for just $650 from Amazon ($350 off) Google Maps\\' color-coded regions let you see COVID-19 spikes near you Clinic worker says pro-life women would justify their own abortions']"
            ]
          },
          "metadata": {},
          "execution_count": 9
        }
      ]
    },
    {
      "cell_type": "code",
      "source": [
        "def load_data(data_path, tokenizer, max_tokens=512, batch_size=16, shuffle=True):\n",
        "    df = pd.read_csv(data_path)\n",
        "\n",
        "    # Extract titles, labels, and convert them to lists\n",
        "    titles = df['Title'].tolist()\n",
        "    labels = df['Label'].tolist()\n",
        "\n",
        "    input_ids_list = []\n",
        "    attention_masks_list = []\n",
        "\n",
        "    for title in titles:\n",
        "        #encoding\n",
        "        inputs = tokenizer(title, return_tensors='pt', padding=True, truncation=True, max_length=max_tokens)\n",
        "\n",
        "        # Extract input_ids tensor and attention_mask tensor from the BatchEncoding\n",
        "        input_ids = inputs['input_ids']\n",
        "        attention_mask = inputs['attention_mask']\n",
        "\n",
        "        input_ids_list.append(input_ids)\n",
        "        attention_masks_list.append(attention_mask)\n",
        "\n",
        "    # Find the maximum sequence length\n",
        "    max_sequence_length = max(input_ids.shape[1] for input_ids in input_ids_list)\n",
        "\n",
        "    # Pad input_ids and attention_mask tensors to have the same length\n",
        "    for i in range(len(input_ids_list)):\n",
        "        input_ids_list[i] = torch.cat([input_ids_list[i], torch.zeros(1, max_sequence_length - input_ids_list[i].shape[1], dtype=torch.long)], dim=1)\n",
        "        attention_masks_list[i] = torch.cat([attention_masks_list[i], torch.zeros(1, max_sequence_length - attention_masks_list[i].shape[1], dtype=torch.long)], dim=1)\n",
        "\n",
        "    # Stack input_ids tensors and attention_mask tensors along dim=0\n",
        "    input_ids = torch.stack(input_ids_list)\n",
        "    attention_masks = torch.stack(attention_masks_list)\n",
        "\n",
        "    # Convert labels to a tensor\n",
        "    labels = torch.tensor(labels, dtype=torch.long)\n",
        "\n",
        "    # Create a TensorDataset\n",
        "    dataset = TensorDataset(input_ids, attention_masks, labels)\n",
        "\n",
        "    # Create a DataLoader\n",
        "    dataloader = DataLoader(dataset, batch_size=batch_size, shuffle=shuffle)\n",
        "\n",
        "    return dataloader"
      ],
      "metadata": {
        "id": "J-_INSR-Uzl3"
      },
      "execution_count": 10,
      "outputs": []
    },
    {
      "cell_type": "code",
      "source": [
        "num_blocks = 4\n",
        "\n",
        "# Lists to store train and test DataLoaders for each block\n",
        "train_dataloaders = []\n",
        "test_dataloaders = []\n",
        "\n",
        "# Load data for each block\n",
        "for i in range(num_blocks):\n",
        "    train_data_path = f'/content/drive/MyDrive/Text2Trade/data/block{i}_train.csv'\n",
        "    test_data_path = f'/content/drive/MyDrive/Text2Trade/data/block{i}_test.csv'\n",
        "\n",
        "    train_dataloader = load_data(train_data_path, tokenizer, batch_size=16, shuffle=True)\n",
        "    test_dataloader = load_data(test_data_path, tokenizer, batch_size=16, shuffle=False)\n",
        "\n",
        "    train_dataloaders.append(train_dataloader)\n",
        "    test_dataloaders.append(test_dataloader)"
      ],
      "metadata": {
        "id": "RKCkjD8lU3Ke"
      },
      "execution_count": 11,
      "outputs": []
    },
    {
      "cell_type": "code",
      "source": [
        "block0_train_dataloader = train_dataloaders[0]\n",
        "\n",
        "# Iterate through the dataloader to view the first batch\n",
        "for batch in block0_train_dataloader:\n",
        "    input_ids, attention_mask, labels = batch\n",
        "    print(\"Input IDs:\", input_ids)\n",
        "    print(\"Attention Mask:\", attention_mask)\n",
        "    print(\"Labels:\", labels)\n",
        "    break  # Stop after viewing the first batch"
      ],
      "metadata": {
        "colab": {
          "base_uri": "https://localhost:8080/"
        },
        "id": "yp3GpUwIU4VV",
        "outputId": "c6b62109-2fb8-4176-c92a-f9d3d92d3876"
      },
      "execution_count": 12,
      "outputs": [
        {
          "output_type": "stream",
          "name": "stdout",
          "text": [
            "Input IDs: tensor([[[  101,  1005, 13255,  ..., 13749,  1029,   102]],\n",
            "\n",
            "        [[  101,  1001,  1001,  ...,  7661,  7020,   102]],\n",
            "\n",
            "        [[  101,  5414,  2951,  ...,  1001, 16985,   102]],\n",
            "\n",
            "        ...,\n",
            "\n",
            "        [[  101,  3958, 29433,  ...,  3573, 26060,   102]],\n",
            "\n",
            "        [[  101,  5766,  1001,  ...,  1001,  6819,   102]],\n",
            "\n",
            "        [[  101,  2017,  1521,  ...,  3384, 12312,   102]]])\n",
            "Attention Mask: tensor([[[1, 1, 1,  ..., 1, 1, 1]],\n",
            "\n",
            "        [[1, 1, 1,  ..., 1, 1, 1]],\n",
            "\n",
            "        [[1, 1, 1,  ..., 1, 1, 1]],\n",
            "\n",
            "        ...,\n",
            "\n",
            "        [[1, 1, 1,  ..., 1, 1, 1]],\n",
            "\n",
            "        [[1, 1, 1,  ..., 1, 1, 1]],\n",
            "\n",
            "        [[1, 1, 1,  ..., 1, 1, 1]]])\n",
            "Labels: tensor([1, 1, 1, 0, 1, 1, 1, 0, 1, 1, 1, 1, 1, 0, 0, 1])\n"
          ]
        }
      ]
    },
    {
      "cell_type": "code",
      "source": [
        "optimizer = AdamW(model.parameters(), lr=2e-5, eps=1e-8)\n",
        "\n",
        "#we want to leave the last block as \"test\" after fine tuning.\n",
        "epochs = 4\n",
        "# Total number of training steps is [number of batches] x [number of epochs].\n",
        "# (Note that this is not the same as the number of training samples).\n",
        "total_steps = len(train_dataloader) * epochs\n",
        "\n",
        "# Create the learning rate scheduler.\n",
        "scheduler = get_linear_schedule_with_warmup(optimizer,\n",
        "                                            num_warmup_steps = 0,\n",
        "                                            num_training_steps = total_steps)"
      ],
      "metadata": {
        "id": "cKmH4XqZVG87"
      },
      "execution_count": 13,
      "outputs": []
    },
    {
      "cell_type": "code",
      "source": [
        "training_stats = []\n",
        "block_validation_losses = []\n",
        "all_validation_losses = []\n",
        "\n",
        "for i in range(num_blocks):\n",
        "    # Split the data into training and validation for the current block\n",
        "    train_dataloader = train_dataloaders[i]\n",
        "    validation_dataloader = test_dataloaders[i]\n",
        "\n",
        "    #train your model on the current block's training data\n",
        "    for epoch_i in range(epochs):\n",
        "        # ========================================\n",
        "        #               Training\n",
        "        # ========================================\n",
        "\n",
        "        print(f'Epoch {epoch_i + 1}/{epochs}')\n",
        "        print('Training...')\n",
        "\n",
        "        total_train_loss = 0\n",
        "        model.train()\n",
        "\n",
        "        for step, batch in enumerate(train_dataloader):\n",
        "            if step % 40 == 0 and not step == 0:\n",
        "                print('  Batch {:>5,}  of  {:>5,}.'.format(step, len(train_dataloader)))\n",
        "\n",
        "            b_input_ids = batch[0].squeeze(1)\n",
        "            b_input_mask = batch[1]\n",
        "            b_labels = batch[2]\n",
        "\n",
        "            #print(\"Shape of input_ids:\", b_input_ids.shape)\n",
        "\n",
        "            model.zero_grad()\n",
        "            outputs = model(input_ids = b_input_ids,\n",
        "                            attention_mask=b_input_mask)\n",
        "\n",
        "            #loss = outputs.loss\n",
        "            loss = nn.CrossEntropyLoss()(outputs.logits, b_labels)\n",
        "            logits = outputs.logits\n",
        "            total_train_loss += loss.item()\n",
        "\n",
        "            loss.backward()\n",
        "            torch.nn.utils.clip_grad_norm_(model.parameters(), 1.0)\n",
        "            optimizer.step()\n",
        "            scheduler.step()\n",
        "\n",
        "        avg_train_loss = total_train_loss / len(train_dataloader)\n",
        "        print(\"  Average training loss: {0:.2f}\".format(avg_train_loss))\n",
        "\n",
        "        # ========================================\n",
        "        #               Validation\n",
        "        # ========================================\n",
        "        print(\"Running Validation...\")\n",
        "\n",
        "        model.eval()\n",
        "        total_eval_accuracy = 0\n",
        "        total_eval_loss = 0\n",
        "        nb_eval_steps = 0\n",
        "\n",
        "        for batch in validation_dataloader:\n",
        "            b_input_ids = batch[0].squeeze(1)\n",
        "            b_input_mask = batch[1]\n",
        "            b_labels = batch[2]\n",
        "\n",
        "            with torch.no_grad():\n",
        "                outputs = model(b_input_ids,\n",
        "                                attention_mask=b_input_mask)\n",
        "\n",
        "            loss = nn.CrossEntropyLoss()(outputs.logits, b_labels)\n",
        "            logits = outputs.logits\n",
        "\n",
        "            total_eval_loss += loss.item()\n",
        "            logits = logits.detach().cpu().numpy()\n",
        "            label_ids = b_labels.to('cpu').numpy()\n",
        "\n",
        "            total_eval_accuracy += accuracy_score(np.argmax(logits, axis=1), label_ids)\n",
        "\n",
        "        avg_val_accuracy = total_eval_accuracy / len(validation_dataloader)\n",
        "        avg_val_loss = total_eval_loss / len(validation_dataloader)\n",
        "        print(\"  Accuracy: {0:.2f}\".format(avg_val_accuracy))\n",
        "        print(\"  Validation Loss: {0:.2f}\".format(avg_val_loss))\n",
        "\n",
        "        # Append the validation loss to the list for this block\n",
        "        block_validation_losses.append(avg_val_loss)\n",
        "\n",
        "    # Calculate the average validation loss for this block across all epochs\n",
        "    avg_validation_loss_block = sum(block_validation_losses) / len(block_validation_losses)\n",
        "    print(\"Average Validation Loss for Block {}: {:.2f}\".format(i, avg_validation_loss_block))\n",
        "\n",
        "    # Append the average validation loss for this block to the list for all blocks\n",
        "    all_validation_losses.append(avg_validation_loss_block)\n",
        "\n",
        "# Calculate the overall average validation loss across all blocks and epochs\n",
        "avg_validation_loss = sum(all_validation_losses) / len(all_validation_losses)\n",
        "print(\"Average Validation Loss Across Blocks and Epochs: {:.2f}\".format(avg_validation_loss))"
      ],
      "metadata": {
        "colab": {
          "base_uri": "https://localhost:8080/"
        },
        "id": "t2iJPzhFVJNk",
        "outputId": "2b94207e-5cce-45df-cddc-13cec70b9e65"
      },
      "execution_count": 16,
      "outputs": [
        {
          "output_type": "stream",
          "name": "stdout",
          "text": [
            "======== Epoch 1 / 1 ========\n",
            "Training...\n",
            "  Average training loss: 0.67\n",
            "Running Validation...\n",
            "  Accuracy: 0.76\n",
            "  Validation Loss: 0.60\n",
            "Average Validation Loss for Block 0: 0.60\n",
            "======== Epoch 1 / 1 ========\n",
            "Training...\n",
            "  Average training loss: 0.66\n",
            "Running Validation...\n",
            "  Accuracy: 0.58\n",
            "  Validation Loss: 0.68\n",
            "Average Validation Loss for Block 1: 0.64\n",
            "======== Epoch 1 / 1 ========\n",
            "Training...\n",
            "  Average training loss: 0.74\n",
            "Running Validation...\n",
            "  Accuracy: 0.61\n",
            "  Validation Loss: 0.67\n",
            "Average Validation Loss for Block 2: 0.65\n",
            "======== Epoch 1 / 1 ========\n",
            "Training...\n",
            "  Average training loss: 0.73\n",
            "Running Validation...\n",
            "  Accuracy: 0.47\n",
            "  Validation Loss: 0.74\n",
            "Average Validation Loss for Block 3: 0.67\n",
            "======== Epoch 1 / 1 ========\n",
            "Training...\n",
            "  Average training loss: 0.73\n",
            "Running Validation...\n",
            "  Accuracy: 0.46\n",
            "  Validation Loss: 0.75\n",
            "Average Validation Loss for Block 4: 0.69\n",
            "Average Validation Loss Across Blocks and Epochs: 0.65\n"
          ]
        }
      ]
    },
    {
      "cell_type": "code",
      "source": [
        "def load_fine_tune_data(blocks, tokenizer, max_tokens=512, batch_size=16, shuffle=True, train_ratio=0.8):\n",
        "    # Create empty lists to store data from blocks\n",
        "    titles = []\n",
        "    labels = []\n",
        "\n",
        "    # Merge data from blocks 0 to 3\n",
        "    for block in blocks[:4]:  # Blocks 0 to 3\n",
        "        # Extract titles and labels\n",
        "        block_titles = block['train']['Title']\n",
        "        block_labels = block['train']['Label']\n",
        "\n",
        "        # Append titles and labels\n",
        "        titles.extend(block_titles)\n",
        "        labels.extend(block_labels)\n",
        "\n",
        "    # Convert labels to a tensor\n",
        "    labels = torch.tensor(labels, dtype=torch.long)\n",
        "\n",
        "    # Tokenize and process titles\n",
        "    input_ids_list = []\n",
        "    attention_masks_list = []\n",
        "\n",
        "    for title in titles:\n",
        "        inputs = tokenizer(title, return_tensors='pt', padding=True, truncation=True, max_length=max_tokens)\n",
        "        input_ids = inputs['input_ids']\n",
        "        attention_mask = inputs['attention_mask']\n",
        "        input_ids_list.append(input_ids)\n",
        "        attention_masks_list.append(attention_mask)\n",
        "\n",
        "    # Find the maximum sequence length\n",
        "    max_sequence_length = max(input_ids.shape[1] for input_ids in input_ids_list)\n",
        "\n",
        "    # Pad input_ids and attention_mask tensors to have the same length\n",
        "    for i in range(len(input_ids_list)):\n",
        "        input_ids_list[i] = torch.cat([input_ids_list[i], torch.zeros(1, max_sequence_length - input_ids_list[i].shape[1], dtype=torch.long)], dim=1)\n",
        "        attention_masks_list[i] = torch.cat([attention_masks_list[i], torch.zeros(1, max_sequence_length - attention_masks_list[i].shape[1], dtype=torch.long)], dim=1)\n",
        "\n",
        "    # Stack input_ids tensors and attention_mask tensors along dim=0\n",
        "    input_ids = torch.stack(input_ids_list)\n",
        "    attention_masks = torch.stack(attention_masks_list)\n",
        "\n",
        "    # Split data into train and validation sets based on train_ratio\n",
        "    train_size = int(train_ratio * len(labels))\n",
        "    val_size = len(labels) - train_size\n",
        "\n",
        "    train_dataset = TensorDataset(input_ids[:train_size], attention_masks[:train_size], labels[:train_size])\n",
        "    val_dataset = TensorDataset(input_ids[train_size:], attention_masks[train_size:], labels[train_size:])\n",
        "\n",
        "    # Create DataLoader for train and validation sets\n",
        "    train_dataloader = DataLoader(train_dataset, batch_size=batch_size, shuffle=shuffle)\n",
        "    val_dataloader = DataLoader(val_dataset, batch_size=batch_size, shuffle=False)\n",
        "\n",
        "    return train_dataloader, val_dataloader\n",
        "\n",
        "train_dataloader, val_dataloader = load_fine_tune_data(blocks, tokenizer, batch_size=16, shuffle=True)"
      ],
      "metadata": {
        "id": "IPmVbeRiVMDu"
      },
      "execution_count": 21,
      "outputs": []
    },
    {
      "cell_type": "code",
      "source": [
        "optimizer = AdamW(model.parameters(), lr = 2e-5)\n",
        "epochs = 4\n",
        "#total number of training steps\n",
        "total_steps = len(train_dataloader) * epochs\n",
        "#create learning rate\n",
        "scheduler = get_linear_schedule_with_warmup(optimizer, num_warmup_steps=0, num_training_steps=total_steps)"
      ],
      "metadata": {
        "id": "BXZJJqDTBGl1"
      },
      "execution_count": 22,
      "outputs": []
    },
    {
      "cell_type": "code",
      "source": [
        "for epoch in range(epochs):\n",
        "    model.train()\n",
        "    total_train_loss = 0\n",
        "\n",
        "    print(f'Epoch {epoch + 1}/{epochs}')\n",
        "    print('Training...')\n",
        "\n",
        "    for step, batch in enumerate(train_dataloader):\n",
        "        input_ids, attention_mask, labels = batch\n",
        "\n",
        "        optimizer.zero_grad()\n",
        "\n",
        "        outputs = model(input_ids, attention_mask=attention_mask)\n",
        "        #loss = outputs.loss\n",
        "        loss = nn.CrossEntropyLoss()(outputs.logits, labels)\n",
        "        logits = outputs.logits\n",
        "\n",
        "        total_train_loss += loss.item()\n",
        "\n",
        "        loss.backward()\n",
        "        torch.nn.utils.clip_grad_norm_(model.parameters(), 1.0)\n",
        "\n",
        "        optimizer.step()\n",
        "        scheduler.step()\n",
        "\n",
        "    # Calculate average training loss for this epoch\n",
        "    avg_train_loss = total_train_loss / len(train_dataloader)\n",
        "    print(f\"Epoch {epoch + 1}/{epochs}\")\n",
        "    print(f\"  Average training loss: {avg_train_loss:.2f}\")\n",
        "\n",
        "    # Validation loop\n",
        "    print(\"Running Validation...\")\n",
        "    model.eval()\n",
        "    total_val_accuracy = 0\n",
        "    total_val_loss = 0\n",
        "\n",
        "    for batch in val_dataloader:\n",
        "        input_ids, attention_mask, labels = batch\n",
        "\n",
        "        with torch.no_grad():\n",
        "            outputs = model(input_ids, attention_mask=attention_mask, labels=labels)\n",
        "\n",
        "        loss = outputs.loss\n",
        "        logits = outputs.logits\n",
        "\n",
        "        total_val_loss += loss.item()\n",
        "        logits = logits.detach().cpu().numpy()\n",
        "        label_ids = labels.to('cpu').numpy()\n",
        "\n",
        "        total_val_accuracy += accuracy_score(label_ids, np.argmax(logits, axis=1))\n",
        "\n",
        "    # Calculate average validation loss and accuracy for this epoch\n",
        "    avg_val_loss = total_val_loss / len(val_dataloader)\n",
        "    avg_val_accuracy = total_val_accuracy / len(val_dataloader)\n",
        "    print(f\"  Validation loss: {avg_val_loss:.2f}\")\n",
        "    print(f\"  Validation accuracy: {avg_val_accuracy:.2f}\")"
      ],
      "metadata": {
        "id": "WUt2ZC7uD1uU"
      },
      "execution_count": null,
      "outputs": []
    }
  ]
}